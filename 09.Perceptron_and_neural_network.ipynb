{
 "cells": [
  {
   "cell_type": "markdown",
   "metadata": {},
   "source": [
    "# 1. 感知机(Perceptron)"
   ]
  },
  {
   "cell_type": "markdown",
   "metadata": {},
   "source": [
    "感知机是由美国学者Frank Rosenblatt 在1957 年提出来的。感知机是作为神经网络（深度学习）的起源的算法，学习感知机的构造也是学习通向神经网络和深度学习的一种重要思想。"
   ]
  },
  {
   "cell_type": "markdown",
   "metadata": {},
   "source": [
    "感知机接收多个输入信号，输出一个信号信号。感知机的输出信号只有激活或未激活两种状态，使用1代表激活，0代表未激活。下图是一个接收两个输入信号的感知机的例子。x1、x2 是输入信号，y 是输出信号，w1、w2 是权重。\n",
    "\n",
    "![9.perceptron.png](image/9.perceptron.png)"
   ]
  },
  {
   "cell_type": "markdown",
   "metadata": {},
   "source": [
    "图中的 ○ 称为“神经元”或者“节点”。输入信号被送往神经元时，会被分别乘以固定的权重（w1x1、w2x2）。神经元会计算传送过来的信号的总和，只有当这个总和超过了某个界限值时，才会输出1。这也称为“神经元被激活” 。这里将这个界限值称为阈值，用符号 θ 表示。\n",
    "\n",
    "$$y=\n",
    "\\begin{cases}\n",
    "0&w_1 x_1 + w_2 x2 <= \\theta \\\\\n",
    "1&w_1 x_1 + w_2 x2 > \\theta\n",
    "\\end{cases}$$\n",
    "\n",
    "如果将阈值 θ 改记为 -b，我们将 b 称为偏置(bias)，则\n",
    "\n",
    "$$y=\n",
    "\\begin{cases}\n",
    "0&w_1 x_1 + w_2 x2 + b <= 0 \\\\\n",
    "1&w_1 x_1 + w_2 x2 + b > 0\n",
    "\\end{cases}$$"
   ]
  },
  {
   "cell_type": "markdown",
   "metadata": {},
   "source": [
    "## 1.1 实现逻辑运算\n",
    "\n",
    "现在让我们考虑用感知机来解决简单的逻辑电路问题。这里首先以逻辑电路为题材来思考一下**与门**（AND gate）。与门是有两个输入和一个输出的门电路。\n",
    "\n",
    "|输入x1|输入x2|输出y|\n",
    "|--|--|-|\n",
    "| 0| 0|0|\n",
    "| 1| 0|0|\n",
    "| 0| 1|0|\n",
    "| 0| 0|1|\n",
    "\n",
    "与门仅在两个输入均为 1 时输出 1，其他时候则输出 0。"
   ]
  },
  {
   "cell_type": "markdown",
   "metadata": {},
   "source": [
    "我们使用 Python 和 Numpy 实现一个 AND() 函数，这个函数接受两个参数 x1 和 x2，并在函数内初始化参数 w1、w2 和 b："
   ]
  },
  {
   "cell_type": "code",
   "execution_count": 5,
   "metadata": {},
   "outputs": [],
   "source": [
    "import numpy as np\n",
    "\n",
    "def AND(x1, x2):\n",
    "    x = np.array([x1, x2])\n",
    "    w = np.array([0.5, 0.5])\n",
    "    b = -0.7\n",
    "    tmp = np.sum(w*x) + b           # np.sum(w*x)计算相乘后的各个元素的总和\n",
    "    if tmp <= 0:\n",
    "        return 0\n",
    "    else:\n",
    "        return 1"
   ]
  },
  {
   "cell_type": "code",
   "execution_count": 6,
   "metadata": {},
   "outputs": [
    {
     "name": "stdout",
     "output_type": "stream",
     "text": [
      "0\n",
      "0\n",
      "0\n",
      "1\n"
     ]
    }
   ],
   "source": [
    "print(AND(0, 0)) # 输出0\n",
    "print(AND(1, 0)) # 输出0\n",
    "print(AND(0, 1)) # 输出0\n",
    "print(AND(1, 1)) # 输出1"
   ]
  },
  {
   "cell_type": "markdown",
   "metadata": {},
   "source": [
    "除了“与”门，逻辑电路还有两种常用的门：**或门** (OR gate) 和**非门** (NOT gate)。其中**或门**是“只要有一个输入信号是1，输出就为1”的逻辑电路。\n",
    "\n",
    "|输入x1|输入x2|输出y|\n",
    "|--|--|-|\n",
    "| 0| 0|0|\n",
    "| 1| 0|1|\n",
    "| 0| 1|1|\n",
    "| 0| 0|1|\n",
    "\n",
    "**非门**只有一个输入端，并且输入端和输出端的电平状态总是反相的：\n",
    "\n",
    "|输入x|输出y|\n",
    "|--|--|\n",
    "| 0| 1|\n",
    "| 1| 0|"
   ]
  },
  {
   "cell_type": "markdown",
   "metadata": {},
   "source": [
    "我们继续使用 Python 实现或门和非门，其中在或门的实现中，仅设置权重和偏置的值这一点和与门的实现不同。"
   ]
  },
  {
   "cell_type": "code",
   "execution_count": 7,
   "metadata": {},
   "outputs": [],
   "source": [
    "def OR(x1, x2):\n",
    "    x = np.array([x1, x2])\n",
    "    w = np.array([0.5, 0.5])   # 仅权重和偏置与AND不同\n",
    "    b = -0.2\n",
    "    tmp = np.sum(w*x) + b\n",
    "    if tmp <= 0:\n",
    "        return 0\n",
    "    else:\n",
    "        return 1"
   ]
  },
  {
   "cell_type": "code",
   "execution_count": 9,
   "metadata": {},
   "outputs": [],
   "source": [
    "def NOT(x):\n",
    "    return 1 if x <= 0 else 0"
   ]
  },
  {
   "cell_type": "markdown",
   "metadata": {},
   "source": [
    "## 1.2 感知机的局限性"
   ]
  },
  {
   "cell_type": "markdown",
   "metadata": {},
   "source": [
    "现在我们来考虑一下**异或门**（XOR gate）。仅当x1 或x2 中的一方为1 时，才会输出1（“异或”是拒绝其他的意思）。\n",
    "\n",
    "|输入x1|输入x2|输出y|\n",
    "|--|--|-|\n",
    "| 0| 0|0|\n",
    "| 1| 0|1|\n",
    "| 0| 1|1|\n",
    "| 0| 0|0|\n",
    "\n",
    "那么，要用感知机实现这个异或门的话，应该设定什么样的权重参数呢？\n",
    "\n",
    "**实际上，用前面介绍的感知机是无法实现这个异或门的。**\n",
    "\n",
    "只拥有一层功能神经元，其学习能力非常有限。与、或、非问题都是线性可分(linearly separable)的问题，而异或属于非线性可分问题。\n",
    "\n",
    "![img](image/9.linearly_separable.png)"
   ]
  },
  {
   "cell_type": "markdown",
   "metadata": {},
   "source": [
    "## 1.3 多层感知机\n",
    "\n",
    "感知机不能表示异或门让人深感遗憾，但也无需悲观。实际上，感知机的绝妙之处在于它可以“叠加层”（通过叠加层来表示异或门是本节的要点）。\n",
    "\n",
    "下面我们试着用 Python 来实现异或门。使用之前定义的AND函数、OR函数，可以像下面这样轻松实现。"
   ]
  },
  {
   "cell_type": "code",
   "execution_count": 27,
   "metadata": {},
   "outputs": [],
   "source": [
    "def XOR(x1, x2):\n",
    "    s1 = not AND(x1, x2)\n",
    "    s2 = OR(x1, x2)\n",
    "    y = AND(s1, s2)\n",
    "    return y"
   ]
  },
  {
   "cell_type": "code",
   "execution_count": 28,
   "metadata": {},
   "outputs": [
    {
     "name": "stdout",
     "output_type": "stream",
     "text": [
      "0\n",
      "1\n",
      "1\n",
      "0\n"
     ]
    }
   ],
   "source": [
    "print(XOR(0, 0)) # 输出0\n",
    "print(XOR(1, 0)) # 输出1\n",
    "print(XOR(0, 1)) # 输出1\n",
    "print(XOR(1, 1)) # 输出0"
   ]
  },
  {
   "cell_type": "markdown",
   "metadata": {},
   "source": [
    "与门、或门是单层感知机，而异或门是一种多层感知机（multi-layered perceptron）。\n",
    "\n",
    "![img](image/9.multi_layer_perceptron.png)\n",
    "\n",
    "- 第0 层的两个神经元接收输入信号，并将信号发送至第1 层的神经元。\n",
    "- 第1 层的神经元将信号发送至第2 层的神经元，第2 层的神经元输出y。"
   ]
  },
  {
   "cell_type": "markdown",
   "metadata": {},
   "source": [
    "# 2. 神经网络"
   ]
  },
  {
   "cell_type": "markdown",
   "metadata": {},
   "source": [
    "![img](image/9.neural_network.png)\n",
    "\n",
    "最左边的一列称为输入层，最右边的一列称为输出层，中间的一列称为中间层。中间层有时也称为隐藏层。"
   ]
  },
  {
   "cell_type": "code",
   "execution_count": null,
   "metadata": {},
   "outputs": [],
   "source": []
  },
  {
   "cell_type": "code",
   "execution_count": null,
   "metadata": {},
   "outputs": [],
   "source": []
  },
  {
   "cell_type": "code",
   "execution_count": null,
   "metadata": {},
   "outputs": [],
   "source": []
  },
  {
   "cell_type": "code",
   "execution_count": null,
   "metadata": {},
   "outputs": [],
   "source": []
  },
  {
   "cell_type": "markdown",
   "metadata": {},
   "source": [
    "# 3. 反向传播算法"
   ]
  },
  {
   "cell_type": "code",
   "execution_count": null,
   "metadata": {},
   "outputs": [],
   "source": []
  },
  {
   "cell_type": "code",
   "execution_count": null,
   "metadata": {},
   "outputs": [],
   "source": []
  }
 ],
 "metadata": {
  "kernelspec": {
   "display_name": "Python 3",
   "language": "python",
   "name": "python3"
  },
  "language_info": {
   "codemirror_mode": {
    "name": "ipython",
    "version": 3
   },
   "file_extension": ".py",
   "mimetype": "text/x-python",
   "name": "python",
   "nbconvert_exporter": "python",
   "pygments_lexer": "ipython3",
   "version": "3.7.3"
  }
 },
 "nbformat": 4,
 "nbformat_minor": 2
}
