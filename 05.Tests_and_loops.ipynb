{
 "cells": [
  {
   "cell_type": "markdown",
   "metadata": {},
   "source": [
    "# 1. if 语句"
   ]
  },
  {
   "cell_type": "markdown",
   "metadata": {},
   "source": [
    "复合语句 = 首行 + \":\" + 缩进语句。\n",
    "\n",
    "Python 中所有复合语句都遵循相同格式：首行会以冒号终止，再接一个或多个嵌套语句，而且通常都是在首行下缩进的。"
   ]
  },
  {
   "cell_type": "markdown",
   "metadata": {},
   "source": [
    "Python if 语句用来选取要执行的操作，是 Python 中主要的选择工具。它也是我们首度讨论的复合语句：if 语句可以包含其它语句，也可以嵌套包含。\n",
    "\n",
    "其形式是 if 判断，后面跟着一个或多个 elif(\"else if\")判断，以及一个最终可选的 else 块。当 if 语句执行时，Python 会执行测试第一个计算结果为真的代码块，或者如果所有测试都为假时执行 else 块。if 语句一般形式如下：\n",
    "\n",
    "```python\n",
    "if test1:               # if test\n",
    "    statements1         # Associated block\n",
    "elif test2:             # Optional elifs\n",
    "    statements2\n",
    "else:\n",
    "    statements3         # Optional else\n",
    "```"
   ]
  },
  {
   "cell_type": "code",
   "execution_count": 17,
   "metadata": {
    "collapsed": true
   },
   "outputs": [
    {
     "name": "stdout",
     "output_type": "stream",
     "text": [
      "true\n"
     ]
    }
   ],
   "source": [
    "if 1:\n",
    "    print('true')"
   ]
  },
  {
   "cell_type": "code",
   "execution_count": 18,
   "metadata": {
    "collapsed": true
   },
   "outputs": [
    {
     "name": "stdout",
     "output_type": "stream",
     "text": [
      "Run away! Run away!\n"
     ]
    }
   ],
   "source": [
    "x = 'killer rabbit'\n",
    "if x == 'roger':\n",
    "    print(\"shave and a haircut\")\n",
    "elif x == 'bugs':\n",
    "    print(\"what's up doc?\")\n",
    "else:\n",
    "    print('Run away! Run away!')\n"
   ]
  },
  {
   "cell_type": "markdown",
   "metadata": {},
   "source": [
    "## 1.1. 真值测试\n",
    "\n",
    "Python 的布尔运算符和 C/C++ 语言(&&、|| 和 !)有些不同，Pyhon的三种表达式运算符为 **'and' 'or' 'not'**\n",
    "\n",
    "- 任何非零数字或非空对象都为**真**\n",
    "\n",
    "- 数字零、空对象以及特殊对象 None 都被认作是**假**\n",
    "\n",
    "- 比较和相等测试会递归应用在数据结构中\n",
    "\n",
    "- 比较和相等测试会返回 True 或 False\n",
    "\n",
    "- 布尔 **and** 和 **or** 运算符会返回真或假的操作对象"
   ]
  },
  {
   "cell_type": "markdown",
   "metadata": {},
   "source": [
    "就 **or** 测试而言，Python 会从左向右求算操作对象，然后返回第一个为真的操作对象，这通常叫做**短路计算(short-circuit evaluation)**。如果左边操作数为假，则计算右边的操作数并将其返回。"
   ]
  },
  {
   "cell_type": "code",
   "execution_count": 19,
   "metadata": {},
   "outputs": [
    {
     "data": {
      "text/plain": [
       "(2, 3)"
      ]
     },
     "execution_count": 19,
     "metadata": {},
     "output_type": "execute_result"
    }
   ],
   "source": [
    "2 or 3, 3 or 2                  # Return left operand if true"
   ]
  },
  {
   "cell_type": "code",
   "execution_count": 20,
   "metadata": {},
   "outputs": [
    {
     "data": {
      "text/plain": [
       "3"
      ]
     },
     "execution_count": 20,
     "metadata": {},
     "output_type": "execute_result"
    }
   ],
   "source": [
    "[] or 3"
   ]
  },
  {
   "cell_type": "code",
   "execution_count": 21,
   "metadata": {},
   "outputs": [
    {
     "data": {
      "text/plain": [
       "{}"
      ]
     },
     "execution_count": 21,
     "metadata": {},
     "output_type": "execute_result"
    }
   ],
   "source": [
    "[] or {}"
   ]
  },
  {
   "cell_type": "code",
   "execution_count": 22,
   "metadata": {},
   "outputs": [
    {
     "data": {
      "text/plain": [
       "(3, 2)"
      ]
     },
     "execution_count": 22,
     "metadata": {},
     "output_type": "execute_result"
    }
   ],
   "source": [
    "2 and 3, 3 and 2                # Return left operand if false"
   ]
  },
  {
   "cell_type": "markdown",
   "metadata": {},
   "source": [
    "## 1.2. if / else三元表达式"
   ]
  },
  {
   "cell_type": "markdown",
   "metadata": {},
   "source": [
    "下面的简单例子，根据 X 的真值将 A 赋值成 Y 或 Z。\n",
    "\n",
    "```python\n",
    "if X:\n",
    "    A = Y\n",
    "else:\n",
    "    A = Z\n",
    "```\n",
    "Python 中支持在一个表达式中编写出相同的结果：\n",
    "```python\n",
    "A = Y if X else Z\n",
    "```\n",
    "只有当 X 为假，才会执行表达式 Z。"
   ]
  },
  {
   "cell_type": "code",
   "execution_count": 23,
   "metadata": {},
   "outputs": [
    {
     "data": {
      "text/plain": [
       "'t'"
      ]
     },
     "execution_count": 23,
     "metadata": {},
     "output_type": "execute_result"
    }
   ],
   "source": [
    "A = 't' if 'spam' else 'f'          # For strings, nonempty means true\n",
    "A"
   ]
  },
  {
   "cell_type": "code",
   "execution_count": 24,
   "metadata": {},
   "outputs": [
    {
     "data": {
      "text/plain": [
       "'f'"
      ]
     },
     "execution_count": 24,
     "metadata": {},
     "output_type": "execute_result"
    }
   ],
   "source": [
    "A = 't' if '' else 'f'\n",
    "A"
   ]
  },
  {
   "cell_type": "markdown",
   "metadata": {},
   "source": [
    "# 2. while 和 for 循环\n",
    "\n",
    "此前已经见过这两种循环，这里会介绍一些其它的有用细节，如 break 和 continue，并且会介绍循环中常用的内置函数 (range, zip 和 map)"
   ]
  },
  {
   "cell_type": "markdown",
   "metadata": {},
   "source": [
    "## 2.1 while 循环\n",
    "\n",
    "while 语句是 Python 中最通用的迭代结构。只要顶端测试一直为真值，就会重复执行一个语句块（通常有缩进）。当测试为假时，控制权会传给 while 块后的语句。\n",
    "\n",
    "```python\n",
    "while <test>:                    # Loop test\n",
    "    <statements1>                # Loop body\n",
    "else:                            # Optional else\n",
    "    <statements2>                # Run if didn't exit loop with break\n",
    "```"
   ]
  },
  {
   "cell_type": "code",
   "execution_count": 25,
   "metadata": {},
   "outputs": [
    {
     "name": "stdout",
     "output_type": "stream",
     "text": [
      "spam pam am m "
     ]
    }
   ],
   "source": [
    "x = 'spam'\n",
    "while x:                            # While x is not empty\n",
    "    print(x, end=' ')               # In 2.X use print x,\n",
    "    x = x[1:]                       # Strip first character off x"
   ]
  },
  {
   "cell_type": "markdown",
   "metadata": {},
   "source": [
    "无限循环：Python 会一直执行主体，直到你停止执行位置。"
   ]
  },
  {
   "cell_type": "code",
   "execution_count": 26,
   "metadata": {
    "collapsed": true
   },
   "outputs": [],
   "source": [
    "# while True:\n",
    "#     print('Type Ctrl-C to stop me!')"
   ]
  },
  {
   "cell_type": "markdown",
   "metadata": {},
   "source": [
    "## 2.2 break、continue、pass和循环else\n",
    "\n",
    "- break\n",
    "      跳出整个循环语句\n",
    "\n",
    "- continue\n",
    "      跳到最近所在循环的开头处\n",
    "\n",
    "- pass\n",
    "      无运算的空占位语句。当语法需要语句但还没有实用的语句可写时，就可以使用它。\n",
    "\n",
    "- 循环else块\n",
    "      只有当循环正常离开（没有碰到 break 语句）才会执行"
   ]
  },
  {
   "cell_type": "markdown",
   "metadata": {},
   "source": [
    "加入 break  和 continue 语句后，while 循环的一般格式如下所示：\n",
    "\n",
    "```python\n",
    "while <test1>:\n",
    "    <statements1>\n",
    "    if <test2>: break               # Exit loop now, skip else if present\n",
    "    if <test3>: continue            # Go to top of loop now, to test1\n",
    "else:\n",
    "    <statements2>                  # Run if we didn't hit a 'break'\n",
    "```"
   ]
  },
  {
   "cell_type": "markdown",
   "metadata": {},
   "source": [
    "### continue\n",
    "\n",
    "continue 语句会立即跳到循环的顶端。下面示例使用 continue 跳过奇数。这个程序代码会打印所有10并大于等于0的偶数。只有当 continue 不执行时，才会运行到 print()。"
   ]
  },
  {
   "cell_type": "code",
   "execution_count": 29,
   "metadata": {},
   "outputs": [
    {
     "name": "stdout",
     "output_type": "stream",
     "text": [
      "8 6 4 2 0 "
     ]
    }
   ],
   "source": [
    "x = 10\n",
    "while x:\n",
    "    x = x - 1                              # Or, x -= 1\n",
    "    if x % 2 != 0:\n",
    "        continue                          # Odd? -- skip print\n",
    "    print(x, end=' ')"
   ]
  },
  {
   "cell_type": "markdown",
   "metadata": {},
   "source": [
    "但是，continue 会降低程序的可读性，应该尽量减少使用。上面代码可以写成："
   ]
  },
  {
   "cell_type": "code",
   "execution_count": 35,
   "metadata": {},
   "outputs": [
    {
     "name": "stdout",
     "output_type": "stream",
     "text": [
      "8 6 4 2 0 "
     ]
    }
   ],
   "source": [
    "x = 10\n",
    "while x:\n",
    "    x = x - 1\n",
    "    if x % 2 == 0:                          # Even? -- print\n",
    "        print(x, end=' ')"
   ]
  },
  {
   "cell_type": "markdown",
   "metadata": {},
   "source": [
    "### break\n",
    "\n",
    "break 语句会立刻离开循环，位于其后的循环代码都不会执行。所以有时可以引入 break 来避免嵌套化。以下是简单的交互模式下的循环，当用户在 name 中输入\"stop\"时结束。"
   ]
  },
  {
   "cell_type": "code",
   "execution_count": 9,
   "metadata": {},
   "outputs": [
    {
     "name": "stdout",
     "output_type": "stream",
     "text": [
      "Enter name:stop\n"
     ]
    }
   ],
   "source": [
    "while True:\n",
    "    name = input('Enter name:')             # Use raw_input() in 2.X\n",
    "    if name == 'stop':\n",
    "        break\n",
    "    age = input('Enter age: ')\n",
    "    print('Hello', name, '=>', int(age) ** 2)"
   ]
  },
  {
   "cell_type": "markdown",
   "metadata": {},
   "source": [
    "### 循环else\n",
    "\n",
    "循环else 分句是 Python 特有的，一些初学者容易产生困惑。和循环else 子句结合时，break 语句通常可以忽略其他语言中所需的搜索状态标志位。例如，下面程序搜索大于 1 的因子，用来决定正整数 y 是否为质数。"
   ]
  },
  {
   "cell_type": "code",
   "execution_count": 10,
   "metadata": {},
   "outputs": [
    {
     "name": "stdout",
     "output_type": "stream",
     "text": [
      "12 has factor 6\n"
     ]
    }
   ],
   "source": [
    "y = 12\n",
    "x = y // 2                      # For some y > 1\n",
    "while x > 1:\n",
    "    if y % x == 0: # Remainder\n",
    "        print(y, 'has factor', x)\n",
    "        break                  # Skip else\n",
    "    x -= 1\n",
    "else:                           # Normal exit\n",
    "    print(y, 'is prime')"
   ]
  },
  {
   "cell_type": "markdown",
   "metadata": {},
   "source": [
    "例如，假设需要写个循环搜索列表的值，而且需要知道离开循环后该值是否已找到，可能会用这种方式编写该任务：\n",
    "```python\n",
    "found = False\n",
    "while x and not found:\n",
    "    if match(x[0]):          # Value at front?\n",
    "        print('Ni')\n",
    "        found = True\n",
    "    else:\n",
    "        x = x[1:]           # Slice off front and repeat\n",
    "if not found:\n",
    "    print('not found')\n",
    "```\n",
    "如果改用循环else 分句，将会得到简洁的版本。因为在循环末尾使用 else 取代了 if 测试，不再需要标志位变量了，\n",
    "```python\n",
    "while x:                   # Exit when x empty\n",
    "    if match(x[0]):\n",
    "        print('Ni')\n",
    "        break              # Exit, go around else\n",
    "    x = x[1:]\n",
    "else:\n",
    "    print('Not found')      # Only here if exhausted x\n",
    "```\n"
   ]
  },
  {
   "cell_type": "markdown",
   "metadata": {},
   "source": [
    "## 2.2 for 循环\n",
    "\n",
    "for 循环在 Python 中是一个通用的序列迭代器：可以遍历任何有序的序列对象元素。for 语句可用于字符串、列表、元组、其它内置可迭代对象以及自己创建的类对象。\n",
    "\n",
    "Python for循环的首行定义了一个赋值目标，以及向遍历的对象，首行后面是你想重复的语句块。\n",
    "```python\n",
    "for target in object:       # Assign object items to target\n",
    "    statements              # Repeated loop body: use target\n",
    "else: # Optional else part\n",
    "    statements              # If we didn't hit a 'break'\n",
    "```"
   ]
  },
  {
   "cell_type": "code",
   "execution_count": null,
   "metadata": {
    "collapsed": true
   },
   "outputs": [],
   "source": []
  },
  {
   "cell_type": "code",
   "execution_count": null,
   "metadata": {
    "collapsed": true
   },
   "outputs": [],
   "source": []
  },
  {
   "cell_type": "code",
   "execution_count": null,
   "metadata": {
    "collapsed": true
   },
   "outputs": [],
   "source": []
  }
 ],
 "metadata": {
  "kernelspec": {
   "display_name": "Python 3",
   "language": "python",
   "name": "python3"
  },
  "language_info": {
   "codemirror_mode": {
    "name": "ipython",
    "version": 3
   },
   "file_extension": ".py",
   "mimetype": "text/x-python",
   "name": "python",
   "nbconvert_exporter": "python",
   "pygments_lexer": "ipython3",
   "version": "3.7.3"
  }
 },
 "nbformat": 4,
 "nbformat_minor": 2
}
