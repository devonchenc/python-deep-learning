{
 "cells": [
  {
   "cell_type": "markdown",
   "metadata": {},
   "source": [
    "# 1. Python介绍\n",
    "\n",
    "![image](https://www.python.org/static/img/python-logo.png)\n",
    "\n",
    "Python 是一个结合了解释性、编译性、互动性和面向对象的脚本语言。Python 是一种开发效率极高的语言：相比于众多其他的语言，使用 Python 编写时，程序包含的代码行更少。Python 的语法也有助于创建整洁的代码：相比其他语言，使用 Python 编写的代码更容易阅读、调试和扩展。\n",
    "\n",
    "- 解释型语言： 开发过程中没有了编译环节。类似于PHP和Perl语言。\n",
    "\n",
    "- 交互式语言： 可以在 Python 提示符 **>>>** 后直接执行代码。\n",
    "\n",
    "- 面向对象语言： 支持面向对象程序设计思想（封装、继承、多态）以及面向对象的编程风格。\n",
    "\n",
    "- 初学者的语言：对初学者而言，Python是一种伟大的语言，它支持广泛的应用程序开发，从文本处理到网络编程、Web开发、科学计算以及人工智能。"
   ]
  },
  {
   "cell_type": "markdown",
   "metadata": {},
   "source": [
    "## Python的设计哲学\n",
    "\n",
    "**优雅、明确、简单。**\n",
    "\n",
    "Python 开发者的哲学是“用一种方法，最好是只有一种方法来做一件事”，也因此它和拥有明显个人风格的其他语言很不一样。在设计 Python 语言时，如果面临多种选择，Python 开发者一般会拒绝花俏的语法，而选择明确没有或者很少有歧义的语法。这些准则被称为“Python格言”。在 Python 解释器内运行import this命令可以获得完整的列表。\n",
    "```python\n",
    ">>> import this\n",
    "```\n",
    "```\n",
    "The Zen of Python, by Tim Peters\n",
    "\n",
    "Beautiful is better than ugly.\n",
    "Explicit is better than implicit.\n",
    "Simple is better than complex.\n",
    "Complex is better than complicated.\n",
    "Flat is better than nested.\n",
    "Sparse is better than dense.\n",
    "Readability counts.\n",
    "Special cases aren't special enough to break the rules.\n",
    "Although practicality beats purity.\n",
    "Errors should never pass silently.\n",
    "Unless explicitly silenced.\n",
    "In the face of ambiguity, refuse the temptation to guess.\n",
    "There should be one-- and preferably only one --obvious way to do it.\n",
    "Although that way may not be obvious at first unless you're Dutch.\n",
    "Now is better than never.\n",
    "Although never is often better than *right* now.\n",
    "If the implementation is hard to explain, it's a bad idea.\n",
    "If the implementation is easy to explain, it may be a good idea.\n",
    "Namespaces are one honking great idea -- let's do more of those!\n",
    "```"
   ]
  },
  {
   "cell_type": "markdown",
   "metadata": {},
   "source": [
    "## 选择Python的原因\n",
    "\n",
    "- 软件质量\n",
    "\n",
    "      在很大程度上，Python更注重可读性、一致性和软件质量，从而与脚本语言世界中的其他工具区别开来。Python代码的设计致力于可读性，因此具备了比传统脚本语言更优秀的可重用性和可维护性。此外，Python支持软件开发的高级重用机制，例如面向对象程序设计（OOP）。\n",
    "\n",
    "- 提高开发者的效率\n",
    "\n",
    "      相对于C、C++和Java等编译/静态类型语言，Python的开发者效率提高了数倍。Python代码的大小往往只有C++或Java代码的1/5~1/3。这就意味着可以录入更少的代码、调试更少的代码并在开发完成之后维护更少的代码。并且Python程序可以立即运行，无需传统编译/静态语言所必需的编译及链接等步骤，进一步提高了程序员的效率。\n",
    "      \n",
    "- 程序的可移植性\n",
    "\n",
    "      绝大多数的Python程序不做任何改变即可在所有主流计算机平台上运行。例如，在 Linux 和 Windows 之间移植Python代码，只需简单地在机器间复制代码即可。此外，Python提供了多种可选的独立程序，包括用户图形界面、数据库接入、基于Web的系统等。甚至包括程序启动和文件夹处理等操作系统接口，Python尽可能地考虑了程序的可移植性。\n",
    "      \n",
    "- 标准库的支持\n",
    "\n",
    "      Python内置了众多预编译并可移植的功能模块，这些功能模块叫做标准库。标准库支持一系列应用级的编程任务，涵盖了从字符模式到网络脚本编程的匹配等方面。此外，Python可通过自行开发的库或众多第三方的应用支持软件进行扩展。Python的第三方支持工具包括网站开发、数值计算、串口读写、游戏开发等各个方面。\n",
    "\n",
    "- 组件集成\n",
    "\n",
    "      Python脚本可通过灵活的集成机制轻松地与应用程序的其他部分进行通信。这种集成使Python成为产品定制和扩展的工具。如今，Python代码可以调用C和C++的库，可以被C和C++调用，可以与Java组件集成，可以与COM和.NET等框架进行通信，并且可以通过SOAP、XML-RPC 和 CORBA等接口与网络进行交互。Python绝不仅仅是一个独立的工具。\n",
    "\n",
    "- 享受乐趣\n",
    "      Python的易用性和强大内置工具使编程成为一种乐趣而不是繁琐的重复劳动。尽管这是一个难以捉摸的优点，但这将为开发效率的提升有很重要的帮助。\n",
    "      \n",
    "![image](image/python_packages.png)"
   ]
  },
  {
   "cell_type": "markdown",
   "metadata": {},
   "source": [
    "## Python如何运行程序\n",
    "\n",
    "- 字节码编译\n",
    "\n",
    "      当程序执行时，Python 内部（对大多数用户是完全隐藏的）会先将源代码（文件中的语句）编译成所谓字节码的形式。编译是一个简单的翻译步骤，而且字节码是源代码底层的、与平台无关的表现形式。概括地说，Python 通过把一条源语句分解为单一步骤来将这些源语句翻译成一组字节码指令。这些字节码可以提高执行速度：比起文本文件中的原始代码语句，字节码的运行速度要快得多。\n",
    "\n",
    "- Python虚拟机（PVM）\n",
    "\n",
    "      一旦程序编译成字节码（或字节码从已经存在的.pyc文件中载入），之后的字节码发送到通常称为 Python 虚拟机（Python Virtual Machine, PVM）上来执行。PVM 听起来比它本身给人的印象更深刻一些。实际上，它不是一个独立的程序，不需要安装。事实上，PVM 就是迭代运行字节码指令的一个大循环，一个接一个地完成操作。PVM 是 Python 运行引擎，它时常表现为 Python 系统的一部分，并且它是实际运行脚本的组件。从技术上来讲，它才是所谓“Python 解释器”的最后一步。\n",
    "      \n",
    "![run_program](image/1.run_program.png)"
   ]
  },
  {
   "cell_type": "markdown",
   "metadata": {},
   "source": [
    "## Python的实现\n",
    "\n",
    "可以使用多种语言根据Python语法规则编写Python解释器。\n",
    "\n",
    "- [CPython](https://en.wikipedia.org/wiki/CPython)，官方的解释器。需要区别于其他解释器的时候才以CPython称呼。这是最常用的Python版本。\n",
    "- [Jython](https://www.jython.org/)，原名JPython，使用Java语言实现的Python解释器。它将Python编译为Java字节码，并将得到的字节码映射到Java虚拟机上。Jython可以直接调用Java的各种函数库。\n",
    "- [IronPython](https://ironpython.net/)，面向.NET和ECMA CLI的Python实现。IronPython能够直接调用.net平台的各种函数库，可以将Python程序编译成.net程序。\n",
    "- [PyPy](https://pypy.org/)，使用Python语言实现的Python解释器，内存占量小，运行速度比CPython快。"
   ]
  },
  {
   "cell_type": "markdown",
   "metadata": {},
   "source": [
    "### Python是开源的吗？\n",
    "\n",
    "- Python的语法规则\n",
    "\n",
    "      Python语言的语法规则都是公开的\n",
    "- Python的解释器\n",
    "\n",
    "      Python解释器是根据Python的语法规则来执行Python脚本的程序。Python解释器可以包含任何软件license，因此可以是开源或者闭源。但是多数主流的Python解释器都是开源的，例如CPython, Jython, IronPython和PyPy等等。"
   ]
  },
  {
   "cell_type": "markdown",
   "metadata": {},
   "source": [
    "**Python的版本**\n",
    "\n",
    "当前有两个不同的Python版本：Python 2和较新的 Python 3。尽管只是统一语言的不同版本，但 Python 3几乎无法运行为 Python 2版本编写的代码。从print函数到运算符再到标准库，Python 3都相对 Python 2发生了很大变化。\n",
    "\n",
    "\n",
    "最后一个Python 2.x版本是发布于2010年的 Python 2.7，2020年1月1日后官方将不再对 Python 2.x进行支持和维护。很多遗留的老系统依旧运行在 Python2 的环境中，目前最新的版本是2019年3月发布的 Python 2.7.16。\n",
    "\n",
    "Python 3.0发布于2008年，目前最新的版本是2019年7月发布的 Python 3.7.4。\n",
    "\n",
    "Python 3才是Python的未来。"
   ]
  },
  {
   "cell_type": "markdown",
   "metadata": {},
   "source": [
    "# 2. Windows\n",
    "从 Python 官方网站 https://www.python.org/downloads/windows/ 下载 Python 安装包，目前最新版本是 Python3.7.4，下载Windows X86-64 executable installer并双击安装。\n",
    "为了可以在命令提示符窗口直接运行并且方便第三方软件找到Python路径，勾选安装界面的“Add Python3.7 to Path”选项。\n",
    "![image](image/1.installation_win.png)\n",
    "\n"
   ]
  },
  {
   "cell_type": "markdown",
   "metadata": {},
   "source": [
    "完成 Python 的安装后，要先确认一下 Python 的版本。打开 Windows 的命令提示符窗口，输入python --version命令，该命令会输出已经安装的 Python的版本信息。也可以输入 Python 命令，启动 Python 自带的解释器环境。\n",
    "\n",
    "![image](image/1.command_line.png)"
   ]
  },
  {
   "cell_type": "markdown",
   "metadata": {},
   "source": [
    "# 3. Linux\n",
    "Linux发行版本众多，目前主流的Linux发布版有Debian（及其派生版本Ubuntu、Linux Mint）、Fedora（及其相关版本Red Hat Enterprise Linux、CentOS）和openSUSE等。大多数系统已经默认集成Python环境，可能版本稍有不同，可以通过终端窗口输入 \"python\" 命令来查看本地是否已经安装Python以及Python的安装版本。例如Ubuntu 18.04.3 LTS默认集成了Python3.6.8\n",
    "```sh\n",
    "$ python3 --version\n",
    "Python 3.6.8\n",
    "```\n",
    "\n",
    "```sh\n",
    "$ python3\n",
    "Python 3.6.8 (default, Jan 14 2019, 11:02:34) \n",
    "[GCC 8.0.1 20180414 (experimental) [trunk revision 259383]] on linux\n",
    "Type \"help\", \"copyright\", \"credits\" or \"license\" for more information.\n",
    ">>> \n",
    "```"
   ]
  },
  {
   "cell_type": "markdown",
   "metadata": {},
   "source": [
    "注意到这里执行Python的命令为python3，如果需要直接用python来运行，需要建立软链接\n",
    "```shell\n",
    "$ ln -s /usr/bin/python3 /usr/bin/python\n",
    "```"
   ]
  },
  {
   "cell_type": "markdown",
   "metadata": {},
   "source": [
    "Ubuntu默认没有安装python的包管理程序pip，需要手动安装\n",
    "```bash\n",
    "$ sudo apt install python3-pip\n",
    "```"
   ]
  },
  {
   "cell_type": "markdown",
   "metadata": {},
   "source": [
    "# 4. macOS\n",
    "macOS 系统自带有 Python2.x 版本的环境，也可以在链接 https://www.python.org/downloads/mac-osx/ 下载最新版本pkg安装包进行安装。"
   ]
  },
  {
   "cell_type": "markdown",
   "metadata": {},
   "source": [
    "# 5. Anaconda\n",
    "\n",
    "![image](https://www.anaconda.com/wp-content/uploads/2018/06/cropped-Anaconda_horizontal_RGB-1-600x102.png)\n",
    "\n",
    "Python 的安装方法有很多种，但是推荐使用 [Anaconda Distribution版](https://www.anaconda.com/distribution/)。Anaconda 是一个侧重于数据分析的发行版，集成了必要的库，使用户可以一次性完成安装 NumPy、Matplotlib 等有助于数据分析的库都包含在其中。同时 Anaconda 很容易进行 Python 版本管理，能完美解决 Python2 和 Python3 的共存问题。\n",
    "\n",
    "Linux 中安装执行下面的命令\n",
    "```sh\n",
    "$ sudo chmod +x Anaconda3-2019.07-Linux-x86_64.sh\n",
    "$ sudo ./Anaconda3-2019.07-Linux-x86_64.sh\n",
    "```\n",
    "或者\n",
    "```sh\n",
    "$ bash Anaconda3-2019.07-Linux-x86_64.sh\n",
    "```"
   ]
  },
  {
   "cell_type": "markdown",
   "metadata": {},
   "source": [
    "安装完成后，Anaconda 集成了：\n",
    "- Anaconda Navigtor ：用于管理工具包和环境的图形用户界面，众多管理命令也可以在 Navigator 中手工实现。\n",
    "- Jupyter Notebook ：基于Web的交互式计算环境，可以编辑易于人们阅读的文档，用于展示数据分析的过程。\n",
    "- qtconsole ：一个可执行 IPython 的仿终端图形界面程序，相比 Python Shell 界面，qtconsole 可以直接显示代码生成的图形，实现多行代码输入执行，以及内置许多有用的功能和函数。\n",
    "- Spyder ：一个使用Python语言跨平台的科学运算集成开发环境。\n",
    "\n",
    "![image](image/1.anaconda_navigator.png)"
   ]
  },
  {
   "cell_type": "markdown",
   "metadata": {},
   "source": [
    "# 6. Python包管理\n",
    "\n",
    "## 6.1 pip\n",
    "pip 是最重要的 Python 第三方软件包。可以通过 pip 的命令下载、安装和卸载 PyPi(Python Package Index)中的的 Python 应用包，还可以轻松地将这种网络安装的方式加入到自己开发的 Python 应用中。\n",
    "```sh\n",
    "$ pip install <package_name>\n",
    "```\n",
    "\n",
    "```sh\n",
    "$ pip install numpy\n",
    "```\n",
    "使用list命令列出已经安装的Python包\n",
    "\n",
    "```sh\n",
    "$ pip list\n",
    "```\n",
    "\n",
    "还可以使用pip 搜索安装包，\n",
    "\n",
    "```sh\n",
    "$ pip search <search_string>\n",
    "```\n",
    "\n",
    "```sh\n",
    "$ pip search stress\n",
    "stress (1.0.0)                - A trivial utility for consuming system resources.\n",
    "s-tui (0.8.2)                 - Stress Terminal UI stress test and monitoring tool\n",
    "stressypy (0.0.12)            - A simple program for calling stress and/or stress-ng from python\n",
    "fuzzing (0.3.2)               - Tools for stress testing applications.\n",
    "stressant (0.4.1)             - Simple stress-test tool\n",
    "stressberry (0.1.7)           - Stress tests for the Raspberry Pi\n",
    "mobbage (0.2)                 - A HTTP stress test and benchmark tool\n",
    "stresser (0.2.1)              - A large-scale stress testing framework.\n",
    "cyanide (1.3.0)               - Celery stress testing and integration test support.\n",
    "pysle (1.5.7)                 - An interface to ISLEX, a pronunciation dictionary with stress markings.\n",
    "ggf (0.3.2)                   - global geometric factors and corresponding stresses of the optical stretcher\n",
    "pathod (0.17)                 - A pathological HTTP/S daemon for testing and stressing clients.\n",
    "MatPy (1.0)                   - A toolbox for intelligent material design, and automatic yield stress determination\n",
    "netblow (0.1.2)               - Vendor agnostic network testing framework to stress network failures\n",
    "russtress (0.1.3)             - Package that helps you to put lexical stress in russian text\n",
    "switchy (0.1.0a1)             - A fast FreeSWITCH control library purpose-built on traffic theory and stress testing.\n",
    "nx4_selenium_test (0.1)       - Provides a Python class and apps which monitor      and/or stress-test the NoMachine NX4 web interface\n",
    "physical_dualism (1.0.0)      - Python library that approximates the natural frequency from stress via physical dualism, and vice versa.\n",
    "fsm_effective_stress (1.0.0)  - Python library that uses the rheological-dynamical analogy (RDA) to compute damage and effective buckling stress in prismatic shell structures.\n",
    "processpathway (0.3.11)       - A nifty little toolkit to create stress-free, frustrationless image processing pathways from your webcam for computer vision experiments. Or observing your cat.\n",
    "```\n",
    "如果想卸载一个Python包，可以使用uninstall命令。\n",
    "```shell\n",
    "$ pip uninstall <installed_package_name>\n",
    "```"
   ]
  },
  {
   "cell_type": "markdown",
   "metadata": {},
   "source": [
    "## 6.2 conda\n",
    "conda 是 Anaconda 下用于包管理和环境管理的命令行工具，是 pip 和 vitualenv 的组合。可以利用 conda 的虚拟环境管理功能在 Python2.x 和 Python3.x 之间自由切换。\n",
    "\n",
    "```sh\n",
    "# 基于 python3.6 创建一个名为 test_py3 的环境\n",
    "$ conda create --name test_py3 python=3.6 \n",
    "# 基于 python2.7 创建一个名为 test_py2 的环境\n",
    "$ conda create --name test_py2 python=2.7\n",
    "# 激活 test_py2 环境\n",
    "$ conda activate test_py2\n",
    "$ python\n",
    "Python 2.7.16 |Anaconda, Inc.| (default, Aug 19 2019, 23:51:41)\n",
    "[GCC 7.3.0] on linux2\n",
    "Type \"help\", \"copyright\", \"credits\" or \"license\" for more information.\n",
    ">>>\n",
    "\n",
    "# 切换到test_py3\n",
    "$ conda activate test_py3\n",
    "# 切换到默认Python环境\n",
    "$ conda activate --stack\n",
    "```"
   ]
  },
  {
   "cell_type": "markdown",
   "metadata": {},
   "source": [
    "# 7. Python Console\n",
    "\n",
    "\n",
    "Python Console 也被称为 Python 控制台解释器，用户能够以和 Python 对话的方式进行编程。由于代码是立即执行的，交互模式成了实验语言绝佳的地方，尤其是示范较小的例子时常常用到。CPython 使用 **>>>** 作为提示符，而 IPython 使用 **In [序号]:** 作为提示符。现在，我们实际输入一下看看。\n"
   ]
  },
  {
   "cell_type": "code",
   "execution_count": 1,
   "metadata": {},
   "outputs": [
    {
     "name": "stdout",
     "output_type": "stream",
     "text": [
      "hello world\n"
     ]
    }
   ],
   "source": [
    "print('hello world')"
   ]
  },
  {
   "cell_type": "markdown",
   "metadata": {},
   "source": [
    "Python 解释器可以像这样进行对话式（交互式）的编程。当用户询问“1 + 2 等于几？”的时候，Python 解释器会回答“3”。"
   ]
  },
  {
   "cell_type": "code",
   "execution_count": 2,
   "metadata": {},
   "outputs": [
    {
     "data": {
      "text/plain": [
       "3"
      ]
     },
     "execution_count": 2,
     "metadata": {},
     "output_type": "execute_result"
    }
   ],
   "source": [
    "1 + 2"
   ]
  },
  {
   "cell_type": "code",
   "execution_count": 3,
   "metadata": {},
   "outputs": [
    {
     "name": "stdout",
     "output_type": "stream",
     "text": [
      "512\n"
     ]
    }
   ],
   "source": [
    "print(2 ** 9)"
   ]
  },
  {
   "cell_type": "code",
   "execution_count": 4,
   "metadata": {},
   "outputs": [
    {
     "data": {
      "text/plain": [
       "'spam!spam!spam!spam!spam!spam!spam!spam!'"
      ]
     },
     "execution_count": 4,
     "metadata": {},
     "output_type": "execute_result"
    }
   ],
   "source": [
    "'spam!' * 8"
   ]
  },
  {
   "cell_type": "markdown",
   "metadata": {},
   "source": [
    "下面的代码测试了在 Python 的标准库 os 和 sys 模块中的函数，分别是显示当前所工作的目录名称和系统平台名称："
   ]
  },
  {
   "cell_type": "code",
   "execution_count": 5,
   "metadata": {},
   "outputs": [
    {
     "data": {
      "text/plain": [
       "'D:\\\\Python\\\\python-deep-learning'"
      ]
     },
     "execution_count": 5,
     "metadata": {},
     "output_type": "execute_result"
    }
   ],
   "source": [
    "import os\n",
    "os.getcwd()"
   ]
  },
  {
   "cell_type": "code",
   "execution_count": 6,
   "metadata": {},
   "outputs": [
    {
     "name": "stdout",
     "output_type": "stream",
     "text": [
      "win32\n"
     ]
    }
   ],
   "source": [
    "import sys\n",
    "print(sys.platform)"
   ]
  },
  {
   "cell_type": "markdown",
   "metadata": {},
   "source": [
    "Python Console 也支持输入多行复合语句。如果是 for 循环或 if 条件语句，需要用一个额外的空行结束多行复合语句。"
   ]
  },
  {
   "cell_type": "code",
   "execution_count": 7,
   "metadata": {},
   "outputs": [
    {
     "name": "stdout",
     "output_type": "stream",
     "text": [
      "s\n",
      "p\n",
      "a\n",
      "m\n"
     ]
    }
   ],
   "source": [
    "for x in 'spam':\n",
    "    print(x)"
   ]
  },
  {
   "cell_type": "markdown",
   "metadata": {},
   "source": [
    "尽管交互命令行对于实验和测试来说都很好，但是它有个很大的缺点：Python 一旦执行了输入的程序之后，它们就消失了。在交互模式下输入的代码不会保存在一个文件中，所以为了能够重新运行，不得不从头开始输入。\n",
    "\n",
    "为了能够永久的保存程序，需要在文件中写入代码。一旦文件编写完成，可以将其完整的文件名作为一条 Python 命令的第一个参数，在解释器多次运行这样的文件。\n",
    "```sh\n",
    "$ python script1.py\n",
    "```\n",
    "\n",
    "- 注意文件默认扩展名\n",
    "      当保存文件时，要指定文件后缀名为 .py\n",
    "- 在文件中使用 print 语句来输出\n",
    "      在交互式会话中是不需要 print 语句的，因为 Python 自动响应表达式的结果。但在程序文件中，我们往往需要使用 print 语句来看程序文件的输出"
   ]
  },
  {
   "cell_type": "markdown",
   "metadata": {},
   "source": [
    "# 8. Python IDE (Integrated Development Environment)"
   ]
  },
  {
   "cell_type": "markdown",
   "metadata": {},
   "source": [
    "很多并非 IDE 软件的文本编辑器都对 Python 有不同程度的支持，并且加上专门为 Python 设计的编辑器插件也会有很高的可用性。例如 Emacs, Vim, Sublime Text, Notepad++, UltraEdit等。"
   ]
  },
  {
   "cell_type": "markdown",
   "metadata": {},
   "source": [
    "## Juypter Notebook\n",
    "\n",
    "Jupyter Notebook是一款开源的 Web 应用程序，可以在网页页面中直接编写代码和运行代码，代码的运行结果也会直接在代码块下显示。如在编程过程中需要编写说明文档，可在同一个页面中直接编写，便于作及时的说明和解释。Jupyter Notebook支持语法高亮、缩进、代码补全等功能，支持Markdown语法。\n",
    "![jupyter notebook](image/1.jupyter_notebook.png)"
   ]
  },
  {
   "cell_type": "markdown",
   "metadata": {},
   "source": [
    "## Visual Studio Code\n",
    "\n",
    "Visual Studio Code（简称VS Code）是一个由 Microsoft 开发，支持 Windows 、 Linux和 macOS 且开源的代码编辑器。它支持多种编程语言，支持测试，并内置了Git 版本控制功能，同时也具有开发环境功能，例如代码补全、代码片段和代码重构等。该编辑器支持用户个性化配置，例如改变主题颜色、键盘快捷方式等各种属性和参数，同时还在编辑器中内置了扩展程序管理的功能。\n",
    "\n",
    "![image](image/1.vscode.png)"
   ]
  },
  {
   "cell_type": "markdown",
   "metadata": {},
   "source": [
    "## PyCharm\n",
    "\n",
    "PyCharm 是由 JetBrains 开发的一款 Python IDE，支持 Windows、Linux和 macOS 系统。PyCharm 功能包括调试、语法高亮、Project管理、代码跳转、智能提示、自动完成、单元测试、版本控制等。Pycharm分为免费的社区版和面向企业开发者的付费专业版。\n",
    "\n",
    "![image](https://www.jetbrains.com/pycharm/img/screenshots/complexLook@2x.jpg)"
   ]
  },
  {
   "cell_type": "markdown",
   "metadata": {},
   "source": [
    "## Spyder\n",
    "\n",
    "Spyder 是一个开源的 Python 集成开发环境，适合用来进行科学计算方面的 Python 开发。它是用 Python 开发的轻量级软件，遵循MIT协议，可免费使用。Spyder的基本功能包括多语言编辑器、交互式控制台、文件查看、variable explorer、文件查找、文件管理等。Spyder IDE也可以运行于 Windows、Mac 或者 Linux系统之上。\n",
    "\n",
    "![image](image/1.spyder.png)"
   ]
  },
  {
   "cell_type": "markdown",
   "metadata": {},
   "source": [
    "## QPython\n",
    "\n",
    "[QPython](https://github.com/qpython-android/qpython3/releases) 是一个在 Android 上运行 Python3 脚本的引擎，它整合了 Python3 解释器、Console、编辑器和SL4A库，可以让你在Android设备上运行Python语言开发的程序。此外，它提供了开发工具能让你在Android设备上方便地开发Python项目。目前最新版本 QPython 支持 Python 2.7.15，QPython3 支持 Python 3.6.6。\n",
    "\n",
    "![QPython](image/1.qpython.png)"
   ]
  }
 ],
 "metadata": {
  "kernelspec": {
   "display_name": "Python 3",
   "language": "python",
   "name": "python3"
  },
  "language_info": {
   "codemirror_mode": {
    "name": "ipython",
    "version": 3
   },
   "file_extension": ".py",
   "mimetype": "text/x-python",
   "name": "python",
   "nbconvert_exporter": "python",
   "pygments_lexer": "ipython3",
   "version": "3.7.3"
  }
 },
 "nbformat": 4,
 "nbformat_minor": 2
}
