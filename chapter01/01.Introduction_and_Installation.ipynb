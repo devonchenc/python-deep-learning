{
 "cells": [
  {
   "cell_type": "markdown",
   "metadata": {},
   "source": [
    "# Python介绍与安装"
   ]
  },
  {
   "cell_type": "markdown",
   "metadata": {},
   "source": [
    "## 1. Python介绍\n",
    "\n",
    "![image](https://www.python.org/static/img/python-logo.png)\n",
    "\n",
    "Python 是一个高层次的结合了解释性、编译性、互动性和面向对象的脚本语言。\n",
    "\n",
    "Python 的设计具有很强的可读性，相比其他语言经常使用英文关键字，其他语言的一些标点符号，它具有比其他语言更有特色语法结构。\n",
    "\n",
    "- Python 是一种解释型语言： 这意味着开发过程中没有了编译这个环节。类似于PHP和Perl语言。\n",
    "\n",
    "- Python 是一种交互式语言： 这意味着可以在一个 Python 提示符 >>> 后直接执行代码。\n",
    "\n",
    "- Python 是面向对象语言： 这意味着Python支持面向对象的风格或代码封装在对象的编程技术。\n",
    "\n",
    "- Python 是初学者的语言：Python对初级程序员而言，是一种伟大的语言，它支持广泛的应用程序开发，从简单的文字处理到 WWW 浏览器再到游戏。"
   ]
  },
  {
   "cell_type": "markdown",
   "metadata": {},
   "source": [
    "**Python的设计哲学**\n",
    "\n",
    "“优雅”、“明确”、“简单”。Python开发者的哲学是“用一种方法，最好是只有一种方法来做一件事”，也因此它和拥有明显个人风格的其他语言很不一样。在设计Python语言时，如果面临多种选择，Python开发者一般会拒绝花俏的语法，而选择明确没有或者很少有歧义的语法。这些准则被称为“Python格言”。在Python解释器内运行import this可以获得完整的列表。\n",
    "```\n",
    ">>> import this\n",
    "The Zen of Python, by Tim Peters\n",
    "\n",
    "Beautiful is better than ugly.\n",
    "Explicit is better than implicit.\n",
    "Simple is better than complex.\n",
    "Complex is better than complicated.\n",
    "Flat is better than nested.\n",
    "Sparse is better than dense.\n",
    "Readability counts.\n",
    "Special cases aren't special enough to break the rules.\n",
    "Although practicality beats purity.\n",
    "Errors should never pass silently.\n",
    "Unless explicitly silenced.\n",
    "In the face of ambiguity, refuse the temptation to guess.\n",
    "There should be one-- and preferably only one --obvious way to do it.\n",
    "Although that way may not be obvious at first unless you're Dutch.\n",
    "Now is better than never.\n",
    "Although never is often better than *right* now.\n",
    "If the implementation is hard to explain, it's a bad idea.\n",
    "If the implementation is easy to explain, it may be a good idea.\n",
    "Namespaces are one honking great idea -- let's do more of those!\n",
    "```"
   ]
  },
  {
   "cell_type": "markdown",
   "metadata": {},
   "source": [
    "**Python 特点**\n",
    "\n",
    "- 易于学习：Python有相对较少的关键字，结构简单，和一个明确定义的语法，学习起来更加简单。\n",
    "\n",
    "- 易于阅读：Python代码定义的更清晰。\n",
    "\n",
    "- 易于维护：Python的成功在于它的源代码是相当容易维护的。\n",
    "\n",
    "- 一个广泛的标准库：Python的最大的优势之一是丰富的库，跨平台的，在UNIX，Windows和Macintosh兼容很好。\n",
    "\n",
    "- 互动模式：互动模式的支持，您可以从终端输入执行代码并获得结果的语言，互动的测试和调试代码片断。\n",
    "\n",
    "- 可移植：基于其开放源代码的特性，Python已经被移植到许多平台。\n",
    "\n",
    "- 可扩展：如果需要运行高效的关键代码或是不开放的算法，可以使用C/C++完成那部分程序，然后在Python程序中调用。\n",
    "\n",
    "- 数据库：Python提供所有主要的商业数据库的接口。\n",
    "\n",
    "- GUI编程：Python支持GUI可以创建和移植到许多系统调用。\n",
    "\n",
    "- 可嵌入: 可以将Python嵌入到C/C++程序，让程序的用户获得\"脚本化\"的能力。"
   ]
  },
  {
   "cell_type": "markdown",
   "metadata": {},
   "source": [
    "**Python的版本**\n",
    "\n",
    "最后一个Python 2.x版本是发布于2010年的Python 2.7，将于2020年1月1日后官方将不再对Python 2.x进行支持和维护。很多遗留的老系统依旧运行在 Python2 的环境中。\n",
    "\n",
    "Python 3.0发布于2008年。\n",
    "\n",
    "\n",
    "- Python 2还会存在很长一段时间\n",
    "- Python 3才是Python的未来\n",
    "\n",
    "Python 3.x"
   ]
  },
  {
   "cell_type": "markdown",
   "metadata": {},
   "source": [
    "**Python的实现**\n",
    "\n",
    "Python是一门跨平台的脚本语言，可以使用多种语言根据Python语法规则编写Python解释器。\n",
    "\n",
    "- [CPython](https://en.wikipedia.org/wiki/CPython)，官方的解释器。需要区别于其他解释器的时候才以CPython称呼。这是最常用的Python版本。\n",
    "- [Jython]()，原名JPython，使用Java语言实现的Python解释器。Jython可以直接调用Java的各种函数库。\n",
    "- [IronPython](https://ironpython.net/)，面向.NET和ECMA CLI的Python实现。IronPython能够直接调用.net平台的各种函数库，可以将Python程序编译成.net程序。但是目前还不支持Python3.x。\n",
    "- [PyPy](https://pypy.org/)，使用Python语言实现的Python解释器，内存占量小，运行速度比CPython快。"
   ]
  },
  {
   "cell_type": "markdown",
   "metadata": {},
   "source": [
    "**Python是开源的吗？**\n",
    "\n",
    "- Python的语法规则\n",
    "\n",
    "Python语言的语法规则都是公开的\n",
    "- Python的解释器\n",
    "\n",
    "Python解释器是根据Python的语法规则来执行Python脚本的程序。Python解释器可以包含任何软件license，可以是开源或者闭源。但是多数主流的Python解释器都是开源的，例如CPython, Jython, IronPython和PyPy等等。"
   ]
  },
  {
   "cell_type": "markdown",
   "metadata": {},
   "source": [
    "## 2. Windows\n",
    "从Python官方网站 https://www.python.org/downloads/windows/ 下载Python安装包，目前最新版本是Python3.7.4，下载Windows X86-64 executable installer并双击安装。\n",
    "为了可以在命令提示符窗口直接运行并且方便第三方软件找到Python路径，勾选安装界面的“Add Python3.7 to Path”选项。\n",
    "![image](image/installation_win.png)\n",
    "\n"
   ]
  },
  {
   "cell_type": "markdown",
   "metadata": {},
   "source": [
    "完成Python的安装后，要先确认一下Python的版本。打开Windows的命令提示符窗口，输入python --version命令，该命令会输出已经安装的Python的版本信息。也可以输入python命令，启动Python自带的解释器环境。\n",
    "\n",
    "![image](image/command_line.png)"
   ]
  },
  {
   "cell_type": "markdown",
   "metadata": {},
   "source": [
    "## 3. Linux\n",
    "Linux发行版本众多，目前主流的Linux发布版有Debian（及其派生版本Ubuntu、Linux Mint）、Fedora（及其相关版本Red Hat Enterprise Linux、CentOS）和openSUSE等。大多数系统已经默认集成Python环境，可能版本稍有不同，可以通过终端窗口输入 \"python\" 命令来查看本地是否已经安装Python以及Python的安装版本。例如Ubuntu 18.04.3 LTS默认集成了Python3.6.8\n",
    "```\n",
    "$ python3 --version\n",
    "Python 3.6.8\n",
    "```\n",
    "\n",
    "```\n",
    "$ python3\n",
    "Python 3.6.8 (default, Jan 14 2019, 11:02:34) \n",
    "[GCC 8.0.1 20180414 (experimental) [trunk revision 259383]] on linux\n",
    "Type \"help\", \"copyright\", \"credits\" or \"license\" for more information.\n",
    ">>> \n",
    "```"
   ]
  },
  {
   "cell_type": "markdown",
   "metadata": {},
   "source": [
    "注意到这里执行Python的命令为python3，如果需要直接用python来运行，需要建立软链接\n",
    "```\n",
    "$ ln -s /usr/bin/python3 /usr/bin/python\n",
    "```"
   ]
  },
  {
   "cell_type": "markdown",
   "metadata": {},
   "source": [
    "Ubuntu默认没有安装python的包管理程序pip，需要手动安装\n",
    "```\n",
    "$ sudo apt install python3-pip\n",
    "```"
   ]
  },
  {
   "cell_type": "markdown",
   "metadata": {},
   "source": [
    "## 4. macOS\n",
    "macOS系统自带有 Python2.x版本的环境，也可以在链接 https://www.python.org/downloads/mac-osx/ 下载最新版本pkg安装包进行安装。"
   ]
  },
  {
   "cell_type": "markdown",
   "metadata": {},
   "source": [
    "## 5. Anaconda\n",
    "\n",
    "![image](https://www.anaconda.com/wp-content/uploads/2018/06/cropped-Anaconda_horizontal_RGB-1-600x102.png)\n",
    "\n",
    "Python的安装方法有很多种，本课推荐使用[Anaconda Distribution版](https://www.anaconda.com/distribution/)。Anaconda是一个侧重于数据分析的发行版，集成了必要的库，使用户可以一次性完成安装NumPy、Matplotlib 等有助于数据分析的库都包含在其中。同时Anaconda很容易进行Python版本管理，能完美解决Python2 和 Python3 的共存问题。\n",
    "\n",
    "Linux中安装执行下面的命令\n",
    "```\n",
    "sudo chmod +x Anaconda3-2019.07-Linux-x86_64.sh\n",
    "sudo ./Anaconda3-2019.07-Linux-x86_64.sh\n",
    "```\n",
    "或者\n",
    "```\n",
    "bash Anaconda3-2019.07-Linux-x86_64.sh\n",
    "```"
   ]
  },
  {
   "cell_type": "markdown",
   "metadata": {},
   "source": [
    "安装完成后，Anaconda集成了：\n",
    "- Anaconda Navigtor ：用于管理工具包和环境的图形用户界面，众多管理命令也可以在 Navigator 中手工实现。\n",
    "- Jupyter Notebook ：基于Web的交互式计算环境，可以编辑易于人们阅读的文档，用于展示数据分析的过程。\n",
    "- qtconsole ：一个可执行 IPython 的仿终端图形界面程序，相比 Python Shell 界面，qtconsole 可以直接显示代码生成的图形，实现多行代码输入执行，以及内置许多有用的功能和函数。\n",
    "- Spyder ：一个使用Python语言、跨平台的、科学运算集成开发环境。\n",
    "\n",
    "![image](image/anaconda_navigator.png)"
   ]
  },
  {
   "cell_type": "markdown",
   "metadata": {},
   "source": [
    "## 6. pip包管理\n",
    "\n",
    "pip是最重要的Python第三方软件包。一旦安装了它，就可以通过一条指令下载、安装和卸载可获取到的 Python应用包，还可以轻松地将这种网络安装的方式加入到自己开发的Python应用中。\n",
    "\n",
    "```\n",
    "$ pip install numpy\n",
    "```"
   ]
  },
  {
   "cell_type": "markdown",
   "metadata": {},
   "source": [
    "conda 是 Anaconda 下用于包管理和环境管理的命令行工具，是 pip 和 vitualenv 的组合。可以利用 conda 的虚拟环境管理功能在 Python2.x 和 Python3.x 之间自由切换。\n",
    "\n",
    "```\n",
    "# 基于 python3.6 创建一个名为 test_py3 的环境\n",
    "$ conda create --name test_py3 python=3.6 \n",
    "# 基于 python2.7 创建一个名为 test_py2 的环境\n",
    "$ conda create --name test_py2 python=2.7\n",
    "# 激活 test 环境\n",
    "$ conda activate test_py2  # windows\n",
    "$ source activate test_py2 # linux/mac\n",
    "# 切换到python3\n",
    "$ conda activate test_py3\n",
    "```"
   ]
  },
  {
   "cell_type": "markdown",
   "metadata": {},
   "source": [
    "## 7. Python Console\n",
    "\n",
    "\n",
    "Python Console也被称为Python 控制台，用户能够以和Python对话的方式进行编程。CPython使用 **>>>** 作为提示符，而IPython使用 **In [序号]:** 作为提示符。现在，我们实际输入一下看看。\n"
   ]
  },
  {
   "cell_type": "code",
   "execution_count": 1,
   "metadata": {},
   "outputs": [
    {
     "name": "stdout",
     "output_type": "stream",
     "text": [
      "hello world\n"
     ]
    }
   ],
   "source": [
    "print('hello world')"
   ]
  },
  {
   "cell_type": "markdown",
   "metadata": {},
   "source": [
    "当用户询问“1 + 2 等于几？”的时候，Python解释器会回答“3”，所谓对话模式，就是指这样的交互。"
   ]
  },
  {
   "cell_type": "code",
   "execution_count": 2,
   "metadata": {},
   "outputs": [
    {
     "data": {
      "text/plain": [
       "3"
      ]
     },
     "execution_count": 2,
     "metadata": {},
     "output_type": "execute_result"
    }
   ],
   "source": [
    "1 + 2"
   ]
  },
  {
   "cell_type": "markdown",
   "metadata": {},
   "source": [
    "Python 解释器可以像这样进行对话式（交互式）的编程。下面，我们使用这个对话模式，来看几个简单的Python编程的例子。"
   ]
  },
  {
   "cell_type": "code",
   "execution_count": 3,
   "metadata": {},
   "outputs": [
    {
     "data": {
      "text/plain": [
       "-1"
      ]
     },
     "execution_count": 3,
     "metadata": {},
     "output_type": "execute_result"
    }
   ],
   "source": [
    "1 - 2"
   ]
  },
  {
   "cell_type": "code",
   "execution_count": 4,
   "metadata": {},
   "outputs": [
    {
     "data": {
      "text/plain": [
       "20"
      ]
     },
     "execution_count": 4,
     "metadata": {},
     "output_type": "execute_result"
    }
   ],
   "source": [
    "4 * 5"
   ]
  },
  {
   "cell_type": "code",
   "execution_count": 5,
   "metadata": {},
   "outputs": [
    {
     "data": {
      "text/plain": [
       "1.4"
      ]
     },
     "execution_count": 5,
     "metadata": {},
     "output_type": "execute_result"
    }
   ],
   "source": [
    "7 / 5"
   ]
  },
  {
   "cell_type": "code",
   "execution_count": 6,
   "metadata": {},
   "outputs": [
    {
     "data": {
      "text/plain": [
       "9"
      ]
     },
     "execution_count": 6,
     "metadata": {},
     "output_type": "execute_result"
    }
   ],
   "source": [
    "3 ** 2"
   ]
  },
  {
   "cell_type": "markdown",
   "metadata": {},
   "source": [
    "\\* 表示乘法，/ 表示除法，** 表示乘方（3**2 是3 的2 次方）。另外，在Python 2.x中，整数除以整数的结果是整数，比如，7 ÷ 5 的结果是1。但在Python 3.x中，整数除以整数的结果是小数（浮点数）。"
   ]
  },
  {
   "cell_type": "markdown",
   "metadata": {},
   "source": [
    "## 8. Python IDE (Integrated Development Environment)"
   ]
  },
  {
   "cell_type": "markdown",
   "metadata": {},
   "source": [
    "很多并非IDE软件的文本编辑器，对Python有不同程度的支持，并且加上专门为Python设计的编辑器插件也会有很高的可用性。例如Emacs, Vim, Sublime Text, Notepad++, UltraEdit等"
   ]
  },
  {
   "cell_type": "markdown",
   "metadata": {},
   "source": [
    "**Visual Studio Code**\n",
    "\n",
    "Visual Studio Code（简称VS Code）是一个由Microsoft开发，支持Windows 、 Linux和macOS且开源的代码编辑器。它支持多种编程语言，支持测试，并内置了Git 版本控制功能，同时也具有开发环境功能，例如代码补全、代码片段和代码重构等。该编辑器支持用户个性化配置，例如改变主题颜色、键盘快捷方式等各种属性和参数，同时还在编辑器中内置了扩展程序管理的功能。\n",
    "\n",
    "![image](image/vscode.png)"
   ]
  },
  {
   "cell_type": "markdown",
   "metadata": {},
   "source": [
    "**PyCharm**\n",
    "\n",
    "PyCharm 是由 JetBrains 开发的一款 Python IDE，支持Windows、Linux和macOS系统。PyCharm 功能包括调试、语法高亮、Project管理、代码跳转、智能提示、自动完成、单元测试、版本控制等。Pycharm分为免费的社区版和面向企业开发者的付费专业版。\n",
    "\n",
    "![image](https://www.jetbrains.com/pycharm/img/screenshots/complexLook@2x.jpg)"
   ]
  },
  {
   "cell_type": "markdown",
   "metadata": {},
   "source": [
    "**Spyder**\n",
    "\n",
    "Spyder是一个开源的python集成开发环境，非常适合用来进行科学计算方面的python开发。它是用python开发的轻量级软件，遵循MIT协议，可免费使用。Spyder的基本功能包括多语言编辑器、交互式控制台、文件查看、variable explorer、文件查找、文件管理等。Spyder IDE也可以运行于windows、Mac 或者 Linux系统之上。\n",
    "\n",
    "![image](image/spyder.png)"
   ]
  },
  {
   "cell_type": "code",
   "execution_count": null,
   "metadata": {},
   "outputs": [],
   "source": []
  }
 ],
 "metadata": {
  "kernelspec": {
   "display_name": "Python 3",
   "language": "python",
   "name": "python3"
  },
  "language_info": {
   "codemirror_mode": {
    "name": "ipython",
    "version": 3
   },
   "file_extension": ".py",
   "mimetype": "text/x-python",
   "name": "python",
   "nbconvert_exporter": "python",
   "pygments_lexer": "ipython3",
   "version": "3.7.3"
  }
 },
 "nbformat": 4,
 "nbformat_minor": 2
}
