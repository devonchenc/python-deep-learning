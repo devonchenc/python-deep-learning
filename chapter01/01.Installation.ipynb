{
 "cells": [
  {
   "cell_type": "markdown",
   "metadata": {},
   "source": [
    "# Python安装和环境设置"
   ]
  },
  {
   "cell_type": "markdown",
   "metadata": {},
   "source": [
    "## 1. Windows\n",
    "从 https://www.python.org/downloads/windows/ 网站下载Python安装包，目前最新版本是Python3.7.4，下载Windows X86-64 executable installer并双击安装。\n",
    "为了可以在命令提示符窗口直接运行并且方便第三方软件找到Python路径，勾选安装界面的“Add Python3.7 to Path”选项。\n",
    "![image](image/installation_win.png)\n",
    "\n"
   ]
  },
  {
   "cell_type": "markdown",
   "metadata": {},
   "source": [
    "完成Python的安装后，要先确认一下Python的版本。打开Windows的命令提示符窗口，输入python --version命令，该命令会输出已经安装的Python的版本信息。也可以输入python命令，启动Python自带的解释器环境。\n",
    "\n",
    "![image](image/command_line.png)"
   ]
  },
  {
   "cell_type": "markdown",
   "metadata": {},
   "source": [
    "## 2. Linux\n",
    "目前Linux发行版本众多，如Ubuntu, RedHat ,CentOS等等。大多数系统已经默认集成Python。可能版本稍有不同。\n",
    "```\n",
    "$ python3 --version\n",
    "Python 3.6.7\n",
    "```\n",
    "\n",
    "```\n",
    "$ python3\n",
    "Python 3.6.7 (default, Oct 22 2018, 11:32:17) \n",
    "[GCC 8.2.0] on linux\n",
    "Type \"help\", \"copyright\", \"credits\" or \"license\" for more information.\n",
    ">>> \n",
    "```"
   ]
  },
  {
   "cell_type": "markdown",
   "metadata": {},
   "source": [
    "## 3. Anaconda\n",
    "\n",
    "![image](https://www.anaconda.com/wp-content/uploads/2018/06/cropped-Anaconda_horizontal_RGB-1-600x102.png)\n",
    "\n",
    "Python的安装方法有很多种，本课推荐使用[Anaconda Distribution版](https://www.anaconda.com/distribution/)。Anaconda Distribution是一个侧重于数据分析的发行版，集成了必要的库，使用户可以一次性完成安装NumPy、Matplotlib 等有助于数据分析的库都包含在其中。\n",
    "```\n",
    "sudo chmod +x Anaconda3-2019.07-Linux-x86_64.sh\n",
    "sudo ./Anaconda3-2019.07-Linux-x86_64.sh\n",
    "```"
   ]
  },
  {
   "cell_type": "markdown",
   "metadata": {},
   "source": [
    "安装完成后，Anaconda集成了\n",
    "- Anaconda Navigtor ：用于管理工具包和环境的图形用户界面，众多管理命令也可以在 Navigator 中手工实现。\n",
    "- Jupyter Notebook ：基于Web的交互式计算环境，可以编辑易于人们阅读的文档，用于展示数据分析的过程。\n",
    "- qtconsole ：一个可执行 IPython 的仿终端图形界面程序，相比 Python Shell 界面，qtconsole 可以直接显示代码生成的图形，实现多行代码输入执行，以及内置许多有用的功能和函数。\n",
    "- Spyder ：一个使用Python语言、跨平台的、科学运算集成开发环境。\n",
    "![image](image/anaconda_navigator.png)"
   ]
  },
  {
   "cell_type": "markdown",
   "metadata": {},
   "source": [
    "## 4. Python解释器\n",
    "\n",
    "\n",
    "Python解释器也被称为“对话模式”，用户能够以和Python对话的方式进行编程。现在，我们实际输入一下看看。\n"
   ]
  },
  {
   "cell_type": "code",
   "execution_count": 1,
   "metadata": {},
   "outputs": [
    {
     "name": "stdout",
     "output_type": "stream",
     "text": [
      "hello world\n"
     ]
    }
   ],
   "source": [
    "print('hello world')"
   ]
  },
  {
   "cell_type": "markdown",
   "metadata": {},
   "source": [
    "当用户询问“1 + 2 等于几？”的时候，Python解释器会回答“3”，所谓对话模式，就是指这样的交互。"
   ]
  },
  {
   "cell_type": "code",
   "execution_count": 2,
   "metadata": {},
   "outputs": [
    {
     "data": {
      "text/plain": [
       "3"
      ]
     },
     "execution_count": 2,
     "metadata": {},
     "output_type": "execute_result"
    }
   ],
   "source": [
    "1 + 2"
   ]
  },
  {
   "cell_type": "markdown",
   "metadata": {},
   "source": [
    "Python 解释器可以像这样进行对话式（交互式）的编程。下面，我们使用这个对话模式，来看几个简单的Python编程的例子。"
   ]
  },
  {
   "cell_type": "markdown",
   "metadata": {},
   "source": [
    "### 4.1 算术计算"
   ]
  },
  {
   "cell_type": "markdown",
   "metadata": {},
   "source": [
    "加法或乘法等算术计算，可按如下方式进行。"
   ]
  },
  {
   "cell_type": "code",
   "execution_count": 3,
   "metadata": {},
   "outputs": [
    {
     "data": {
      "text/plain": [
       "-1"
      ]
     },
     "execution_count": 3,
     "metadata": {},
     "output_type": "execute_result"
    }
   ],
   "source": [
    "1 - 2"
   ]
  },
  {
   "cell_type": "code",
   "execution_count": 4,
   "metadata": {},
   "outputs": [
    {
     "data": {
      "text/plain": [
       "20"
      ]
     },
     "execution_count": 4,
     "metadata": {},
     "output_type": "execute_result"
    }
   ],
   "source": [
    "4 * 5"
   ]
  },
  {
   "cell_type": "code",
   "execution_count": 5,
   "metadata": {},
   "outputs": [
    {
     "data": {
      "text/plain": [
       "1.4"
      ]
     },
     "execution_count": 5,
     "metadata": {},
     "output_type": "execute_result"
    }
   ],
   "source": [
    "7 / 5"
   ]
  },
  {
   "cell_type": "code",
   "execution_count": 6,
   "metadata": {},
   "outputs": [
    {
     "data": {
      "text/plain": [
       "9"
      ]
     },
     "execution_count": 6,
     "metadata": {},
     "output_type": "execute_result"
    }
   ],
   "source": [
    "3 ** 2"
   ]
  },
  {
   "cell_type": "markdown",
   "metadata": {},
   "source": [
    "* 表示乘法，/ 表示除法，** 表示乘方（3**2 是3 的2 次方）。另外，在Python 2.x中，整数除以整数的结果是整数，比如，7 ÷ 5 的结果是1。但在Python 3.x中，整数除以整数的结果是小数（浮点数）。"
   ]
  },
  {
   "cell_type": "markdown",
   "metadata": {},
   "source": [
    "### 4.2 数据类型"
   ]
  },
  {
   "cell_type": "markdown",
   "metadata": {},
   "source": [
    "编程中有数据类型（data type）这一概念。数据类型表示数据的性质，有整数、小数、字符串等类型。Python中的type()函数可以用来查看数据类型。"
   ]
  },
  {
   "cell_type": "code",
   "execution_count": 7,
   "metadata": {},
   "outputs": [
    {
     "data": {
      "text/plain": [
       "int"
      ]
     },
     "execution_count": 7,
     "metadata": {},
     "output_type": "execute_result"
    }
   ],
   "source": [
    "type(10)"
   ]
  },
  {
   "cell_type": "code",
   "execution_count": 8,
   "metadata": {},
   "outputs": [
    {
     "data": {
      "text/plain": [
       "float"
      ]
     },
     "execution_count": 8,
     "metadata": {},
     "output_type": "execute_result"
    }
   ],
   "source": [
    "type(2.718)"
   ]
  },
  {
   "cell_type": "code",
   "execution_count": 9,
   "metadata": {},
   "outputs": [
    {
     "data": {
      "text/plain": [
       "str"
      ]
     },
     "execution_count": 9,
     "metadata": {},
     "output_type": "execute_result"
    }
   ],
   "source": [
    "type(\"hello\")"
   ]
  },
  {
   "cell_type": "markdown",
   "metadata": {},
   "source": [
    "根据上面的结果可知，10是int类型（整型），2.718是float类型（浮点型），\"hello\"是str（字符串）类型。另外，“类型”和“类”这两个词有时用作相同的意思。这里，对于输出结果<class 'int'>，可以将其解释成“10是int类（类型）”。"
   ]
  },
  {
   "cell_type": "code",
   "execution_count": null,
   "metadata": {},
   "outputs": [],
   "source": []
  }
 ],
 "metadata": {
  "kernelspec": {
   "display_name": "Python 3",
   "language": "python",
   "name": "python3"
  },
  "language_info": {
   "codemirror_mode": {
    "name": "ipython",
    "version": 3
   },
   "file_extension": ".py",
   "mimetype": "text/x-python",
   "name": "python",
   "nbconvert_exporter": "python",
   "pygments_lexer": "ipython3",
   "version": "3.7.3"
  }
 },
 "nbformat": 4,
 "nbformat_minor": 2
}
