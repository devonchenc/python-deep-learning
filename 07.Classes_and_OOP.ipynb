{
 "cells": [
  {
   "cell_type": "markdown",
   "metadata": {},
   "source": [
    "类是 Python 程序的组成单元，它是封装逻辑和数据的一种方式，就像函数和模块一样。类有三个重要的独到之处，使其在建立新对象时更为有用。\n",
    "\n",
    "- 多重实例\n",
    "      类是产生对象的工厂。每次调用一个类，就会产生一个有独立命名空间的新对象。每个由类产生的对象都能读取类的属性，并获得自己的命名空间来存储数据，这些数据对每个对象来说都不同。\n",
    "      \n",
    "- 通过继承进行定制\n",
    "      类支持 OOP 继承的概念。我们可以在类的外部重新定义其属性从而扩充这个类。\n",
    "      \n",
    "- 运算符重载\n",
    "      通过提供特定的协议方法，类可以响应内置类型的运算。例如，通过类创建的对象可以进行切片和索引等运算。Python 提供了一些可以由类使用的钩子，从而能够中断并实现任何的内置类型运算。"
   ]
  },
  {
   "cell_type": "markdown",
   "metadata": {},
   "source": [
    "类是 Python 所提供的最有用的工具之一。合理使用类，可以大量减少开发的时间。"
   ]
  },
  {
   "cell_type": "markdown",
   "metadata": {},
   "source": [
    "# 1. 类产生多个实例对象\n",
    "\n",
    "要了解多个对象是如何工作的，需要先了解 Python 的 OOP 模型中的两个对象：**类**对象(class object)和**实例**对象(instance object)。\n",
    "\n",
    "- 类对象提供默认行为，是实例对象的工厂；实例对象是程序处理的实际对象。\n",
    "\n",
    "\n",
    "- 类对象来自于语句，而实例来自于调用。每次调用一个类，就会得到这个类的新实例。"
   ]
  },
  {
   "cell_type": "markdown",
   "metadata": {},
   "source": [
    "## 类对象提供默认行为\n",
    "\n",
    "在 Python 中，类的建立使用了一条新的语句：class 语句。执行 class 语句，就会得到一个类对象。以下是 Python 类对象主要特性：\n",
    "\n",
    "- class 语句创建类对象并将其赋值给变量名\n",
    "      就像函数 def 语句，Python class 语句也是可执行语句。执行时会产生新的类对象，并将其赋值给 class 头部的变量名。\n",
    "\n",
    "- class 语句内的赋值语句会创建类的属性\n",
    "      就像模块文件，class 语句内的顶层的赋值语句（不是 def 之内）会产生类对象中的属性。\n",
    "      \n",
    "- 类属性提供对象的状态和行为\n",
    "      类对象的属性记录状态信息和行为，可由这个类所创建的所有实例共享。"
   ]
  },
  {
   "cell_type": "markdown",
   "metadata": {},
   "source": [
    "## 实例对象是具体的元素\n",
    "\n",
    "在调用类对象时，我们得到了实例对象。\n",
    "\n",
    "- 像函数那样调用类对象会创建新的实例对象\n",
    "      每次类调用时，都会建立并返回新的实例对象。实例代表程序中的具体元素。\n",
    "      \n",
    "- 每个实例对象继承类的属性并获得自己的命名空间。\n",
    "      由类所创建的实例对象是新命名空间。\n",
    "\n",
    "- 在方法内对 self 属性做赋值运算会产生每个实例自己的属性\n",
    "      在类方法函数内，第一个参数（self）会引用正处理的实例对象。对 self 的属性做赋值运算，会创建或修改实例内的数据，而不是类的数据。"
   ]
  },
  {
   "cell_type": "markdown",
   "metadata": {},
   "source": [
    "## 第一个例子\n",
    "\n",
    "像所有复合语句一样，class 开头一行会列出类的名称，后面再接一个或多个内嵌并缩进的语句主体。"
   ]
  },
  {
   "cell_type": "code",
   "execution_count": 1,
   "metadata": {},
   "outputs": [],
   "source": [
    "class FirstClass:      # Define a class object\n",
    "    def setdata(self, value):   # Define class's methods\n",
    "        self.data = value       # self is the instance\n",
    "    \n",
    "    def display(self):\n",
    "        print(self.data)        # self.data: per instance"
   ]
  },
  {
   "cell_type": "markdown",
   "metadata": {},
   "source": [
    "setdata 和 display 位于 class 语句范围内，因此会产生附加在类上的属性：FirstClass.setdata 和 FirstClass.display。事实上，在类嵌套的代码块中顶层赋值的任何变量名，都会变成类的属性。\n",
    "\n",
    "位于类中的函数通常称为 **方法**。在调用方法函数时，第一个参数自动接收隐含的实例对象：调用的主体。"
   ]
  },
  {
   "cell_type": "code",
   "execution_count": 2,
   "metadata": {},
   "outputs": [],
   "source": [
    "x = FirstClass() # Make two instances\n",
    "y = FirstClass() # Each is a new namespace"
   ]
  },
  {
   "cell_type": "markdown",
   "metadata": {},
   "source": [
    "此时，有三个对象：一个类（FirstClass）和两个实例（x 和 y），它们的关系如下图所示。\n",
    "\n",
    "![img](images/chapter07/class_and_instances.png)\n",
    "\n",
    "这里，\"data\" 属性会在实例内找到，而 \"setdata\" 和 \"display\" 则是在类中找到。\n",
    "\n",
    "如果对实例以及类对象内的属性名称进行点号运算，Python 会通过继承搜索从类取得变量名。"
   ]
  },
  {
   "cell_type": "code",
   "execution_count": 3,
   "metadata": {},
   "outputs": [],
   "source": [
    "x.setdata(\"King Arthur\") # Call methods: self is x\n",
    "y.setdata(3.14159)      # Runs: FirstClass.setdata(y, 3.14159)"
   ]
  },
  {
   "cell_type": "markdown",
   "metadata": {},
   "source": [
    "在 FirstClass 的 setdata 函数中，传入的值会赋给 self.data。在方法中，self 会自动引用正在处理的实例（x 或 y）。所以赋值语句会把值存储在实例的命名空间中，而不是类的命名空间中。注意：self 不是 Python 中的保留字，可以被替换为其它的名称，但是约定俗成使用 self 作为参数名。"
   ]
  },
  {
   "cell_type": "markdown",
   "metadata": {},
   "source": [
    "因为类会产生很多实例，方法必须经过 self 参数才能获取正在处理的实例。"
   ]
  },
  {
   "cell_type": "code",
   "execution_count": 4,
   "metadata": {},
   "outputs": [
    {
     "name": "stdout",
     "output_type": "stream",
     "text": [
      "King Arthur\n",
      "3.14159\n"
     ]
    }
   ],
   "source": [
    "x.display()     # self.data differs in each instance\n",
    "y.display()     # Runs: FirstClass.display(y)"
   ]
  },
  {
   "cell_type": "markdown",
   "metadata": {},
   "source": [
    "可以看出，每个实例内的 data 成员存储了不同对象类型（字符串和浮点数）。\n",
    "\n",
    "如果在调用 setdata 之前，就对实例调用 display，则会触发未定义变量名的错误。"
   ]
  },
  {
   "cell_type": "markdown",
   "metadata": {},
   "source": [
    "### 修改实例属性\n",
    "\n",
    "在类内部，通过方法对属性进行赋值运算；而在类外，则可以通过对实例对象进行赋值运算。我们也可以在类的外部修改实例属性。"
   ]
  },
  {
   "cell_type": "code",
   "execution_count": 5,
   "metadata": {},
   "outputs": [
    {
     "name": "stdout",
     "output_type": "stream",
     "text": [
      "New value\n"
     ]
    }
   ],
   "source": [
    "x.data = \"New value\" # Can get/set attributes\n",
    "x.display()         # Outside the class too"
   ]
  },
  {
   "cell_type": "markdown",
   "metadata": {},
   "source": [
    "我们甚至可以在实例命名空间内产生全新的属性（用法比较少见）："
   ]
  },
  {
   "cell_type": "code",
   "execution_count": 6,
   "metadata": {},
   "outputs": [],
   "source": [
    "x.anothername = \"spam\" # Can set new attributes here too!"
   ]
  },
  {
   "cell_type": "code",
   "execution_count": 7,
   "metadata": {},
   "outputs": [
    {
     "data": {
      "text/plain": [
       "['__class__',\n",
       " '__delattr__',\n",
       " '__dict__',\n",
       " '__dir__',\n",
       " '__doc__',\n",
       " '__eq__',\n",
       " '__format__',\n",
       " '__ge__',\n",
       " '__getattribute__',\n",
       " '__gt__',\n",
       " '__hash__',\n",
       " '__init__',\n",
       " '__init_subclass__',\n",
       " '__le__',\n",
       " '__lt__',\n",
       " '__module__',\n",
       " '__ne__',\n",
       " '__new__',\n",
       " '__reduce__',\n",
       " '__reduce_ex__',\n",
       " '__repr__',\n",
       " '__setattr__',\n",
       " '__sizeof__',\n",
       " '__str__',\n",
       " '__subclasshook__',\n",
       " '__weakref__',\n",
       " 'anothername',\n",
       " 'data',\n",
       " 'display',\n",
       " 'setdata']"
      ]
     },
     "execution_count": 7,
     "metadata": {},
     "output_type": "execute_result"
    }
   ],
   "source": [
    "dir(x)"
   ]
  },
  {
   "cell_type": "markdown",
   "metadata": {},
   "source": [
    "# 2. 类通过继承进行定制\n",
    "\n",
    "除了生成多个实例对象之外，类也可以引入 **子类** 来进行修改，而不对现有组件进行原地的修改。Python 可以让类继承其他类，从而开启了编写**类层次**结构的大门。在这里和模块不一致：模块的属性存在于一个单一的、不接受定制化的命名空间之内。\n",
    "\n",
    "Python中，类继承于**超类**(superclass)，以下是属性继承机制的核心观点；\n",
    "\n",
    "- 超类列在了类开头的括号中\n",
    "      要继承另一个类的属性，把该类列在 class 语句开头的括号中就可以了。\n",
    "\n",
    "- 类从其超类中继承属性\n",
    "      类会继承其超类中定义的所有属性名称。当读取属性时，如果它不存在于子类中，Python 会自动搜索这个属性。\n",
    "\n",
    "- 实例会继承所有可读取类的属性\n",
    "      每个实例不仅会从创建它的类中获取变量名，还会从该类的超类中获取。寻找变量名时，Python 会依次检查实例、它的类以及所有超类。\n",
    "\n",
    "- 每个 object.attribute 都会开启新的独立搜索\n",
    "      Python 会对每个属性取出表达式进行对类树的独立搜索。\n",
    "\n",
    "- 逻辑的修改是通过创建子类，而不是修改超类\n",
    "      在树中层次低的子类中重新定义超类的变量名，子类就可以取代并定制所继承的行为。"
   ]
  },
  {
   "cell_type": "markdown",
   "metadata": {},
   "source": [
    "## 2.1 第二个例子\n",
    "\n",
    "第二个例子建立在上一个例子基础之上。我们会定义一个新的类 SecondClass，继承 FirstClass 所有变量名，并提供其自己的一个变量名。"
   ]
  },
  {
   "cell_type": "code",
   "execution_count": 8,
   "metadata": {},
   "outputs": [],
   "source": [
    "class SecondClass(FirstClass): # Inherits setdata\n",
    "    def display(self): # Changes display\n",
    "        print('Current value = \"%s\"' % self.data)"
   ]
  },
  {
   "cell_type": "markdown",
   "metadata": {},
   "source": [
    "定义一个和 FirstClass 中属性同名的属性，SecondClass 有效地取代/重载(override)其超类中的 display 属性。SecondClass 定义 display 方法以不同格式的打印。"
   ]
  },
  {
   "cell_type": "code",
   "execution_count": 9,
   "metadata": {},
   "outputs": [
    {
     "name": "stdout",
     "output_type": "stream",
     "text": [
      "Current value = \"42\"\n"
     ]
    }
   ],
   "source": [
    "z = SecondClass()\n",
    "z.setdata(42)       # Finds setdata in FirstClass\n",
    "z.display()         # Finds overridden method in SecondClass"
   ]
  },
  {
   "cell_type": "markdown",
   "metadata": {},
   "source": [
    "我们调用 SecondClass 创建了其实例对象。setdata 依然是执行 FirstClass 中的版本，但是这一次 display 属性是来自 SecondClass。下图是所涉及的命名空间。\n",
    "\n",
    "![img](images/chapter07/override.png)"
   ]
  },
  {
   "cell_type": "markdown",
   "metadata": {},
   "source": [
    "需要留意的是：SecondClass 引入的专有化完全是在 FirstClass 外部完成的，不会影响当前或未来的 FirstClass 对象。"
   ]
  },
  {
   "cell_type": "code",
   "execution_count": 10,
   "metadata": {},
   "outputs": [
    {
     "name": "stdout",
     "output_type": "stream",
     "text": [
      "New value\n"
     ]
    }
   ],
   "source": [
    "x.display()         # x is still a FirstClass instance (old message)"
   ]
  },
  {
   "cell_type": "markdown",
   "metadata": {},
   "source": [
    "## 2.2 类是模块内的属性\n",
    "\n",
    "在继续学习之前，请记住类的名称并没有什么神奇之处。就像其他一切对象一样，类名称总是存在于模块中。每个模块可以任意混合任意数量的变量、函数以及类，而模块内的所有变量名的行为都相同。\n",
    "\n",
    "例如，某个文件示范如下：\n",
    "\n",
    "```python\n",
    "# food.py\n",
    "var = 1      # food.var\n",
    "def func():  # food.func\n",
    "    ...\n",
    "class spam:  # food.spam\n",
    "    ...\n",
    "class ham:   # food.ham\n",
    "    ...\n",
    "class eggs:  # food.eggs\n",
    "    ...\n",
    "```\n",
    "\n",
    "如果模块和类碰巧有相同的名称，例如文件 person.py 中包含 person 类\n",
    "```python\n",
    "class person:\n",
    "    ...\n",
    "```\n",
    "\n",
    "需要像往常一样通过模块获取类：\n",
    "```python\n",
    "import person   # Import module\n",
    "x = person.person() # Class within module\n",
    "```\n",
    "\n",
    "虽然这个路径看起来像多余的，但却是必需的：person.person 指的是 person 模块内的 person 类。只写 person 只会取得模块，而不是类，除非使用 from 语句。\n",
    "```python\n",
    "from person import person # Get class from module\n",
    "x = person()     # Use class name\n",
    "```\n",
    "\n",
    "如果这看起来令人困惑，就别让模块和该模块内的类使用相同名称。实际上，Python 中的通用惯例是类名应该以一个大写字母开头，以便它们更为清晰：\n",
    "```python\n",
    "import person       # Lowercase for modules\n",
    "x = person.Person() # Uppercase for classes\n",
    "```"
   ]
  },
  {
   "cell_type": "markdown",
   "metadata": {},
   "source": [
    "# 3. 类可以截获 Python 运算符\n",
    "\n",
    "现在我们来看看类和模块的第三个主要差别：**运算符重载**。运算符重载是让类的对象可截获并响应应用在内置类型上的运算：加法、切片、打印和点号运算等。\n",
    "\n",
    "虽然我们也可以用方法函数来实现类行为，但运算符重载则让对象和 Python 对象模型更紧密结合起来。此外，因为运算符重载让我们自己定义的对象行为就像内置对象那样，这可以促进对象接口更为一致更易于学习。\n",
    "\n",
    "- 以双下划线命名的方法 (\\_\\_X\\_\\_)是特殊钩子\n",
    "      Python 运算符重载是通过提供特殊命名的方法来实现的。\n",
    "\n",
    "- 当实例出现在内置运算时，这类方法会被自动调用\n",
    "      例如，如果实例对象继承了__add__方法， 当对象出现在 + 表达式内时，该方法就会被调用。\n",
    "\n",
    "- 类可覆盖多数内置类型运算\n",
    "      有几十种特殊运算符重载的方法名称，几乎可以截获并实现内置类型的所有运算。\n",
    "\n",
    "- 运算符覆盖方法没有默认值\n",
    "      如果类没有定义或继承运算符重载方法，例如没有__add__，+ 表达式就会引发异常。\n",
    "\n",
    "- 运算符可让类与 Python 的对象模型相集成\n",
    "      重载类型运算时，用户定义的类的对象的行为就会像内置对象一样。"
   ]
  },
  {
   "cell_type": "markdown",
   "metadata": {},
   "source": [
    "## 3.1 第三个例子\n",
    "\n",
    "这次，我们定义 SecondClass 的子类，实现三个特殊名称的属性，让 Python 自动进行调用。\n",
    "\n",
    "- 当新的实例构造时，会调用 \\_\\_init\\_\\_\n",
    "\n",
    "\n",
    "- 当 ThirdClass 实例出现在 + 表达式中时，会调用 \\_\\_add\\_\\_\n",
    "\n",
    "\n",
    "- 当打印一个对象的时候，运行 \\_\\_str\\_\\_"
   ]
  },
  {
   "cell_type": "code",
   "execution_count": 11,
   "metadata": {},
   "outputs": [],
   "source": [
    "class ThirdClass(SecondClass): # Inherit from SecondClass\n",
    "    def __init__(self, value): # On \"ThirdClass(value)\"\n",
    "        print('init {}'.format(value))\n",
    "        self.data = value\n",
    "    \n",
    "    def __add__(self, other): # On \"self + other\"\n",
    "        return ThirdClass(self.data + other)\n",
    "    \n",
    "    def __str__(self):      # On \"print(self)\", \"str()\"\n",
    "        return '[ThirdClass: %s]' % self.data\n",
    "    \n",
    "    def mul(self, other): # In-place change: named\n",
    "        self.data *= other"
   ]
  },
  {
   "cell_type": "code",
   "execution_count": 12,
   "metadata": {},
   "outputs": [
    {
     "name": "stdout",
     "output_type": "stream",
     "text": [
      "init cnu\n"
     ]
    }
   ],
   "source": [
    "a = ThirdClass('cnu') # __init__ called"
   ]
  },
  {
   "cell_type": "code",
   "execution_count": 13,
   "metadata": {},
   "outputs": [
    {
     "name": "stdout",
     "output_type": "stream",
     "text": [
      "Current value = \"cnu\"\n"
     ]
    }
   ],
   "source": [
    "a.display()         # Inherited method called"
   ]
  },
  {
   "cell_type": "code",
   "execution_count": 14,
   "metadata": {},
   "outputs": [
    {
     "name": "stdout",
     "output_type": "stream",
     "text": [
      "[ThirdClass: cnu]\n"
     ]
    }
   ],
   "source": [
    "print(a)            # __str__: returns display string"
   ]
  },
  {
   "cell_type": "code",
   "execution_count": 15,
   "metadata": {},
   "outputs": [
    {
     "name": "stdout",
     "output_type": "stream",
     "text": [
      "init cnu_math\n"
     ]
    }
   ],
   "source": [
    "b = a + '_math'     # __add__: makes a new instance"
   ]
  },
  {
   "cell_type": "code",
   "execution_count": 16,
   "metadata": {},
   "outputs": [
    {
     "name": "stdout",
     "output_type": "stream",
     "text": [
      "Current value = \"cnu_math\"\n"
     ]
    }
   ],
   "source": [
    "b.display()         # b has all ThirdClass methods"
   ]
  },
  {
   "cell_type": "code",
   "execution_count": 17,
   "metadata": {},
   "outputs": [
    {
     "name": "stdout",
     "output_type": "stream",
     "text": [
      "[ThirdClass: cnu_math]\n"
     ]
    }
   ],
   "source": [
    "print(b)            # __str__: returns display string"
   ]
  },
  {
   "cell_type": "code",
   "execution_count": 18,
   "metadata": {},
   "outputs": [
    {
     "name": "stdout",
     "output_type": "stream",
     "text": [
      "[ThirdClass: cnucnucnu]\n"
     ]
    }
   ],
   "source": [
    "a.mul(3)            # mul: changes instance in place\n",
    "print(a)"
   ]
  },
  {
   "cell_type": "markdown",
   "metadata": {},
   "source": [
    "ThirdClass 是 SecondClass 的子类，所以其实例会继承 SecondClass 的 display 方法。但是，ThirdClass 生成的调用现在需要传递一个参数（例如\"cnu\"），这是传给 \\_\\_init\\_\\_ 构造函数内的参数 value 的。"
   ]
  },
  {
   "cell_type": "code",
   "execution_count": 19,
   "metadata": {},
   "outputs": [],
   "source": [
    "# a_error = ThirdClass() # missing 1 required positional argument"
   ]
  },
  {
   "cell_type": "markdown",
   "metadata": {},
   "source": [
    "此外，ThirdClass 对象现在可以出现在 + 表达式和 print 调用中。\n",
    "\n",
    "对于 +，Python 把左侧的实例对象传给 \\_\\_add\\_\\_ 中的 self 参数，而把右边的值传给 other。\n",
    "\n",
    "对于 print，Python 把要打印的对象传递给 \\_\\_str\\_\\_ 中的 self，该方法返回的字符串可以看作是对象的打印字符串。\n",
    "\n",
    "注意 \\_\\_add\\_\\_ 方法创建并返回这个类的新的实例对象。"
   ]
  },
  {
   "cell_type": "markdown",
   "metadata": {},
   "source": [
    "运算符重载方法的名称并不是内置变量或者保留字，只是当对象出现在不同的环境时 Python 会去搜索的属性。\n",
    "\n",
    "虽然可以在自己的类中以任何喜欢的方式解释运算符，但是通常的实践说明：重载的运算符应该与内置的运算符实现同样的方式工作，"
   ]
  },
  {
   "cell_type": "markdown",
   "metadata": {},
   "source": [
    "## 3.2 为什么要使用运算符重载\n",
    "\n",
    "作为类的设计者，你可以选择使用或者不使用运算符重载。你的抉择取决于有多想让对象的用法和外观看起来更像内置类型。如果省略运算符重载方法，实例就不支持相应的运算，如果试着使用这个实例进行运算，就会抛出异常。"
   ]
  },
  {
   "cell_type": "markdown",
   "metadata": {},
   "source": [
    "不同的类对于运算符重载的需求也不同。本质为数学的对象，会用到许多运算符重载方法。例如，向量或矩阵类可以重载加法运算符。但员工类可能就不用。更简单的类，可能根本不会用到重载。\n",
    "\n",
    "另外，如果传递定义的类对象给内置类型（例如字典或列表）可用的运算符的函数，可能就需要使用运算符重载。"
   ]
  },
  {
   "cell_type": "markdown",
   "metadata": {},
   "source": [
    "几乎每个实际的类都会出现的一个重载方法是 \\_\\_init\\_\\_ 构造函数。因为这可以让类立即在其新建的实例内添加属性。"
   ]
  },
  {
   "cell_type": "markdown",
   "metadata": {},
   "source": [
    "# 4. 最简单的 Python 类"
   ]
  },
  {
   "cell_type": "markdown",
   "metadata": {},
   "source": [
    "下列语句建立一个类，其内完全没有附加的属性。"
   ]
  },
  {
   "cell_type": "code",
   "execution_count": 20,
   "metadata": {},
   "outputs": [],
   "source": [
    "class rec:    # Empty namespace object\n",
    "    pass"
   ]
  },
  {
   "cell_type": "markdown",
   "metadata": {},
   "source": [
    "## 4.1 在 class 语句外增加属性"
   ]
  },
  {
   "cell_type": "markdown",
   "metadata": {},
   "source": [
    "建立这个类后，就可以完全在最初的 class 语句外，通过赋值变量名给这个类增加属性："
   ]
  },
  {
   "cell_type": "code",
   "execution_count": 21,
   "metadata": {},
   "outputs": [],
   "source": [
    "rec.name = 'Bob' # Just objects with attributes\n",
    "rec.age = 40"
   ]
  },
  {
   "cell_type": "markdown",
   "metadata": {},
   "source": [
    "通过赋值语句创建这些属性后，就可以用一般的语法将它们取出。"
   ]
  },
  {
   "cell_type": "code",
   "execution_count": 22,
   "metadata": {},
   "outputs": [
    {
     "name": "stdout",
     "output_type": "stream",
     "text": [
      "Bob\n"
     ]
    }
   ],
   "source": [
    "print(rec.name) # Like a C struct or a record"
   ]
  },
  {
   "cell_type": "markdown",
   "metadata": {},
   "source": [
    "上面的做法没有任何问题，即使该类还没有实例。事实上，类只是独立完备的命名空间，只要有类的引用值，就可以在任何时刻设定或修改其属性。\n",
    "\n",
    "现在，我们建立两个实例："
   ]
  },
  {
   "cell_type": "code",
   "execution_count": 23,
   "metadata": {},
   "outputs": [],
   "source": [
    "x = rec()       # Instances inherit class names\n",
    "y = rec()"
   ]
  },
  {
   "cell_type": "markdown",
   "metadata": {},
   "source": [
    "目前这些实例完全是空的命名空间对象，不过因为它们知道创建它们的类，所以会继承并获取附加在类上的属性。"
   ]
  },
  {
   "cell_type": "code",
   "execution_count": 24,
   "metadata": {},
   "outputs": [
    {
     "name": "stdout",
     "output_type": "stream",
     "text": [
      "Bob Bob\n"
     ]
    }
   ],
   "source": [
    "# name is stored on the class only\n",
    "print(x.name, y.name)"
   ]
  },
  {
   "cell_type": "markdown",
   "metadata": {},
   "source": [
    "其实这些实例本身没有属性，它们只是从类对象那里取出 name 属性。不过，如果把一个属性赋值给一个实例，就会在该对象内部创建（或修改）该属性。属性赋值运算只会影响属性赋值所在的对象，而不会因属性的引用而启动继承搜索。"
   ]
  },
  {
   "cell_type": "code",
   "execution_count": 25,
   "metadata": {},
   "outputs": [
    {
     "data": {
      "text/plain": [
       "('Bob', 'Sue', 'Bob')"
      ]
     },
     "execution_count": 25,
     "metadata": {},
     "output_type": "execute_result"
    }
   ],
   "source": [
    "# Assignment changes x only\n",
    "x.name = 'Sue'\n",
    "rec.name, x.name, y.name"
   ]
  },
  {
   "cell_type": "markdown",
   "metadata": {},
   "source": [
    "\\_\\_dict\\_\\_ 属性是针对大多数基于类的对象的命名空间字典（一些类也可能在 \\_\\_slots\\_\\_ 中定义属性）"
   ]
  },
  {
   "cell_type": "code",
   "execution_count": 26,
   "metadata": {},
   "outputs": [
    {
     "data": {
      "text/plain": [
       "['__module__', '__dict__', '__weakref__', '__doc__', 'name', 'age']"
      ]
     },
     "execution_count": 26,
     "metadata": {},
     "output_type": "execute_result"
    }
   ],
   "source": [
    "list(rec.__dict__.keys())"
   ]
  },
  {
   "cell_type": "code",
   "execution_count": 27,
   "metadata": {},
   "outputs": [
    {
     "data": {
      "text/plain": [
       "['name', 'age']"
      ]
     },
     "execution_count": 27,
     "metadata": {},
     "output_type": "execute_result"
    }
   ],
   "source": [
    "list(name for name in rec.__dict__ if not name.startswith('__'))"
   ]
  },
  {
   "cell_type": "code",
   "execution_count": 28,
   "metadata": {},
   "outputs": [
    {
     "data": {
      "text/plain": [
       "['name']"
      ]
     },
     "execution_count": 28,
     "metadata": {},
     "output_type": "execute_result"
    }
   ],
   "source": [
    "list(x.__dict__.keys())"
   ]
  },
  {
   "cell_type": "code",
   "execution_count": 29,
   "metadata": {},
   "outputs": [
    {
     "data": {
      "text/plain": [
       "[]"
      ]
     },
     "execution_count": 29,
     "metadata": {},
     "output_type": "execute_result"
    }
   ],
   "source": [
    "list(y.__dict__.keys())"
   ]
  },
  {
   "cell_type": "markdown",
   "metadata": {},
   "source": [
    "在这里，类的字典显示出我们进行赋值了的 name 和 age 属性，x 有自己的 name，而 y 的字典依然是空的。\n",
    "\n",
    "可以使用 \\_\\_class\\_\\_ 显示每个实例所属的类："
   ]
  },
  {
   "cell_type": "code",
   "execution_count": 30,
   "metadata": {},
   "outputs": [
    {
     "data": {
      "text/plain": [
       "__main__.rec"
      ]
     },
     "execution_count": 30,
     "metadata": {},
     "output_type": "execute_result"
    }
   ],
   "source": [
    "x.__class__"
   ]
  },
  {
   "cell_type": "markdown",
   "metadata": {},
   "source": [
    "类也有一个 \\_\\_bases\\_\\_ 属性（实例没有这个属性），它是由其超类构成的元组。"
   ]
  },
  {
   "cell_type": "code",
   "execution_count": 31,
   "metadata": {},
   "outputs": [
    {
     "data": {
      "text/plain": [
       "(object,)"
      ]
     },
     "execution_count": 31,
     "metadata": {},
     "output_type": "execute_result"
    }
   ],
   "source": [
    "rec.__bases__"
   ]
  },
  {
   "cell_type": "markdown",
   "metadata": {},
   "source": [
    "Python 中的类模型非常动态。类和实例只是命名空间对象，属性是通过赋值语句动态建立的，只是默认赋值语句往往在 class 语句内。**即使是方法**（通常是在类中通过 def 创建）也可以在任意类对象的外部创建。"
   ]
  },
  {
   "cell_type": "code",
   "execution_count": 32,
   "metadata": {},
   "outputs": [],
   "source": [
    "def uppername(obj):\n",
    "    return obj.name.upper() # Still needs a self argument (obj)"
   ]
  },
  {
   "cell_type": "markdown",
   "metadata": {},
   "source": [
    "这个简单函数暂时和类完全没有什么关系。只要我们传一个带有 name 属性的对象就可以调用："
   ]
  },
  {
   "cell_type": "code",
   "execution_count": 39,
   "metadata": {},
   "outputs": [
    {
     "data": {
      "text/plain": [
       "'SUE'"
      ]
     },
     "execution_count": 39,
     "metadata": {},
     "output_type": "execute_result"
    }
   ],
   "source": [
    "# Call as a simple function\n",
    "uppername(x)"
   ]
  },
  {
   "cell_type": "markdown",
   "metadata": {},
   "source": [
    "不过，如果我们把这个简单函数赋值成类的属性，它就会变成方法，可以被该类的任何实例调用，也可以通过类名称本身调用（只要我们手动传入一个实例）。"
   ]
  },
  {
   "cell_type": "code",
   "execution_count": 37,
   "metadata": {},
   "outputs": [],
   "source": [
    "# Now it's a class's method!\n",
    "rec.method = uppername"
   ]
  },
  {
   "cell_type": "code",
   "execution_count": 35,
   "metadata": {},
   "outputs": [
    {
     "data": {
      "text/plain": [
       "'SUE'"
      ]
     },
     "execution_count": 35,
     "metadata": {},
     "output_type": "execute_result"
    }
   ],
   "source": [
    "x.method() # Run method to process x"
   ]
  },
  {
   "cell_type": "code",
   "execution_count": 38,
   "metadata": {},
   "outputs": [
    {
     "data": {
      "text/plain": [
       "'SUE'"
      ]
     },
     "execution_count": 38,
     "metadata": {},
     "output_type": "execute_result"
    }
   ],
   "source": [
    "# Can call through instance or class\n",
    "rec.method(x)"
   ]
  },
  {
   "cell_type": "markdown",
   "metadata": {},
   "source": [
    "通常情况下，类的定义都在 class 语句块中，实例的属性是通过在方法函数内对 self 属性进行赋值运算而创建的。 但是，从上面的例子也可看出，并不是必须如此。Python 中的 OOP 其实就是在已连接的命名空间对象中寻找属性而已。"
   ]
  },
  {
   "cell_type": "markdown",
   "metadata": {},
   "source": [
    "## 4.2 类与字典的关系\n",
    "\n",
    "基于字典的记录示例如下："
   ]
  },
  {
   "cell_type": "code",
   "execution_count": 4,
   "metadata": {},
   "outputs": [],
   "source": [
    "rec = {}\n",
    "rec['name'] = 'Bob'   # Dictionary-based record\n",
    "rec['age'] = 40.5     # Or {...}, dict(n=v), etc.\n",
    "rec['jobs'] = ['dev', 'mgr']"
   ]
  },
  {
   "cell_type": "code",
   "execution_count": 5,
   "metadata": {},
   "outputs": [
    {
     "name": "stdout",
     "output_type": "stream",
     "text": [
      "Bob\n"
     ]
    }
   ],
   "source": [
    "print(rec['name'])"
   ]
  },
  {
   "cell_type": "markdown",
   "metadata": {},
   "source": [
    "下面代码使用类实现同样功能，语法比起字典要简洁很多。"
   ]
  },
  {
   "cell_type": "code",
   "execution_count": 4,
   "metadata": {},
   "outputs": [],
   "source": [
    "class rec:\n",
    "    pass\n",
    "\n",
    "rec.name = 'Bob'    # Class-based record\n",
    "rec.age = 40.5\n",
    "rec.jobs = ['dev', 'mgr']"
   ]
  },
  {
   "cell_type": "code",
   "execution_count": 9,
   "metadata": {},
   "outputs": [
    {
     "name": "stdout",
     "output_type": "stream",
     "text": [
      "Bob\n"
     ]
    }
   ],
   "source": [
    "print(rec.name)"
   ]
  },
  {
   "cell_type": "markdown",
   "metadata": {},
   "source": [
    "它使用一个空的 class 语句来产生一个空的命名空间对象。一旦我们产生了空类，就可以随时向其中赋值类属性。"
   ]
  },
  {
   "cell_type": "markdown",
   "metadata": {},
   "source": [
    "我们也可以产生一个空类的实例，来表示每条不同的记录。这次有两个分开的实例对象，因此有两个不同的 name 属性。另外，同一个类的多个实例甚至可以具有不同的属性名称。在下面这个例子中，pers1 有唯一的 age 属性名称。"
   ]
  },
  {
   "cell_type": "code",
   "execution_count": 2,
   "metadata": {},
   "outputs": [
    {
     "data": {
      "text/plain": [
       "('Bob', 'Sue')"
      ]
     },
     "execution_count": 2,
     "metadata": {},
     "output_type": "execute_result"
    }
   ],
   "source": [
    "class rec:\n",
    "    pass\n",
    "\n",
    "# Instance-based records\n",
    "pers1 = rec()\n",
    "pers1.name = 'Bob'\n",
    "pers1.jobs = ['dev', 'mgr']\n",
    "pers1.age = 40.5\n",
    "\n",
    "pers2 = rec()\n",
    "pers2.name = 'Sue'\n",
    "pers2.jobs = ['dev', 'cto']\n",
    "\n",
    "pers1.name, pers2.name"
   ]
  },
  {
   "cell_type": "markdown",
   "metadata": {},
   "source": [
    "实例实际上是不同的名称空间，因此，每个实例都有一个不同的属性字典。尽管它们通常由类方法一致地填充，但它们比我们预期的更加灵活。\n",
    "\n",
    "最后，我们可以编写一个更完整的类来实现记录："
   ]
  },
  {
   "cell_type": "code",
   "execution_count": 7,
   "metadata": {},
   "outputs": [],
   "source": [
    "class Person:\n",
    "    def __init__(self, name, jobs, age=None): # class = data + logic\n",
    "        self.name = name\n",
    "        self.jobs = jobs\n",
    "        self.age = age\n",
    "    def info(self):\n",
    "        return (self.name, self.jobs)"
   ]
  },
  {
   "cell_type": "code",
   "execution_count": 8,
   "metadata": {},
   "outputs": [],
   "source": [
    "# Construction calls\n",
    "rec1 = Person('Bob', ['dev', 'mgr'], 40.5)\n",
    "rec2 = Person('Sue', ['dev', 'cto'])"
   ]
  },
  {
   "cell_type": "code",
   "execution_count": 9,
   "metadata": {},
   "outputs": [
    {
     "name": "stdout",
     "output_type": "stream",
     "text": [
      "['dev', 'mgr']\n",
      "('Sue', ['dev', 'cto'])\n"
     ]
    }
   ],
   "source": [
    "# Attributes\n",
    "print(rec1.jobs)\n",
    "# Methods\n",
    "print(rec2.info())"
   ]
  },
  {
   "cell_type": "markdown",
   "metadata": {},
   "source": [
    "这段代码也产生了多个实例，但是这次类不是空类。我们在类中添加了方法，类的构造函数强制了所有实例都必须设置 name 和 job 属性。"
   ]
  },
  {
   "cell_type": "markdown",
   "metadata": {},
   "source": [
    "最后，尽管像字典这样的内置类型是非常灵活的（甚至可以将函数存储到字典中），但类允许我们为对象添加行为。所以，对于处理隐含的实例，没有比类更加自然的对象了。"
   ]
  },
  {
   "cell_type": "markdown",
   "metadata": {},
   "source": [
    "# 5. 实际的例子\n",
    "\n",
    "通常掌握 Python 类的语法很容易，但是当面对实际问题时，要搞清楚如何下手还是有麻烦。\n",
    "\n",
    "因此，在本节中将编写两个类，通过逐渐地构筑类，以便看到其功能如何组合到一个完整的程序中，并最后测试它们的功能：\n",
    "\n",
    "- Person - 处理关于人员信息的类\n",
    "- Maager - 一个特殊的 Person，修改了继承的行为\n",
    "\n",
    "虽然类所使用的代码较少，但是它们将展示 Python 的 OOP 模型的所有主要思想。"
   ]
  },
  {
   "cell_type": "markdown",
   "metadata": {},
   "source": [
    "## 5.1 步骤1：创建实例\n",
    "\n",
    "在 Python 惯例中，模块名使用小写字母开头，而类名使用一个大写字母开头。因此，我们将新的模块文件命名为 person.py，将其中的类命名为 Person。\n",
    "\n"
   ]
  },
  {
   "cell_type": "code",
   "execution_count": null,
   "metadata": {},
   "outputs": [],
   "source": []
  },
  {
   "cell_type": "code",
   "execution_count": null,
   "metadata": {},
   "outputs": [],
   "source": []
  },
  {
   "cell_type": "code",
   "execution_count": null,
   "metadata": {},
   "outputs": [],
   "source": []
  },
  {
   "cell_type": "code",
   "execution_count": null,
   "metadata": {},
   "outputs": [],
   "source": []
  },
  {
   "cell_type": "code",
   "execution_count": null,
   "metadata": {},
   "outputs": [],
   "source": []
  },
  {
   "cell_type": "markdown",
   "metadata": {},
   "source": [
    "# 练习\n",
    "\n",
    "1.Python 类中的 **self** 有什么意义？"
   ]
  }
 ],
 "metadata": {
  "kernelspec": {
   "display_name": "Python 3",
   "language": "python",
   "name": "python3"
  },
  "language_info": {
   "codemirror_mode": {
    "name": "ipython",
    "version": 3
   },
   "file_extension": ".py",
   "mimetype": "text/x-python",
   "name": "python",
   "nbconvert_exporter": "python",
   "pygments_lexer": "ipython3",
   "version": "3.7.3"
  }
 },
 "nbformat": 4,
 "nbformat_minor": 2
}
