{
 "cells": [
  {
   "cell_type": "markdown",
   "metadata": {},
   "source": [
    "# 1. 函数(Function)"
   ]
  },
  {
   "cell_type": "markdown",
   "metadata": {},
   "source": [
    "函数是一个通用的程序结构部件。直到现在，我们写的代码都是立即运行的。为何使用函数？\n",
    "\n",
    "- 最大化的代码重用和最小化代码冗余\n",
    "      和现代编程语言一样，Python 函数是一种简单的办法去打包逻辑算法，使其能在之后不止一次地使用。函数允许整合以及通用化代码，因为它们允许一处编写多处运行，Python 的函数是这个语言中最基本的组成工具。\n",
    "\n",
    "- 流程的分解\n",
    "      函数提供了一种将系统分割为定义完好的不同部分的工具。"
   ]
  },
  {
   "cell_type": "markdown",
   "metadata": {},
   "source": [
    "## 1.1 编写函数\n",
    "\n",
    "- def 是可执行的代码\n",
    "      Python 的函数是由 def 语句编写的。不像 C/C++ 这样的编译语言，函数直到 Python 运行了 def 后才存在。在典型的操作中，def 语句在模块文件中编写，并在模块文件第一次被导入的时候生成定义的函数。\n",
    "      \n",
    "- def 创建了一个对象并将其赋值给某一变量名\n",
    "      当运行到 def 语句时，它将会生成一个新的函数对象并将其赋值给这个函数名。就像所有的赋值一样，函数名变成了一个某个函数的引用。\n",
    "\n",
    "- lambda 创建一个对象但将其作为结果返回\n",
    "      也可以用 lambda 表达式创建函数，这功能允许我们把函数定义内联到语法上一条 def 语句不能工作的地方。\n",
    "\n",
    "- return 将一个结果对象发送给调用者\n",
    "      当函数被调用时，其调用者暂停运行直到这个函数完成了它的工作，之后函数才将控制权返回调用者。函数是通过 return 语句将计算得到的值传递给调用者的，返回值成为函数调用的结果。\n",
    "      \n",
    "- yield 向调用者发挥一个结果对象，但是记住它离开的地方\n",
    "      像生成器这样的函数也可以通过 yield 语句来返回值，并挂起它们的状态以便稍后能够恢复状态。\n",
    "      \n",
    "- global 声明了一个模块级的变量并被赋值\n",
    "      默认情况下，函数中被赋值的对象是这个函数的本地变量，仅在这个函数运行的过程中存在。为了分配一个可以在整个模块中都可以使用的变量名，函数需要在 global 语句中将它列举出来。\n",
    "\n",
    "- nonlocal 声明了将要赋值的一个封闭的函数变量\n",
    "      nonlocal 语句允许一个函数来赋值一条语法封闭的 def 语句的作用域中已有的名称。这就允许封闭的函数作为保留状态的一个地方——当一个函数调用的时候，信息被记住了——而不必使用共享的全局名称。\n",
    "\n",
    "- 函数是通过赋值（对象引用）传递的\n",
    "     参数通过赋值传递给了函数。调用者以及函数通过引用共享对象，但是不需要别名。改变函数中的参数名并不会改变调用者中的变量名，但是改变传递的可变对象可以改变调用者共享的那个对象\n",
    "     \n",
    "- 参数、返回值以及变量并不是声明\n",
    "      可以传递任意类型的参数给函数，函数也可以返回任意类型的对象。"
   ]
  },
  {
   "cell_type": "markdown",
   "metadata": {},
   "source": [
    "### def 语句\n",
    "\n",
    "def 语句将创建一个函数对象并将其赋值给一个变量名。和所有的多行语句一样，def 包含了首行并有一个代码块跟随其后，这个代码块通常都会缩进，这个代码块就是函数的主体。其一般的格式如下：\n",
    "```python\n",
    "def name(arg1, arg2,...argN):\n",
    "    statements\n",
    "```\n",
    "def 首行定义了函数名，赋值给了函数对象，并在括号中包含了0个或多个参数。\n",
    "\n",
    "函数主体往往都是包含了一条 return 语句，它表示函数调用的结束，并将结果返回至函数调用处。return 语句是可选的，如果没有 return 语句，函数将会在控制流执行完函数主体时结束，并返回 None 对象。\n",
    "\n",
    "```python\n",
    "def name(arg1, arg2,... argN):\n",
    "    ...\n",
    "    return value\n",
    "```"
   ]
  },
  {
   "cell_type": "markdown",
   "metadata": {},
   "source": [
    "### def 语句是实时执行的"
   ]
  },
  {
   "cell_type": "markdown",
   "metadata": {},
   "source": [
    "Python 的 def 语句实际上是一个可执行的语句：当它运行的时候，它创建一个新的函数对象并将其赋值给一个变量名。（Python 中所有语句都是实时运行的，没有像 C/C++ 独立的编译流程） def 可以出现在任一语句可以出现的地方，甚至是嵌套在其它的语句中。例如函数可以通过嵌套在 if 语句中来实现不同的函数定义：\n",
    "```python\n",
    "if test:\n",
    "    def func():               # Define func this way\n",
    "        ...\n",
    "else:\n",
    "    def func():               # Or else this way\n",
    "        ...\n",
    "...\n",
    "func()                        # Call the version selected and built\n",
    "```\n",
    "\n",
    "因为函数定义是实时发生的，所以对于函数名来说并没有什么特别之处，而关键在于函数名所引用的那个对象。\n",
    "```python\n",
    "othername = func               # Assign function object\n",
    "othername()                    # Call func again\n",
    "```"
   ]
  },
  {
   "cell_type": "markdown",
   "metadata": {},
   "source": [
    "## 1.2 第一个例子\n",
    "\n",
    "### 定义\n",
    "\n",
    "这里定义一个名为 times 的函数，这个函数返回两个参数的乘积。"
   ]
  },
  {
   "cell_type": "code",
   "execution_count": 1,
   "metadata": {},
   "outputs": [],
   "source": [
    "def times(x, y):                # Create and assign function\n",
    "    return x * y                # Body executed when called"
   ]
  },
  {
   "cell_type": "markdown",
   "metadata": {},
   "source": [
    "当 Python 运行到这里并执行了 def 语句时，它将会创建一个新的函数对象，封装这个函数的代码并将这个对象赋值给变量名 times。通常情况下，这样的语句编写在一个模块文件中，当这个文件导入的时候运行。"
   ]
  },
  {
   "cell_type": "markdown",
   "metadata": {},
   "source": [
    "### 调用\n",
    "\n",
    "在 def 运行之后，可以在程序中调用这个函数，调用参数会传递给函数头部的参数名。"
   ]
  },
  {
   "cell_type": "code",
   "execution_count": 3,
   "metadata": {},
   "outputs": [
    {
     "data": {
      "text/plain": [
       "8"
      ]
     },
     "execution_count": 3,
     "metadata": {},
     "output_type": "execute_result"
    }
   ],
   "source": [
    "times(2, 4)                     # Arguments in parentheses"
   ]
  },
  {
   "cell_type": "code",
   "execution_count": 4,
   "metadata": {},
   "outputs": [
    {
     "data": {
      "text/plain": [
       "'NiNiNiNi'"
      ]
     },
     "execution_count": 4,
     "metadata": {},
     "output_type": "execute_result"
    }
   ],
   "source": [
    "times('Ni', 4)                  # Functions are \"typeless\""
   ]
  },
  {
   "cell_type": "markdown",
   "metadata": {},
   "source": [
    "我们从未对变量、参数或者返回值有过类似的声明，我们可以把 times() 用作数字的乘法或是序列的重复。"
   ]
  },
  {
   "cell_type": "code",
   "execution_count": null,
   "metadata": {},
   "outputs": [],
   "source": []
  },
  {
   "cell_type": "code",
   "execution_count": null,
   "metadata": {},
   "outputs": [],
   "source": []
  },
  {
   "cell_type": "code",
   "execution_count": null,
   "metadata": {},
   "outputs": [],
   "source": []
  },
  {
   "cell_type": "code",
   "execution_count": null,
   "metadata": {},
   "outputs": [],
   "source": []
  },
  {
   "cell_type": "code",
   "execution_count": null,
   "metadata": {},
   "outputs": [],
   "source": []
  },
  {
   "cell_type": "code",
   "execution_count": null,
   "metadata": {},
   "outputs": [],
   "source": []
  }
 ],
 "metadata": {
  "kernelspec": {
   "display_name": "Python 3",
   "language": "python",
   "name": "python3"
  },
  "language_info": {
   "codemirror_mode": {
    "name": "ipython",
    "version": 3
   },
   "file_extension": ".py",
   "mimetype": "text/x-python",
   "name": "python",
   "nbconvert_exporter": "python",
   "pygments_lexer": "ipython3",
   "version": "3.7.3"
  }
 },
 "nbformat": 4,
 "nbformat_minor": 2
}
