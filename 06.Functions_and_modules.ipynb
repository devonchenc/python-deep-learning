{
 "cells": [
  {
   "cell_type": "markdown",
   "metadata": {},
   "source": [
    "# 1. 函数(Function)"
   ]
  },
  {
   "cell_type": "markdown",
   "metadata": {},
   "source": [
    "函数是一个通用的程序结构部件。直到现在，我们写的代码都是立即运行的。为何使用函数？\n",
    "\n",
    "- 最大化的代码重用和最小化代码冗余\n",
    "      和现代编程语言一样，Python 函数是一种简单的办法去打包逻辑算法，使其能在之后不止一次地使用。函数允许整合以及通用化代码，因为它们允许一处编写多处运行，Python 的函数是这个语言中最基本的组成工具。\n",
    "\n",
    "- 流程的分解\n",
    "      函数可以将复杂系统分割为可管理的不同部分，而每一部分都可独立进行开发。"
   ]
  },
  {
   "cell_type": "markdown",
   "metadata": {},
   "source": [
    "## 1.1 编写函数\n",
    "\n",
    "- def 是可执行的代码\n",
    "      Python 的函数是由 def 语句编写的。不像 C/C++ 这样的编译语言，函数直到 Python 运行了 def 后才存在。在典型的操作中，def 语句在模块文件中编写，并在模块文件第一次被导入的时候生成定义的函数。\n",
    "      \n",
    "- def 创建了一个对象并将其赋值给某一变量名\n",
    "      当运行到 def 语句时，它将会生成一个新的函数对象并将其赋值给这个函数名。就像所有的赋值一样，函数名变成了一个某个函数的引用。\n",
    "\n",
    "- lambda 创建一个对象但将其作为结果返回\n",
    "      也可以用 lambda 表达式创建函数，这功能允许我们把函数定义内联到语法上一条 def 语句不能工作的地方。\n",
    "\n",
    "- return 将一个结果对象发送给调用者\n",
    "      当函数被调用时，其调用者暂停运行直到这个函数完成了它的工作，之后函数才将控制权返回调用者。函数是通过 return 语句将计算得到的值传递给调用者的，返回值成为函数调用的结果。\n",
    "      \n",
    "- yield 向调用者发挥一个结果对象，但是记住它离开的地方\n",
    "      像生成器这样的函数也可以通过 yield 语句来返回值，并挂起它们的状态以便稍后能够恢复状态。\n",
    "      \n",
    "- global 声明了一个模块级的变量并被赋值\n",
    "      默认情况下，函数中被赋值的对象是这个函数的局部变量，仅在这个函数运行的过程中存在。为了分配一个可以在整个模块中都可以使用的变量名，函数需要在 global 语句中将它列举出来。\n",
    "\n",
    "- nonlocal 声明了将要赋值的一个封闭的函数变量\n",
    "      nonlocal 语句允许一个函数来赋值一条语法封闭的 def 语句的作用域中已有的名称。这就允许封闭的函数作为保留状态的一个地方——当一个函数调用的时候，信息被记住了——而不必使用共享的全局名称。\n",
    "\n",
    "- 函数是通过赋值（对象引用）传递的\n",
    "     参数通过赋值传递给了函数。调用者以及函数通过引用共享对象，但是不需要别名。改变函数中的参数名并不会改变调用者中的变量名，但是改变传递的可变对象可以改变调用者共享的那个对象\n",
    "     \n",
    "- 参数、返回值以及变量并不是声明\n",
    "      可以传递任意类型的参数给函数，函数也可以返回任意类型的对象。"
   ]
  },
  {
   "cell_type": "markdown",
   "metadata": {},
   "source": [
    "### def 语句\n",
    "\n",
    "def 语句将创建一个函数对象并将其赋值给一个变量名。和所有的多行语句一样，def 包含了首行并有一个代码块跟随其后，这个代码块通常都会缩进，这个代码块就是函数的主体。其一般的格式如下：\n",
    "```python\n",
    "def name(arg1, arg2,...argN):\n",
    "    statements\n",
    "```\n",
    "def 首行定义了函数名，赋值给了函数对象，并在括号中包含了0个或多个参数。\n",
    "\n",
    "函数主体往往都是包含了一条 return 语句，它表示函数调用的结束，并将结果返回至函数调用处。return 语句是可选的，如果没有 return 语句，函数将会在控制流执行完函数主体时结束，并返回 None 对象。\n",
    "\n",
    "```python\n",
    "def name(arg1, arg2,... argN):\n",
    "    ...\n",
    "    return value\n",
    "```"
   ]
  },
  {
   "cell_type": "markdown",
   "metadata": {},
   "source": [
    "### def 语句是实时执行的"
   ]
  },
  {
   "cell_type": "markdown",
   "metadata": {},
   "source": [
    "Python 的 def 语句实际上是一个可执行的语句：当它运行的时候，它创建一个新的函数对象并将其赋值给一个变量名。（Python 中所有语句都是实时运行的，没有像 C/C++ 独立的编译流程） def 可以出现在任一语句可以出现的地方，甚至是嵌套在其它的语句中。例如函数可以通过嵌套在 if 语句中来实现不同的函数定义：\n",
    "```python\n",
    "if test:\n",
    "    def func():               # Define func this way\n",
    "        ...\n",
    "else:\n",
    "    def func():               # Or else this way\n",
    "        ...\n",
    "...\n",
    "func()                        # Call the version selected and built\n",
    "```\n",
    "\n",
    "因为函数定义是实时发生的，所以对于函数名来说并没有什么特别之处，而关键在于函数名所引用的那个对象。\n",
    "```python\n",
    "othername = func               # Assign function object\n",
    "othername()                    # Call func again\n",
    "```"
   ]
  },
  {
   "cell_type": "markdown",
   "metadata": {},
   "source": [
    "## 1.2 第一个例子：乘积\n",
    "\n",
    "### 定义\n",
    "\n",
    "这里定义一个名为 times 的函数，这个函数返回两个参数的乘积。"
   ]
  },
  {
   "cell_type": "code",
   "execution_count": 2,
   "metadata": {},
   "outputs": [],
   "source": [
    "def times(x, y):                # Create and assign function\n",
    "    return x * y                # Body executed when called"
   ]
  },
  {
   "cell_type": "markdown",
   "metadata": {},
   "source": [
    "当 Python 运行到这里并执行了 def 语句时，它将会创建一个新的函数对象，封装这个函数的代码并将这个对象赋值给变量名 times。通常情况下，这样的语句编写在一个模块文件中，当这个文件导入的时候运行。"
   ]
  },
  {
   "cell_type": "markdown",
   "metadata": {},
   "source": [
    "### 调用\n",
    "\n",
    "在 def 运行之后，可以在程序中调用这个函数，调用参数会传递给函数头部的参数名。"
   ]
  },
  {
   "cell_type": "code",
   "execution_count": 3,
   "metadata": {},
   "outputs": [
    {
     "data": {
      "text/plain": [
       "8"
      ]
     },
     "execution_count": 3,
     "metadata": {},
     "output_type": "execute_result"
    }
   ],
   "source": [
    "times(2, 4)                     # Arguments in parentheses"
   ]
  },
  {
   "cell_type": "code",
   "execution_count": 4,
   "metadata": {},
   "outputs": [
    {
     "data": {
      "text/plain": [
       "'NiNiNiNi'"
      ]
     },
     "execution_count": 4,
     "metadata": {},
     "output_type": "execute_result"
    }
   ],
   "source": [
    "times('Ni', 4)                  # Functions are \"typeless\""
   ]
  },
  {
   "cell_type": "markdown",
   "metadata": {},
   "source": [
    "我们从未对变量、参数或者返回值有过类似的声明，我们可以把 times() 用作数字的乘法或是序列的重复。"
   ]
  },
  {
   "cell_type": "markdown",
   "metadata": {},
   "source": [
    "### 多态(polymorphism)\n",
    "\n",
    "就像我们看到的那样，times() 函数中表达式 x * y 的意义完全取决于 x 和 y 的对象类型。Python 将对某一对象在某种语法的合理性交由对象自身来判断。这种依赖类型的行为称为**多态**。它可以自动地适用于所有类别的对象类型。只要对象支持所预期的接口，那么函数就能处理。\n",
    "\n",
    "如果传递的对象不支持这种预期的接口，Python 将会在运行时检测到错误，并抛出一个异常。因此编写代码错误检查是没有意义的。实际上，这会破坏函数的灵活性，限制函数的功能，因为这会让函数限制在测试过的那些类型上才有效。\n",
    "\n",
    "这也是 Python 和静态语言至关重要不同之处：在 Python 中，代码不应该关心特定的数据类型。我们在 Python 中为对象编写接口，而不是数据类型。"
   ]
  },
  {
   "cell_type": "markdown",
   "metadata": {},
   "source": [
    "## 1.3 第二个例子：寻找序列的交集\n",
    "\n",
    "编写一个函数，用来搜索两个序列的公共元素。"
   ]
  },
  {
   "cell_type": "code",
   "execution_count": 7,
   "metadata": {},
   "outputs": [],
   "source": [
    "def intersect(seq1, seq2):\n",
    "    res = []                        # Start empty\n",
    "    for x in seq1:                  # Scan seq1\n",
    "        if x in seq2:               # Common item?\n",
    "            res.append(x)           # Add to end\n",
    "    return res"
   ]
  },
  {
   "cell_type": "markdown",
   "metadata": {},
   "source": [
    "一旦运行了 def，就可以通过在括号中传递两个序列对象从而调用这个函数："
   ]
  },
  {
   "cell_type": "code",
   "execution_count": 6,
   "metadata": {},
   "outputs": [
    {
     "data": {
      "text/plain": [
       "['S', 'A', 'M']"
      ]
     },
     "execution_count": 6,
     "metadata": {},
     "output_type": "execute_result"
    }
   ],
   "source": [
    "s1 = \"SPAM\"\n",
    "s2 = \"SCAM\"\n",
    "intersect(s1, s2)                   # Strings"
   ]
  },
  {
   "cell_type": "markdown",
   "metadata": {},
   "source": [
    "和所有的 Python 中的函数一样，intersect() 是多态的，它支持多种类型，甚至可以传递不同类型的对象。"
   ]
  },
  {
   "cell_type": "code",
   "execution_count": 8,
   "metadata": {},
   "outputs": [
    {
     "data": {
      "text/plain": [
       "[1]"
      ]
     },
     "execution_count": 8,
     "metadata": {},
     "output_type": "execute_result"
    }
   ],
   "source": [
    "x = intersect([1, 2, 3], (1, 4))    # Mixed types\n",
    "x                                   # Saved result object"
   ]
  },
  {
   "cell_type": "markdown",
   "metadata": {},
   "source": [
    "# 2. 作用域(Scope)\n",
    "\n",
    "当你在程序中使用变量名时，Python 创建、改变或查找变量名都是在所谓的命名空间（一个保存变量名的地方）中进行的。变量作用域的含义就是这个变量名能被访问到的范围。\n",
    "\n",
    "在默认情况下，一个函数的所有变量名都是与函数的命名空间相关联的。\n",
    "\n",
    "- 一个在 def 内定义的变量名能够被 def 内的代码使用，不能在函数的外部引用这个变量名。\n",
    "\n",
    "- def 内的变量名与 def 外的变量名并不冲突，即使是使用在别处的相同的变量名。一个在 def 外被赋值的变量 X 与 在这个 def 内赋值的变量 X 是完全不同的变量。"
   ]
  },
  {
   "cell_type": "code",
   "execution_count": 9,
   "metadata": {},
   "outputs": [
    {
     "name": "stdout",
     "output_type": "stream",
     "text": [
      "99\n"
     ]
    }
   ],
   "source": [
    "X = 99\n",
    "def func():\n",
    "    X = 88\n",
    "print(X)"
   ]
  },
  {
   "cell_type": "markdown",
   "metadata": {},
   "source": [
    "尽管这两个变量名都是 X，但是它们作用域可以将它们区别开来。实际上，函数的作用域有助于防止程序之中变量名的冲突，并且有助于函数成为独立的程序单元。"
   ]
  },
  {
   "cell_type": "markdown",
   "metadata": {},
   "source": [
    "## 2.1 作用域法则\n",
    "\n",
    "在编写函数之前，我们编写的所有代码都是位于一个模块的顶层，所以我们使用的变量名要么就是存在于模块文件本身，要么就是 Python 内置预先定义好的（例如，open）。函数提供了嵌套的作用域，使其内部使用的变量名局部化，以便函数内部使用的变量名不会与函数外的变量名产生冲突。\n",
    "\n",
    "- 每个模块都是一个全局作用域(global scope)\n",
    "      全局变量就成为一个模块对象的属性。\n",
    "\n",
    "- 全局作用域的作用范围仅限于单个文件\n",
    "      这里的全局指的是在一个文件的顶层的变量名仅对于这个文件内部的代码而言是全局的。在 Python 中没有包含所有文件的全局作用域。\n",
    "\n",
    "- 每次对函数的调用都创建了一个新的局部作用域\n",
    "      也就是说，将会存在由那个函数创建的命名空间。\n",
    "\n",
    "- 赋值的变量名除非声明为全局变量(global)或非局部变量(nonlocal)，否则均是局部变量(local)\n",
    "      默认下，函数内部定义的变量名是局部变量。如果需要在函数内部给模块文件顶层的变量名赋值，需要使用 global 语句声明。如果需要给位于嵌套 def 中的名称赋值，需要使用nonlocal语句声明。\n",
    "\n",
    "- 所有其他的变量名都是可以归纳为全局、局部或者内置的"
   ]
  },
  {
   "cell_type": "markdown",
   "metadata": {},
   "source": [
    "### 变量名解析：LEGB 原则\n",
    "\n",
    "- 变量名引用分为四个作用域依次查找：局部(local)，函数内(enclosing functions)，全局(golbal)，内置(built-in)\n",
    "\n",
    "- 在默认情况下，变量名赋值会创建或者改变局部变量\n",
    "\n",
    "- 全局声明和非局部声明将赋值的变量名映射到模块文件内部的作用域"
   ]
  },
  {
   "cell_type": "markdown",
   "metadata": {},
   "source": [
    "![img](image/6.LEGB_scope.png)"
   ]
  },
  {
   "cell_type": "markdown",
   "metadata": {},
   "source": [
    "### 作用域实例"
   ]
  },
  {
   "cell_type": "code",
   "execution_count": 21,
   "metadata": {},
   "outputs": [
    {
     "data": {
      "text/plain": [
       "100"
      ]
     },
     "execution_count": 21,
     "metadata": {},
     "output_type": "execute_result"
    }
   ],
   "source": [
    "# Global scope\n",
    "X = 99                      # X and func assigned in module: global\n",
    "\n",
    "def func(Y):                # Y and Z assigned in function: locals\n",
    "    # Local scope\n",
    "    Z = X + Y               # X is a global\n",
    "    return Z\n",
    "\n",
    "func(1)"
   ]
  },
  {
   "cell_type": "markdown",
   "metadata": {},
   "source": [
    "- 全局变量名：X, func\n",
    "      因此 X 是在模块文件顶层注册的，所以它是全局变量；它能够在函数内部进行引用，而不需要特意声明为全局变量。因为同样的原因 func 也是全局变量，def 语句在这个模块文件顶层讲一个函数对象赋值给了变量名 func\n",
    "      \n",
    "- 局部变量名：Y, Z\n",
    "      对于这个函数，Y 和 Z 是局部变量，因为它们都是在函数定义内部进行赋值的\n"
   ]
  },
  {
   "cell_type": "markdown",
   "metadata": {},
   "source": [
    "## 2.2 内置作用域(Built-in scope)\n",
    "\n",
    "内置作用域是通过一个名为 \\_\\_builtin\\_\\_ 的标准库模块来实现的。"
   ]
  },
  {
   "cell_type": "code",
   "execution_count": 22,
   "metadata": {},
   "outputs": [
    {
     "data": {
      "text/plain": [
       "['ArithmeticError',\n",
       " 'AssertionError',\n",
       " 'AttributeError',\n",
       " 'BaseException',\n",
       " 'BlockingIOError',\n",
       " 'BrokenPipeError',\n",
       " 'BufferError',\n",
       " 'BytesWarning',\n",
       " 'ChildProcessError',\n",
       " 'ConnectionAbortedError',\n",
       " 'ConnectionError',\n",
       " 'ConnectionRefusedError',\n",
       " 'ConnectionResetError',\n",
       " 'DeprecationWarning',\n",
       " 'EOFError',\n",
       " 'Ellipsis',\n",
       " 'EnvironmentError',\n",
       " 'Exception',\n",
       " 'False',\n",
       " 'FileExistsError',\n",
       " 'FileNotFoundError',\n",
       " 'FloatingPointError',\n",
       " 'FutureWarning',\n",
       " 'GeneratorExit',\n",
       " 'IOError',\n",
       " 'ImportError',\n",
       " 'ImportWarning',\n",
       " 'IndentationError',\n",
       " 'IndexError',\n",
       " 'InterruptedError',\n",
       " 'IsADirectoryError',\n",
       " 'KeyError',\n",
       " 'KeyboardInterrupt',\n",
       " 'LookupError',\n",
       " 'MemoryError',\n",
       " 'ModuleNotFoundError',\n",
       " 'NameError',\n",
       " 'None',\n",
       " 'NotADirectoryError',\n",
       " 'NotImplemented',\n",
       " 'NotImplementedError',\n",
       " 'OSError',\n",
       " 'OverflowError',\n",
       " 'PendingDeprecationWarning',\n",
       " 'PermissionError',\n",
       " 'ProcessLookupError',\n",
       " 'RecursionError',\n",
       " 'ReferenceError',\n",
       " 'ResourceWarning',\n",
       " 'RuntimeError',\n",
       " 'RuntimeWarning',\n",
       " 'StopAsyncIteration',\n",
       " 'StopIteration',\n",
       " 'SyntaxError',\n",
       " 'SyntaxWarning',\n",
       " 'SystemError',\n",
       " 'SystemExit',\n",
       " 'TabError',\n",
       " 'TimeoutError',\n",
       " 'True',\n",
       " 'TypeError',\n",
       " 'UnboundLocalError',\n",
       " 'UnicodeDecodeError',\n",
       " 'UnicodeEncodeError',\n",
       " 'UnicodeError',\n",
       " 'UnicodeTranslateError',\n",
       " 'UnicodeWarning',\n",
       " 'UserWarning',\n",
       " 'ValueError',\n",
       " 'Warning',\n",
       " 'WindowsError',\n",
       " 'ZeroDivisionError',\n",
       " '__IPYTHON__',\n",
       " '__build_class__',\n",
       " '__debug__',\n",
       " '__doc__',\n",
       " '__import__',\n",
       " '__loader__',\n",
       " '__name__',\n",
       " '__package__',\n",
       " '__spec__',\n",
       " 'abs',\n",
       " 'all',\n",
       " 'any',\n",
       " 'ascii',\n",
       " 'bin',\n",
       " 'bool',\n",
       " 'breakpoint',\n",
       " 'bytearray',\n",
       " 'bytes',\n",
       " 'callable',\n",
       " 'chr',\n",
       " 'classmethod',\n",
       " 'compile',\n",
       " 'complex',\n",
       " 'copyright',\n",
       " 'credits',\n",
       " 'delattr',\n",
       " 'dict',\n",
       " 'dir',\n",
       " 'display',\n",
       " 'divmod',\n",
       " 'enumerate',\n",
       " 'eval',\n",
       " 'exec',\n",
       " 'filter',\n",
       " 'float',\n",
       " 'format',\n",
       " 'frozenset',\n",
       " 'get_ipython',\n",
       " 'getattr',\n",
       " 'globals',\n",
       " 'hasattr',\n",
       " 'hash',\n",
       " 'help',\n",
       " 'hex',\n",
       " 'id',\n",
       " 'input',\n",
       " 'int',\n",
       " 'isinstance',\n",
       " 'issubclass',\n",
       " 'iter',\n",
       " 'len',\n",
       " 'license',\n",
       " 'list',\n",
       " 'locals',\n",
       " 'map',\n",
       " 'max',\n",
       " 'memoryview',\n",
       " 'min',\n",
       " 'next',\n",
       " 'object',\n",
       " 'oct',\n",
       " 'open',\n",
       " 'ord',\n",
       " 'pow',\n",
       " 'print',\n",
       " 'property',\n",
       " 'range',\n",
       " 'repr',\n",
       " 'reversed',\n",
       " 'round',\n",
       " 'set',\n",
       " 'setattr',\n",
       " 'slice',\n",
       " 'sorted',\n",
       " 'staticmethod',\n",
       " 'str',\n",
       " 'sum',\n",
       " 'super',\n",
       " 'tuple',\n",
       " 'type',\n",
       " 'vars',\n",
       " 'zip']"
      ]
     },
     "execution_count": 22,
     "metadata": {},
     "output_type": "execute_result"
    }
   ],
   "source": [
    "import builtins\n",
    "dir(builtins)"
   ]
  },
  {
   "cell_type": "markdown",
   "metadata": {},
   "source": [
    "这个列表前一半是内置的异常，后一半是内置函数。由于 LEGB 法则最后将自动搜索这个模块，我们不需要手动导入这个模块，而会自动得到这个列表中的所有变量名。\n",
    "\n",
    "内置变量名可能会被全局变量名或局部变量名覆盖。例如，一个函数创建了一个名为 open 的局部变量并进行了赋值。这样的话，就会将内置作用域的 open 内置函数隐藏起来。这往往也是个 bug，而且 Python 不会给出警告信息。"
   ]
  },
  {
   "cell_type": "code",
   "execution_count": 24,
   "metadata": {},
   "outputs": [],
   "source": [
    "def hider():\n",
    "    open = 'spam'                       # Local variable, hides built-in here\n",
    "\n",
    "#     open('data.txt')                        # Error: this no longer opens a file in this scope!"
   ]
  },
  {
   "cell_type": "markdown",
   "metadata": {},
   "source": [
    "## 2.3 global 语句\n",
    "\n",
    "全局变量的特点：\n",
    "\n",
    "- 全局变量是位于模块文件内部的顶层的变量名\n",
    "\n",
    "- 全局变量在函数内部不经过声明也可以被引用\n",
    "\n",
    "- 全局变量如果是在函数内被赋值的话，必须经过声明\n",
    "\n",
    "global 语句是 Python 中唯一看起来像声明语句的语句。它是一个命名空间的声明，它告诉 Python 生成一个存在于整个模块内部作用域的变量名。也就是说 global 允许我们修改一个模块文件的顶层的名称。"
   ]
  },
  {
   "cell_type": "code",
   "execution_count": 25,
   "metadata": {},
   "outputs": [
    {
     "name": "stdout",
     "output_type": "stream",
     "text": [
      "99\n"
     ]
    }
   ],
   "source": [
    "X = 88                              # Global X\n",
    "\n",
    "def func():\n",
    "    global X\n",
    "    X = 99                          # Global X: outside def\n",
    "\n",
    "func()\n",
    "print(X)                            # Prints 99"
   ]
  },
  {
   "cell_type": "markdown",
   "metadata": {},
   "source": [
    "下面这个例子中，x、y 和 z 都是全局变量：x 通过 global 语句是自己明确地映射到整个模块的作用域。"
   ]
  },
  {
   "cell_type": "code",
   "execution_count": 33,
   "metadata": {},
   "outputs": [
    {
     "name": "stdout",
     "output_type": "stream",
     "text": [
      "3\n"
     ]
    }
   ],
   "source": [
    "y, z = 1, 2                         # Global variables in module\n",
    "\n",
    "def all_global():\n",
    "    global x                        # Declare globals assigned\n",
    "    x = y + z                       # No need to declare y, z: LEGB rule\n",
    "\n",
    "all_global()\n",
    "print(xx)"
   ]
  },
  {
   "cell_type": "markdown",
   "metadata": {},
   "source": [
    "### 最小化全局变量\n",
    "\n",
    "过多使用全局变量可能会引发一些软件工程问题：由于变量的值取决于函数调用的顺序，而函数自身是任意顺序进行排序的，导致了程序调试起来非常困难。"
   ]
  },
  {
   "cell_type": "code",
   "execution_count": 34,
   "metadata": {},
   "outputs": [],
   "source": [
    "X = 99\n",
    "\n",
    "def func1():\n",
    "    global X\n",
    "    X = 88\n",
    "\n",
    "def func2():\n",
    "    global X\n",
    "    X = 77"
   ]
  },
  {
   "cell_type": "markdown",
   "metadata": {},
   "source": [
    "现在，假设你的任务是重用这个模块文件。这里 X 的值将会是多少？\n",
    "\n",
    "X 的值与时间相关联，它的值取决于哪个函数是最后调用的。确切的说，如果不确定引用的顺序，这个问题就是毫无意义的。\n",
    "\n",
    "实际的结果就是，为了理解代码，你必须跟踪整个程序的控制流程。\n",
    "\n",
    "因此，在不熟悉编程的情况下，最好尽可能避免使用全局变量。六个月以后，你和你的合作者都会感谢你没有使用那么多全局变量。"
   ]
  },
  {
   "cell_type": "markdown",
   "metadata": {},
   "source": [
    "## 2.4 嵌套函数(Nested function)及嵌套作用域\n",
    "\n",
    "现在到了学习一下 LEGB 查找法则中 E(Enclosing) 这个字母的时候了。\n",
    "\n",
    "在增加了嵌套的函数作用域后，变量的查找法则变得稍微复杂了一些。对于一个函数："
   ]
  },
  {
   "cell_type": "markdown",
   "metadata": {},
   "source": [
    "- 一个引用（X）首先在局部（函数内）作用域查找变量名 X；之后会在代码的语法上嵌套了的函数中的局部作用域，从内到外查找；之后查找当前模块文件的全局作用域；最后搜索内置作用域（__builtin__）\n",
    "\n",
    "\n",
    "\n",
    "- 默认情况下，一个赋值（X = value）创建或改变了变量名 X 的作用域。如果 X 在函数内部声明为全局变量，它将创建或改变变量名 X 为整个模块的作用域。另一方面，如果 X 在函数内声明为 nonlocal，赋值会修改最近的嵌套函数的局部作用域中的名称 X。"
   ]
  },
  {
   "cell_type": "code",
   "execution_count": 2,
   "metadata": {},
   "outputs": [
    {
     "name": "stdout",
     "output_type": "stream",
     "text": [
      "88\n"
     ]
    }
   ],
   "source": [
    "X = 99                                  # Global scope name: not used\n",
    "\n",
    "def f1():\n",
    "    X = 88                              # Enclosing def local\n",
    "    def f2():\n",
    "        print(X)                        # Reference made in nested def\n",
    "    f2()\n",
    "\n",
    "f1()                                    # Prints 88: enclosing def local"
   ]
  },
  {
   "cell_type": "markdown",
   "metadata": {},
   "source": [
    "f2 是一个临时函数，也是 f1 局部作用域内的一个局部变量，仅在 f1 内部执行的过程中存在。通过 LEGB 查找法则，f2 内的 X 自动映射到了 f1 的 X。"
   ]
  },
  {
   "cell_type": "markdown",
   "metadata": {},
   "source": [
    "嵌套函数是比较高级的编程技术，它可以用来生成工厂函数(factory function)。但因为它的复杂性，初期我们应该尽量避免使用嵌套函数。"
   ]
  },
  {
   "cell_type": "markdown",
   "metadata": {},
   "source": [
    "## 2.5 nonlocal 语句\n",
    "\n",
    "nonlocal 应用于一个嵌套的函数的作用域中的一个名称，而不是所有 def 之外的全局模块作用域。"
   ]
  },
  {
   "cell_type": "code",
   "execution_count": 3,
   "metadata": {},
   "outputs": [
    {
     "name": "stdout",
     "output_type": "stream",
     "text": [
      "spam 0\n"
     ]
    }
   ],
   "source": [
    "def tester(start):\n",
    "    state = start # Referencing nonlocals works normally\n",
    "    def nested(label):\n",
    "        print(label, state) # Remembers state in enclosing scope\n",
    "    return nested\n",
    "\n",
    "F = tester(0)\n",
    "F('spam')"
   ]
  },
  {
   "cell_type": "code",
   "execution_count": 5,
   "metadata": {},
   "outputs": [
    {
     "name": "stdout",
     "output_type": "stream",
     "text": [
      "ham 0\n"
     ]
    }
   ],
   "source": [
    "F('ham')"
   ]
  },
  {
   "cell_type": "markdown",
   "metadata": {},
   "source": [
    "默认情况下，不允许修改嵌套的 def 作用域中的名称。"
   ]
  },
  {
   "cell_type": "code",
   "execution_count": 10,
   "metadata": {},
   "outputs": [],
   "source": [
    "def tester(start):\n",
    "    state = start\n",
    "    def nested(label):\n",
    "        print(label, state)\n",
    "        state += 1                          # Cannot change by default (never in 2.X)\n",
    "    return nested\n",
    "\n",
    "F = tester(0)\n",
    "# F('spam')"
   ]
  },
  {
   "cell_type": "markdown",
   "metadata": {},
   "source": [
    "如果我们在 nested 中将 state 声明为一个 nonlocal，就可以在 nested 函数中修改它了。即便我们是通过名称 F 调用返回的 nested 函数时，tester已经返回退出了，这依然是有效的。"
   ]
  },
  {
   "cell_type": "code",
   "execution_count": 15,
   "metadata": {},
   "outputs": [
    {
     "name": "stdout",
     "output_type": "stream",
     "text": [
      "spam 0\n"
     ]
    }
   ],
   "source": [
    "def tester(start):\n",
    "    state = start                           # Each call gets its own state\n",
    "    def nested(label):\n",
    "        nonlocal state                     # Remembers state in enclosing scope\n",
    "        print(label, state)\n",
    "        state += 1                          # Allowed to change it if nonlocal\n",
    "    return nested\n",
    "\n",
    "F = tester(0)\n",
    "F('spam')                                   # Increments state on each call"
   ]
  },
  {
   "cell_type": "code",
   "execution_count": 16,
   "metadata": {},
   "outputs": [
    {
     "name": "stdout",
     "output_type": "stream",
     "text": [
      "ham 1\n"
     ]
    }
   ],
   "source": [
    "F('ham')"
   ]
  },
  {
   "cell_type": "code",
   "execution_count": 17,
   "metadata": {},
   "outputs": [
    {
     "name": "stdout",
     "output_type": "stream",
     "text": [
      "eggs 2\n"
     ]
    }
   ],
   "source": [
    "F('eggs')"
   ]
  },
  {
   "cell_type": "markdown",
   "metadata": {},
   "source": [
    "- 与 global 语句不同，当执行一条 nonlocal 语句时，nonlocal 名称必须已经在一个嵌套的 def 作用域中赋值过，否则将会得到一个错误提示。\n",
    "\n",
    "\n",
    "- nonlocal限制作用域查找仅为嵌套的 def，nonlocal 不会在嵌套的模块的全局作用域或所有 def 之外的内置作用域中查找。"
   ]
  },
  {
   "cell_type": "markdown",
   "metadata": {},
   "source": [
    "# 3. 参数"
   ]
  },
  {
   "cell_type": "markdown",
   "metadata": {},
   "source": [
    "## 3.1 传递参数\n",
    "\n",
    "下面是给函数传递参数时的一些关键点：\n",
    "\n",
    "- 参数的传递是通过自动将对象赋值给局部变量名来实现的\n",
    "\n",
    "\n",
    "- 在函数内部的参数名的赋值不会影响调用者\n",
    "\n",
    "\n",
    "- 改变函数的可变对象参数的值会对调用者产生影响\n",
    "\n",
    "Python 通过赋值进行参数传递的机制与 C++ 的引用参数并不完全相同\n",
    "\n",
    "- 不可变对象参数“通过值”进行传递\n",
    "      像整数和字符串这样的对象是通过对象引用而不是拷贝进行传递的，但是因为无论如何都不能在原处改变不可变对象，实际的效果很像创建了一份拷贝。\n",
    "\n",
    "- 可变对象参数“通过指针”进行传递\n",
    "      例如，列表和字典这样对象也是通过对象引用进行传递的，可变对象能够在函数内部进行原处的改变。这一点和 C 语言使用指针传递数组很相似。"
   ]
  },
  {
   "cell_type": "code",
   "execution_count": 21,
   "metadata": {},
   "outputs": [
    {
     "name": "stdout",
     "output_type": "stream",
     "text": [
      "88\n"
     ]
    }
   ],
   "source": [
    "def f(a):                               # a is assigned to (references) the passed object\n",
    "    a = 99                              # Changes local variable a only\n",
    "\n",
    "b = 88\n",
    "f(b)                                    # a and b both reference same 88 initially\n",
    "print(b)                                # b is not changed"
   ]
  },
  {
   "cell_type": "code",
   "execution_count": 2,
   "metadata": {},
   "outputs": [
    {
     "data": {
      "text/plain": [
       "(1, ['spam', 2])"
      ]
     },
     "execution_count": 2,
     "metadata": {},
     "output_type": "execute_result"
    }
   ],
   "source": [
    "def changer(a, b):                      # Arguments assigned references to objects\n",
    "    a = 2                               # Changes local name's value only\n",
    "    b[0] = 'spam'                       # Changes shared object in place\n",
    "\n",
    "X = 1\n",
    "L = [1, 2]                              # Caller:\n",
    "changer(X, L)                           # Pass immutable and mutable objects\n",
    "X, L                                    # X is unchanged, L is different!"
   ]
  },
  {
   "cell_type": "markdown",
   "metadata": {},
   "source": [
    "- 因为 a 是在函数作用域内的本地变量名，第一个赋值对函数调用者没有影响，它仅仅把局部变量 a 修改为引用一个完全不同的对象，并没有改变调用者作用域中的名称 X 的绑定。\n",
    "\n",
    "\n",
    "- b 也是一个局部变量名，但是它被传给了一个可变对象，对函数中 b[0] 进行赋值的结果会在函数返回后影响 L 的值。"
   ]
  },
  {
   "cell_type": "markdown",
   "metadata": {},
   "source": [
    "如果不想要函数内部在原处的修改影响传递给它的对象，我们可以简单地创建一个明确的可变对象的拷贝。"
   ]
  },
  {
   "cell_type": "code",
   "execution_count": 4,
   "metadata": {},
   "outputs": [
    {
     "data": {
      "text/plain": [
       "(1, [1, 2])"
      ]
     },
     "execution_count": 4,
     "metadata": {},
     "output_type": "execute_result"
    }
   ],
   "source": [
    "L = [1, 2]\n",
    "changer(X, L[:])                        # Pass a copy, so our 'L' does not change\n",
    "X, L"
   ]
  },
  {
   "cell_type": "markdown",
   "metadata": {},
   "source": [
    "如果不想改变传入的对象，我们也可以在函数内部进行拷贝："
   ]
  },
  {
   "cell_type": "code",
   "execution_count": 8,
   "metadata": {},
   "outputs": [],
   "source": [
    "def changer(a, b):\n",
    "    b = b[:]                            # Copy input list so we don't impact caller\n",
    "    a = 2\n",
    "    b[0] = 'spam'                       # Changes our list copy only"
   ]
  },
  {
   "cell_type": "markdown",
   "metadata": {},
   "source": [
    "## 3.2 参数匹配模型"
   ]
  },
  {
   "cell_type": "markdown",
   "metadata": {},
   "source": [
    "在默认情况下，参数是通过其位置进行匹配的，从左至右，而且必须精确地传递和函数头部参数名一样多的参数。除此之外，还能通过定义变量名、默认参数值，以及对于额外参数的容器进行匹配。\n",
    "\n",
    "|语法|位置|解释|\n",
    "|----|----|---|\n",
    "|func(value)|调用者|常规参数：通过位置进行匹配|\n",
    "|func(name=value)|调用者|关键字参数：通过变量名进行匹配|\n",
    "|func(*iterable)|调用者|以迭代器传递所有的对象，作为独立的基于位置的参数|\n",
    "|func(**dict)|调用者|以字典传送键值对，作为独立关键字参数|\n",
    "|def func(name)|函数|常规参数：通过位置或变量名进行匹配|\n",
    "|def func(name=value)|函数|默认参数值，如果没有在调用中传递的话|\n",
    "|def func(*name)|函数|匹配在元组中所有包含位置的参数|\n",
    "|def func(**name)|函数|匹配在字典中所有包含位置的参数|\n",
    "|def func(*args, name)|函数|参数必须在调用中按照关键字传递|"
   ]
  },
  {
   "cell_type": "code",
   "execution_count": 4,
   "metadata": {},
   "outputs": [
    {
     "name": "stdout",
     "output_type": "stream",
     "text": [
      "1 2 3\n"
     ]
    }
   ],
   "source": [
    "def func(a, b, c):\n",
    "    print(a, b, c)\n",
    "    \n",
    "func(1, 2, 3)"
   ]
  },
  {
   "cell_type": "markdown",
   "metadata": {},
   "source": [
    "### 关键字参数"
   ]
  },
  {
   "cell_type": "code",
   "execution_count": 6,
   "metadata": {},
   "outputs": [
    {
     "name": "stdout",
     "output_type": "stream",
     "text": [
      "1 2 3\n"
     ]
    }
   ],
   "source": [
    "func(c = 3, b = 2, a = 1)"
   ]
  },
  {
   "cell_type": "code",
   "execution_count": 10,
   "metadata": {},
   "outputs": [
    {
     "name": "stdout",
     "output_type": "stream",
     "text": [
      "1 2 3\n"
     ]
    }
   ],
   "source": [
    "func(1, c = 3, b = 2)                  # a gets 1 by position, b and c passed by name"
   ]
  },
  {
   "cell_type": "markdown",
   "metadata": {},
   "source": [
    "### 默认参数"
   ]
  },
  {
   "cell_type": "code",
   "execution_count": 14,
   "metadata": {},
   "outputs": [
    {
     "name": "stdout",
     "output_type": "stream",
     "text": [
      "1 2 3\n"
     ]
    }
   ],
   "source": [
    "def func(a, b=2, c=3):                  # a required, b and c optional\n",
    "    print(a, b, c)\n",
    "    \n",
    "func(1)                                 # Use defaults"
   ]
  },
  {
   "cell_type": "markdown",
   "metadata": {},
   "source": [
    "当给函数传递两个值的时候，只有 c 继续保持默认值。"
   ]
  },
  {
   "cell_type": "code",
   "execution_count": 18,
   "metadata": {},
   "outputs": [
    {
     "name": "stdout",
     "output_type": "stream",
     "text": [
      "1 4 3\n"
     ]
    }
   ],
   "source": [
    "func(1, 4)                              # Override defaults"
   ]
  },
  {
   "cell_type": "markdown",
   "metadata": {},
   "source": [
    "### 任意参数"
   ]
  },
  {
   "cell_type": "code",
   "execution_count": null,
   "metadata": {},
   "outputs": [],
   "source": []
  },
  {
   "cell_type": "code",
   "execution_count": null,
   "metadata": {},
   "outputs": [],
   "source": []
  },
  {
   "cell_type": "code",
   "execution_count": null,
   "metadata": {},
   "outputs": [],
   "source": []
  },
  {
   "cell_type": "markdown",
   "metadata": {},
   "source": [
    "- 从左至右进行匹配\n",
    "\n",
    "- 关键字参数：通过参数名进行匹配\n",
    "\n",
    "- 默认参数：为没有传入值的参数定义参数值\n",
    "\n",
    "- 可变参数：收集任意多基于位置或关键字的参数\n",
    "      函数能够使用特定的参数，它们是以字符 * 开头，收集任意多的额外参数（类似于 C 语言中的可变参数特性）\n",
    "      \n",
    "- 可变参数解包：传递任意多的基于位置或关键字的参数\n",
    "\n",
    "\n",
    "- Keyword-only 参数：参数必须按照名称传递"
   ]
  },
  {
   "cell_type": "code",
   "execution_count": null,
   "metadata": {},
   "outputs": [],
   "source": []
  },
  {
   "cell_type": "markdown",
   "metadata": {},
   "source": [
    "# 4. 模块(module)\n",
    "\n",
    "函数的优点之一是，使用它们可将代码块与主程序分离。通过给函数指定描述性名称，可让主程序容易理解得多。你还可以更进一步，将函数存储在被称为模块的独立文件中，再将模块导入到主程序中。import语句允许在当前运行的程序文件中使用模块中的代码。\n",
    "\n",
    "通过将函数存储在独立的文件中，可隐藏程序代码的细节，将重点放在程序的高层逻辑上。这还能让你在众多不同的程序中重用函数。将函数存储在独立文件中后，可与其他程序员共享这些文件而不是整个程序。知道如何导入函数还能让你使用其他程序员编写的函数库。"
   ]
  },
  {
   "cell_type": "markdown",
   "metadata": {},
   "source": [
    "## 4.1 导入整个模块\n",
    "\n",
    "要让函数是可导入的，得先创建模块。模块是扩展名为.py的文件，包含要导入到程序中的代码。下面来创建一个包含函数 make_pizza()的模块。为此，我们将文件 pizza.py 中除函数 make_pizza()之外的其他代码都删除："
   ]
  },
  {
   "cell_type": "code",
   "execution_count": 16,
   "metadata": {},
   "outputs": [],
   "source": [
    "# pizza.py\n",
    "\n",
    "def make_pizza(size, *toppings):\n",
    "    print(\"\\nMaking a \" + str(size) +\n",
    "    \"-inch pizza with the following toppings:\")\n",
    "    for topping in toppings:\n",
    "        print(\"- \" + topping)"
   ]
  },
  {
   "cell_type": "markdown",
   "metadata": {},
   "source": [
    "接下来，我们在 pizza.py 所在的目录中创建另一个名为 making_pizzas.py 的文件，这个文件导入刚创建的模块，再调用 make_pizza()两次："
   ]
  },
  {
   "cell_type": "code",
   "execution_count": 17,
   "metadata": {},
   "outputs": [
    {
     "ename": "ModuleNotFoundError",
     "evalue": "No module named 'pizza'",
     "output_type": "error",
     "traceback": [
      "\u001b[1;31m---------------------------------------------------------------------------\u001b[0m",
      "\u001b[1;31mModuleNotFoundError\u001b[0m                       Traceback (most recent call last)",
      "\u001b[1;32m<ipython-input-17-4e56f38fafd6>\u001b[0m in \u001b[0;36m<module>\u001b[1;34m\u001b[0m\n\u001b[0;32m      1\u001b[0m \u001b[1;31m# making_pizzas.py\u001b[0m\u001b[1;33m\u001b[0m\u001b[1;33m\u001b[0m\u001b[1;33m\u001b[0m\u001b[0m\n\u001b[0;32m      2\u001b[0m \u001b[1;33m\u001b[0m\u001b[0m\n\u001b[1;32m----> 3\u001b[1;33m \u001b[1;32mimport\u001b[0m \u001b[0mpizza\u001b[0m\u001b[1;33m\u001b[0m\u001b[1;33m\u001b[0m\u001b[0m\n\u001b[0m\u001b[0;32m      4\u001b[0m \u001b[0mpizza\u001b[0m\u001b[1;33m.\u001b[0m\u001b[0mmake_pizza\u001b[0m\u001b[1;33m(\u001b[0m\u001b[1;36m16\u001b[0m\u001b[1;33m,\u001b[0m \u001b[1;34m'pepperoni'\u001b[0m\u001b[1;33m)\u001b[0m\u001b[1;33m\u001b[0m\u001b[1;33m\u001b[0m\u001b[0m\n\u001b[0;32m      5\u001b[0m \u001b[0mpizza\u001b[0m\u001b[1;33m.\u001b[0m\u001b[0mmake_pizza\u001b[0m\u001b[1;33m(\u001b[0m\u001b[1;36m12\u001b[0m\u001b[1;33m,\u001b[0m \u001b[1;34m'mushrooms'\u001b[0m\u001b[1;33m,\u001b[0m \u001b[1;34m'green peppers'\u001b[0m\u001b[1;33m,\u001b[0m \u001b[1;34m'extra cheese'\u001b[0m\u001b[1;33m)\u001b[0m\u001b[1;33m\u001b[0m\u001b[1;33m\u001b[0m\u001b[0m\n",
      "\u001b[1;31mModuleNotFoundError\u001b[0m: No module named 'pizza'"
     ]
    }
   ],
   "source": [
    "# making_pizzas.py\n",
    "\n",
    "import pizza\n",
    "\n",
    "pizza.make_pizza(16, 'pepperoni')\n",
    "pizza.make_pizza(12, 'mushrooms', 'green peppers', 'extra cheese')"
   ]
  },
  {
   "cell_type": "markdown",
   "metadata": {},
   "source": [
    "Python 读取这个文件时，代码行 import pizza 让 Python 打开文件 pizza.py，并将其中的所有函数都复制到这个程序中。你看不到复制的代码，因为这个程序运行时，Python 在幕后复制这些代码。你只需知道，在 making_pizzas.py 中，可以使用 pizza.py 中定义的所有函数。"
   ]
  },
  {
   "cell_type": "markdown",
   "metadata": {},
   "source": [
    "## 4.2 导入特定的函数"
   ]
  },
  {
   "cell_type": "markdown",
   "metadata": {},
   "source": [
    "你还可以导入模块中的特定函数，这种导入方法的语法如下：\n",
    "```python\n",
    "from module_name import function_name\n",
    "```"
   ]
  },
  {
   "cell_type": "markdown",
   "metadata": {},
   "source": [
    "通过用逗号分隔函数名，可根据需要从模块中导入任意数量的函数：\n",
    "```python\n",
    "from module_name import function_0, function_1, function_2\n",
    "```"
   ]
  },
  {
   "cell_type": "markdown",
   "metadata": {},
   "source": [
    "对于前面的making_pizzas.py示例，如果只想导入要使用的函数，代码将类似于下面这样："
   ]
  },
  {
   "cell_type": "code",
   "execution_count": null,
   "metadata": {},
   "outputs": [],
   "source": [
    "from pizza import make_pizza\n",
    "\n",
    "make_pizza(16, 'pepperoni')\n",
    "make_pizza(12, 'mushrooms', 'green peppers', 'extra cheese')"
   ]
  },
  {
   "cell_type": "markdown",
   "metadata": {},
   "source": [
    "若使用这种语法，调用函数时就无需使用句点。由于我们在 import 语句中显式地导入了函数 make_pizza()，因此调用它时只需指定其名称。"
   ]
  },
  {
   "cell_type": "markdown",
   "metadata": {},
   "source": [
    "## 4.3 使用 as 给模块指定别名"
   ]
  },
  {
   "cell_type": "markdown",
   "metadata": {},
   "source": [
    "如果要导入的函数的名称可能与程序中现有的名称冲突，或者函数的名称太长，可指定简短而独一无二的别名——函数的另一个名称。要给函数指定这种特殊外号，需要在导入它时这样做。关键字 as 将函数重命名为你提供的别名，指定别名的通用语法如下：\n",
    "```python\n",
    "from module_name import function_name as fn\n",
    "```"
   ]
  },
  {
   "cell_type": "markdown",
   "metadata": {},
   "source": [
    "下面给函数 make_pizza() 指定了别名 mp()。这是在 import 语句中使用 make_pizza as mp实现的："
   ]
  },
  {
   "cell_type": "code",
   "execution_count": null,
   "metadata": {},
   "outputs": [],
   "source": [
    "from pizza import make_pizza as mp\n",
    "\n",
    "mp(16, 'pepperoni')\n",
    "mp(12, 'mushrooms', 'green peppers', 'extra cheese')"
   ]
  },
  {
   "cell_type": "markdown",
   "metadata": {},
   "source": [
    "上面的 import 语句将函数 make_pizza() 重命名为 mp()；在这个程序中，每当需要调用 make_pizza()时，都可简写成 mp()，而 Python 将运行make_pizza() 中的代码，这可避免与这个程序可能包含的函数 make_pizza() 混淆。"
   ]
  },
  {
   "cell_type": "markdown",
   "metadata": {},
   "source": [
    "## 4.4 导入模块中的所有函数\n",
    "\n",
    "使用星号（*）运算符可让Python导入模块中的所有函数："
   ]
  },
  {
   "cell_type": "code",
   "execution_count": 20,
   "metadata": {},
   "outputs": [
    {
     "ename": "ModuleNotFoundError",
     "evalue": "No module named 'pizza'",
     "output_type": "error",
     "traceback": [
      "\u001b[1;31m---------------------------------------------------------------------------\u001b[0m",
      "\u001b[1;31mModuleNotFoundError\u001b[0m                       Traceback (most recent call last)",
      "\u001b[1;32m<ipython-input-20-42acb4d12b61>\u001b[0m in \u001b[0;36m<module>\u001b[1;34m\u001b[0m\n\u001b[1;32m----> 1\u001b[1;33m \u001b[1;32mfrom\u001b[0m \u001b[0mpizza\u001b[0m \u001b[1;32mimport\u001b[0m \u001b[1;33m*\u001b[0m\u001b[1;33m\u001b[0m\u001b[1;33m\u001b[0m\u001b[0m\n\u001b[0m\u001b[0;32m      2\u001b[0m \u001b[1;33m\u001b[0m\u001b[0m\n\u001b[0;32m      3\u001b[0m \u001b[0mmake_pizza\u001b[0m\u001b[1;33m(\u001b[0m\u001b[1;36m16\u001b[0m\u001b[1;33m,\u001b[0m \u001b[1;34m'pepperoni'\u001b[0m\u001b[1;33m)\u001b[0m\u001b[1;33m\u001b[0m\u001b[1;33m\u001b[0m\u001b[0m\n\u001b[0;32m      4\u001b[0m \u001b[0mmake_pizza\u001b[0m\u001b[1;33m(\u001b[0m\u001b[1;36m12\u001b[0m\u001b[1;33m,\u001b[0m \u001b[1;34m'mushrooms'\u001b[0m\u001b[1;33m,\u001b[0m \u001b[1;34m'green peppers'\u001b[0m\u001b[1;33m,\u001b[0m \u001b[1;34m'extra cheese'\u001b[0m\u001b[1;33m)\u001b[0m\u001b[1;33m\u001b[0m\u001b[1;33m\u001b[0m\u001b[0m\n",
      "\u001b[1;31mModuleNotFoundError\u001b[0m: No module named 'pizza'"
     ]
    }
   ],
   "source": [
    "from pizza import *\n",
    "\n",
    "make_pizza(16, 'pepperoni')\n",
    "make_pizza(12, 'mushrooms', 'green peppers', 'extra cheese')"
   ]
  },
  {
   "cell_type": "markdown",
   "metadata": {},
   "source": [
    "import 语句中的星号让 Python 将模块 pizza 中的每个函数都复制到这个程序文件中。由于导入了每个函数，可通过名称来调用每个函数，而无需使用句点表示法。然而，使用并非自己编写的大型模块时，最好不要采用这种导入方法：如果模块中有函数的名称与你的项目中使用的名称相同，可能导致意想不到的结果：Python 可能遇到多个名称相同的函数或变量，进而覆盖函数，而不是分别导入所有的函数。\n",
    "\n",
    "最佳的做法是，要么只导入你需要使用的函数，要么导入整个模块并使用句点表示法。这能让代码更清晰，更容易阅读和理解。这里之所以介绍这种导入方法，只是想让你在阅读别人编写的代码时，如果遇到类似于的 import 语句，能够理解它们。"
   ]
  },
  {
   "cell_type": "code",
   "execution_count": null,
   "metadata": {},
   "outputs": [],
   "source": []
  }
 ],
 "metadata": {
  "kernelspec": {
   "display_name": "Python 3",
   "language": "python",
   "name": "python3"
  },
  "language_info": {
   "codemirror_mode": {
    "name": "ipython",
    "version": 3
   },
   "file_extension": ".py",
   "mimetype": "text/x-python",
   "name": "python",
   "nbconvert_exporter": "python",
   "pygments_lexer": "ipython3",
   "version": "3.7.3"
  }
 },
 "nbformat": 4,
 "nbformat_minor": 2
}
