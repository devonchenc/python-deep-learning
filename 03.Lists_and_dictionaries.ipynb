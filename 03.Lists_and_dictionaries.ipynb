{
 "cells": [
  {
   "cell_type": "markdown",
   "metadata": {},
   "source": [
    "# 1. 列表(List)"
   ]
  },
  {
   "cell_type": "markdown",
   "metadata": {},
   "source": [
    "列表是 Python 中最具有灵活性的有序集合对象类型。与字符串不同的是，列表可以包含任何种类的对象：数字、字符串甚至其它列表，并且列表属于可变对象。列表支持在原处修改的操作，可以通过指定的偏移值和分片、列表方法调用、删除语句等方法来实现。\n",
    "\n",
    "- 任意对象的有序集合\n",
    "      从功能上看，列表就是收集其它对象的地方。同事列表所包含的每一项都保持了从左到右的位置顺序（也就是说它们是序列）。\n",
    "\n",
    "- 通过偏移读取\n",
    "      就像字符串一样，你可以通过列表对象的偏移对其进行索引，从而读取对象的某一部分内容。由于列表的每一项都是有序的，那么你也可以执行诸如分片和合并之类的任务。\n",
    "      \n",
    "- 可变长度、异构以及任意嵌套\n",
    "      与字符串不同的是，列表是可变长度的，并且可以包含任意类型的对象（字符串只能包含单个字符）。\n",
    "      \n",
    "- 属于可变序列\n",
    "      列表支持在原处的修改，也可以响应所有针对字符串序列的操作，如索引、分片以及合并。列表支持字符串所不支持的序列操作，如删除和索引赋值操作，它们都是在原处修改列表。\n",
    "      \n",
    "- 对象引用数组\n",
    "      从技术上来讲，列表包含了零个或多个其他对象的引用。从 Python 列表中读取一个项的速度与索引一个 C 语言数组差不多。实际上，在标准 CPython 解释器内部，列表就是 C 数组实现的。"
   ]
  },
  {
   "cell_type": "markdown",
   "metadata": {},
   "source": [
    "## 1.1 基本操作\n",
    "\n",
    "列表是序列，它支持很多与字符串相同的操作。例如，列表对 + 和 * 操作的响应与字符串很相似，产生的结果是一个新的列表。"
   ]
  },
  {
   "cell_type": "code",
   "execution_count": null,
   "metadata": {},
   "outputs": [],
   "source": [
    "type([1, 2, 3])"
   ]
  },
  {
   "cell_type": "code",
   "execution_count": null,
   "metadata": {},
   "outputs": [],
   "source": [
    "len([1, 2, 3])    # Length"
   ]
  },
  {
   "cell_type": "code",
   "execution_count": null,
   "metadata": {},
   "outputs": [],
   "source": [
    "[1, 2, 3] + [4, 5, 6]    # Concatenation"
   ]
  },
  {
   "cell_type": "code",
   "execution_count": null,
   "metadata": {},
   "outputs": [],
   "source": [
    "[4, 5, 6] * 4    # Repetition"
   ]
  },
  {
   "cell_type": "code",
   "execution_count": null,
   "metadata": {},
   "outputs": [],
   "source": [
    "3 in [1, 2, 3]    # Membership"
   ]
  },
  {
   "cell_type": "markdown",
   "metadata": {},
   "source": [
    "## 1.2 列表迭代和解析\n",
    "\n",
    "for 循环从左到右遍历序列中的每一项，对每一项执行一条或多条语句。"
   ]
  },
  {
   "cell_type": "code",
   "execution_count": null,
   "metadata": {},
   "outputs": [],
   "source": [
    "for x in [1, 2, 3]:    # Iteration\n",
    "    print(x, end=' ')"
   ]
  },
  {
   "cell_type": "code",
   "execution_count": null,
   "metadata": {},
   "outputs": [],
   "source": [
    "res = [c * 4 for c in 'SPAM']    # List comprehensions\n",
    "res"
   ]
  },
  {
   "cell_type": "code",
   "execution_count": null,
   "metadata": {},
   "outputs": [],
   "source": [
    "res = []\n",
    "for c in 'SPAM':    # List comprehension equivalent\n",
    "    res.append(c * 4)\n",
    "res"
   ]
  },
  {
   "cell_type": "markdown",
   "metadata": {},
   "source": [
    "## 1.3 索引、分片和矩阵\n",
    "\n",
    "列表的索引和分片操作与字符串中的操作基本相同。"
   ]
  },
  {
   "cell_type": "code",
   "execution_count": null,
   "metadata": {},
   "outputs": [],
   "source": [
    "L = ['spam', 'Spam', 'SPAM!']    # Offsets start at zero\n",
    "L[2], L[1:], L[-2]"
   ]
  },
  {
   "cell_type": "markdown",
   "metadata": {},
   "source": [
    "由于列表是可变的，它们支持原处改变列表对象的操作。可以将一个特定项或整个片段来改变列表的内容。Python 中的索引赋值与 C 及大多数其它语言极为相似：用一个新值取代指定偏移的对象引用。"
   ]
  },
  {
   "cell_type": "code",
   "execution_count": null,
   "metadata": {},
   "outputs": [],
   "source": [
    "L = ['spam', 'Spam', 'SPAM!']\n",
    "L[1] = 'eggs'\n",
    "L"
   ]
  },
  {
   "cell_type": "code",
   "execution_count": null,
   "metadata": {},
   "outputs": [],
   "source": [
    "L[0:2] = ['eat', 'more']\n",
    "L"
   ]
  },
  {
   "cell_type": "markdown",
   "metadata": {},
   "source": [
    "可以用嵌套列表来表示矩阵，下面一个基于列表的3x3的二维数组。如果使用一次索引，会得到一整行，如果使用两次索引，将会得到单个数值。"
   ]
  },
  {
   "cell_type": "code",
   "execution_count": null,
   "metadata": {},
   "outputs": [],
   "source": [
    "matrix = [[1, 2, 3], [4, 5, 6], [7, 8, 9]]\n",
    "print(matrix[1])\n",
    "print(matrix[2][0])"
   ]
  },
  {
   "cell_type": "markdown",
   "metadata": {},
   "source": [
    "## 1.4 列表方法\n",
    "\n",
    "Python 列表对象支持特定类型方法调用，其中很多方法可以在原处修改主体列表。\n",
    "\n",
    "最常用的方法是 append()，它能简单的将一个单项加至列表末端。与合并不同的是，append 将参数视作为单一对象而不是列表。"
   ]
  },
  {
   "cell_type": "code",
   "execution_count": null,
   "metadata": {},
   "outputs": [],
   "source": [
    "L = ['eat', 'more', 'SPAM!']\n",
    "L.append('please')     # Append method call: add item at end\n",
    "L"
   ]
  },
  {
   "cell_type": "markdown",
   "metadata": {},
   "source": [
    "另一个常见方法是 sort()，它原地对列表按照默认递增顺序进行排序。可以手动指定 reverse 参数为True，使得按照降序进行排序。"
   ]
  },
  {
   "cell_type": "code",
   "execution_count": null,
   "metadata": {},
   "outputs": [],
   "source": [
    "L.sort()              # Sort list items ('S' < 'e')\n",
    "L"
   ]
  },
  {
   "cell_type": "code",
   "execution_count": null,
   "metadata": {},
   "outputs": [],
   "source": [
    "L.sort(reverse=True)\n",
    "print(L)"
   ]
  },
  {
   "cell_type": "markdown",
   "metadata": {},
   "source": [
    "注意：append() 和 sort() 都是原处修改列表，两个函数的返回值都是 None："
   ]
  },
  {
   "cell_type": "code",
   "execution_count": null,
   "metadata": {},
   "outputs": [],
   "source": [
    "dummy = L.sort(reverse=True)\n",
    "print(dummy)"
   ]
  },
  {
   "cell_type": "markdown",
   "metadata": {},
   "source": [
    "再看一些更多的列表方法："
   ]
  },
  {
   "cell_type": "code",
   "execution_count": null,
   "metadata": {},
   "outputs": [],
   "source": [
    "L = [1, 2]\n",
    "L.extend([3, 4, 5])    # extend 在列表末端插入多个元素\n",
    "L"
   ]
  },
  {
   "cell_type": "code",
   "execution_count": null,
   "metadata": {},
   "outputs": [],
   "source": [
    "print(L.pop())        # pop 弹出列表最后一个元素，可以与 append 方法联用，用来实现栈结构\n",
    "print(L)"
   ]
  },
  {
   "cell_type": "code",
   "execution_count": null,
   "metadata": {},
   "outputs": [],
   "source": [
    "L.reverse()           # reverse 原地反转列表\n",
    "L"
   ]
  },
  {
   "cell_type": "code",
   "execution_count": null,
   "metadata": {},
   "outputs": [],
   "source": [
    "L = ['spam', 'eggs', 'ham']\n",
    "L.index('eggs')       # Index of an object (search/find)"
   ]
  },
  {
   "cell_type": "code",
   "execution_count": null,
   "metadata": {},
   "outputs": [],
   "source": [
    "L.insert(1, 'toast')  # Insert at position\n",
    "L"
   ]
  },
  {
   "cell_type": "code",
   "execution_count": null,
   "metadata": {},
   "outputs": [],
   "source": [
    "L.remove('eggs')      # Delete by value\n",
    "L"
   ]
  },
  {
   "cell_type": "code",
   "execution_count": null,
   "metadata": {},
   "outputs": [],
   "source": [
    "L.pop(1)              # Delete by position"
   ]
  },
  {
   "cell_type": "code",
   "execution_count": null,
   "metadata": {},
   "outputs": [],
   "source": [
    "L"
   ]
  },
  {
   "cell_type": "code",
   "execution_count": null,
   "metadata": {},
   "outputs": [],
   "source": [
    "L.count('spam')      # Number of occurrences"
   ]
  },
  {
   "cell_type": "code",
   "execution_count": null,
   "metadata": {},
   "outputs": [],
   "source": [
    "L.clear()            # 清空列表\n",
    "L"
   ]
  },
  {
   "cell_type": "markdown",
   "metadata": {},
   "source": [
    "# 2. 字典(Dictionary)\n",
    "\n",
    "除了列表之外，字典也许是 Python 中最灵活的内置数据结构类型。如果把列表看作是有序的对象集合，那么就可以将字典当成是无序的集合。它们的主要差别在于：字典中的元素是通过键来存取的，而不是通过偏移存取。\n",
    "\n",
    "字典可以取代需要搜索算法和数据结构，而这些在较低级的语言如 C/C++ 中不得不通过手工来实现。对字典进行索引是非常快速的搜索操作。字典有时也能执行其他语言中的记录、符号表的功能，可以表示稀疏的数据结构等。\n",
    "\n",
    "- 通过键而不是偏移量来存取\n",
    "      字典有时也叫 hash 表，它们通过键将一系列值联系起来，采用键作为索引从字典中获取内容。\n",
    "\n",
    "- 任意对象的无序集合\n",
    "      与列表不同，保存在字典中的项没有特定的顺序。实际上，Python 将各项随机排序，以便快速查找。键提供了字典项的象征性位置，而非物理性的位置。\n",
    "\n",
    "- 可变长、异构、任意嵌套\n",
    "      与列表类似，字典可以在原处增长或是缩短。它可以包含任何类型的对象，而且支持任意深度的嵌套。\n",
    "      \n",
    "- 属于可变映射类型\n",
    "      通过给索引赋值，字典可以在原处修改，但不支持用于字符串和列表中的序列操作。实际上，因为字典是无序集合，所以根据固定顺序进行操作是行不通的。相反，字典是唯一内置的映射类型对象。\n",
    "      \n",
    "- 对象引用表\n",
    "      字典是使用 hash 表实现的，一开始所占空间很小，并根据要求而增长。Python 采用最优化的 hash 算法来寻找键，因此搜索是很快速的。"
   ]
  },
  {
   "cell_type": "markdown",
   "metadata": {},
   "source": [
    "## 2.1 字典的基本操作\n",
    "\n",
    "通常情况下，创建字典并且通过键来存储、访问其中的某项："
   ]
  },
  {
   "cell_type": "code",
   "execution_count": null,
   "metadata": {},
   "outputs": [],
   "source": [
    "D = {'spam': 2, 'ham': 1, 'eggs': 3}     # Make a dictionary\n",
    "D['spam']                                # Fetch a value by key"
   ]
  },
  {
   "cell_type": "code",
   "execution_count": null,
   "metadata": {},
   "outputs": [],
   "source": [
    "D"
   ]
  },
  {
   "cell_type": "markdown",
   "metadata": {},
   "source": [
    "在这里，字典被赋值给一个变量D，键 'spam' 的值为整数2。和利用偏移索引列表类似，字典用键对其进行索引操作，这也意味着用键来读取，而不是用位置来读取。"
   ]
  },
  {
   "cell_type": "markdown",
   "metadata": {},
   "source": [
    "如果需要动态地创建字典，可以先构造一个空字典，然后逐一赋值："
   ]
  },
  {
   "cell_type": "code",
   "execution_count": null,
   "metadata": {},
   "outputs": [],
   "source": [
    "D2 = {} # Assign by keys dynamically\n",
    "D2['name'] = 'Bob'\n",
    "D2['age'] = 40\n",
    "D2"
   ]
  },
  {
   "cell_type": "markdown",
   "metadata": {},
   "source": [
    "Python 内置函数 len() 也可以用于字典，它能够返回存储在字典中的键值对数目。字典的 in 成员关系表达式提供了键存在与否的测试方法，keys 方法能够返回字典中所有的键，将它们收集在一个列表中。\n",
    "\n",
    "Python 2.x 中广泛使用的 has_key() 键存在测试方法已经在Python 3.x 中取消了，现在都应该用 in 表达式。"
   ]
  },
  {
   "cell_type": "code",
   "execution_count": null,
   "metadata": {},
   "outputs": [],
   "source": [
    "len(D)                       # Number of entries in dictionary"
   ]
  },
  {
   "cell_type": "code",
   "execution_count": null,
   "metadata": {},
   "outputs": [],
   "source": [
    "'ham' in D                  # Key membership test alternative\n",
    "# D.has_key('ham')          # Deprecated"
   ]
  },
  {
   "cell_type": "code",
   "execution_count": null,
   "metadata": {},
   "outputs": [],
   "source": [
    "list(D.keys())               # Create a new list of D's keys"
   ]
  },
  {
   "cell_type": "markdown",
   "metadata": {},
   "source": [
    "## 2.2 原处修改字典\n",
    "\n",
    "与列表相同，字典也是可变的，因此可以在原处对它们进行修改、扩展以及缩短而不需要生成新字典。简单地给一个键赋值就可以改变或者生成元素。"
   ]
  },
  {
   "cell_type": "code",
   "execution_count": null,
   "metadata": {},
   "outputs": [],
   "source": [
    "D = {'spam': 2, 'ham': 1, 'eggs': 3}\n",
    "D['ham'] = ['grill', 'bake', 'fry']      # Change entry (value=list)\n",
    "D"
   ]
  },
  {
   "cell_type": "code",
   "execution_count": null,
   "metadata": {},
   "outputs": [],
   "source": [
    "del D['eggs']                           # Delete entry\n",
    "D"
   ]
  },
  {
   "cell_type": "markdown",
   "metadata": {},
   "source": [
    "与列表不同的是，每当新字典键进行复制（之前没有被赋值的键），就会在字典内生成一个新的元素。如果想扩充列表，需要使用 append() 方法或分片赋值来实现。"
   ]
  },
  {
   "cell_type": "code",
   "execution_count": null,
   "metadata": {},
   "outputs": [],
   "source": [
    "D['brunch'] = 'Bacon'                  # Add new entry\n",
    "D"
   ]
  },
  {
   "cell_type": "markdown",
   "metadata": {},
   "source": [
    "## 2.3 其它字典方法"
   ]
  },
  {
   "cell_type": "code",
   "execution_count": null,
   "metadata": {},
   "outputs": [],
   "source": [
    "dir(dict)"
   ]
  },
  {
   "cell_type": "markdown",
   "metadata": {},
   "source": [
    "字典 values() 和 items() 方法分别返回字典的值列表和 (key, value) 键值对。"
   ]
  },
  {
   "cell_type": "code",
   "execution_count": null,
   "metadata": {},
   "outputs": [],
   "source": [
    "D = {'spam': 2, 'ham': 1, 'eggs': 3}\n",
    "list(D.values())"
   ]
  },
  {
   "cell_type": "code",
   "execution_count": null,
   "metadata": {},
   "outputs": [],
   "source": [
    "list(D.items())"
   ]
  },
  {
   "cell_type": "markdown",
   "metadata": {},
   "source": [
    " get() 方法可以用来读取键值。读取不存在的键往往都会出错，但是使用 get() 方法能够返回默认值（None 或者用户定义的默认值）。这是在当键不存在时为了避免 missing-key 错误而填入默认值的一个简单方法："
   ]
  },
  {
   "cell_type": "code",
   "execution_count": null,
   "metadata": {},
   "outputs": [],
   "source": [
    "D.get('spam')                      # A key that is there"
   ]
  },
  {
   "cell_type": "code",
   "execution_count": null,
   "metadata": {},
   "outputs": [],
   "source": [
    "print(D.get('toast'))              # A key that is missing"
   ]
  },
  {
   "cell_type": "code",
   "execution_count": null,
   "metadata": {},
   "outputs": [],
   "source": [
    "D.get('toast', 8)"
   ]
  },
  {
   "cell_type": "markdown",
   "metadata": {},
   "source": [
    "字典的 update() 方法有点类似于合并，它把一个字典的键和值合并到另一个字典中，盲目的覆盖相同键的值。"
   ]
  },
  {
   "cell_type": "code",
   "execution_count": null,
   "metadata": {},
   "outputs": [],
   "source": [
    "D = {'spam': 2, 'ham': 1, 'eggs': 3}\n",
    "D2 = {'toast':4, 'muffin':5}     # Lots of delicious scrambled order here\n",
    "D.update(D2)\n",
    "D"
   ]
  },
  {
   "cell_type": "markdown",
   "metadata": {},
   "source": [
    "字典 pop() 方法能够从字典中删除一个键并返回它的值，类似于列表的 pop() 方法。"
   ]
  },
  {
   "cell_type": "code",
   "execution_count": null,
   "metadata": {},
   "outputs": [],
   "source": [
    "D"
   ]
  },
  {
   "cell_type": "code",
   "execution_count": null,
   "metadata": {},
   "outputs": [],
   "source": [
    "D.pop('muffin')        # pop a dictionary by key"
   ]
  },
  {
   "cell_type": "code",
   "execution_count": null,
   "metadata": {},
   "outputs": [],
   "source": [
    "D.pop('toast')         # Delete and return from a key"
   ]
  },
  {
   "cell_type": "code",
   "execution_count": null,
   "metadata": {},
   "outputs": [],
   "source": [
    "D"
   ]
  },
  {
   "cell_type": "code",
   "execution_count": null,
   "metadata": {},
   "outputs": [],
   "source": [
    "# pop a list by position\n",
    "L = ['aa', 'bb', 'cc', 'dd']\n",
    "L.pop()               # Delete and return from the end\n",
    "print(L)\n",
    "L.pop(1)              # Delete from a specific position\n",
    "print(L)"
   ]
  },
  {
   "cell_type": "markdown",
   "metadata": {},
   "source": [
    "我们可以使用 for 循环对字典进行遍历。下面的例子能够生成一个表格，把程序语言名称（键）映射到它们的作者（值）。可以通过语言名称索引来读取作者的名字："
   ]
  },
  {
   "cell_type": "code",
   "execution_count": null,
   "metadata": {},
   "outputs": [],
   "source": [
    "table = {'Python' : 'Guido van Rossum',\n",
    "        'Perl':     'Larry Wall',\n",
    "        'Tcl':      'John Ousterhout'}\n",
    "for language in table:\n",
    "    print(language, '\\t', table[language])"
   ]
  },
  {
   "cell_type": "markdown",
   "metadata": {},
   "source": [
    "## 2.4 字典用法注意事项\n",
    "\n",
    "- 序列运算无效\n",
    "      字典元素之间没有顺序的概念，类似分片（提取相邻片段）的运算是不能用的。\n",
    "\n",
    "- 对新索引赋值会添加项\n",
    "     \n",
    "\n",
    "- 键不一定总是字符串\n",
    "      此前的例子中都是用字符串作为键，但任何不可变对象都是可以的。例如可以用整数作为键，这样字典看起来很像列表。"
   ]
  },
  {
   "cell_type": "markdown",
   "metadata": {},
   "source": [
    "### 使用字典模拟灵活的列表\n",
    "\n",
    "当使用列表时，对列表末尾外的偏移复制是非法的："
   ]
  },
  {
   "cell_type": "code",
   "execution_count": null,
   "metadata": {},
   "outputs": [],
   "source": [
    "L = []\n",
    "# L[99] = 'spam'            # 空列表使用偏移值非法"
   ]
  },
  {
   "cell_type": "code",
   "execution_count": null,
   "metadata": {},
   "outputs": [],
   "source": [
    "D = {}\n",
    "D[99] = 'spam'\n",
    "print(D[99])\n",
    "print(D)"
   ]
  },
  {
   "cell_type": "markdown",
   "metadata": {},
   "source": [
    "在这里，看起来似乎 D 是一个有100项的列表，但其实是一个由单个元素的字典。你可以像列表那样用偏移访问这一结构，但你不需要为将来可能会被赋值的位置提前分配空间。"
   ]
  },
  {
   "cell_type": "markdown",
   "metadata": {},
   "source": [
    "### 字典用于稀疏数据结构\n",
    "\n",
    "例如，多维数组中只有少数位置上有非零值："
   ]
  },
  {
   "cell_type": "code",
   "execution_count": null,
   "metadata": {},
   "outputs": [],
   "source": [
    "Matrix = {}\n",
    "Matrix[(2, 3, 4)] = 88\n",
    "Matrix[(7, 8, 9)] = 99\n",
    "Matrix"
   ]
  },
  {
   "cell_type": "code",
   "execution_count": null,
   "metadata": {},
   "outputs": [],
   "source": [
    "X = 2; Y = 3; Z = 4                           # ; separates statements\n",
    "Matrix[(X, Y, Z)]"
   ]
  },
  {
   "cell_type": "markdown",
   "metadata": {},
   "source": [
    "### 动态初始化字典\n",
    "\n",
    "zip() 函数可以将两个列表动态构建成一个字典："
   ]
  },
  {
   "cell_type": "code",
   "execution_count": null,
   "metadata": {},
   "outputs": [],
   "source": [
    "D = dict(zip(['a', 'b', 'c'], [1, 2, 3]))      # Make a dict from zip result\n",
    "D"
   ]
  },
  {
   "cell_type": "code",
   "execution_count": null,
   "metadata": {},
   "outputs": [],
   "source": [
    "D = {k: v for (k, v) in zip(['a', 'b', 'c'], [1, 2, 3])}\n",
    "D"
   ]
  },
  {
   "cell_type": "code",
   "execution_count": null,
   "metadata": {},
   "outputs": [],
   "source": [
    "D = {x: x ** 2 for x in [1, 2, 3, 4]}         # Or: range(1, 5)\n",
    "D"
   ]
  },
  {
   "cell_type": "code",
   "execution_count": 70,
   "metadata": {},
   "outputs": [
    {
     "data": {
      "text/plain": [
       "{'S': 'SSSS', 'P': 'PPPP', 'A': 'AAAA', 'M': 'MMMM'}"
      ]
     },
     "execution_count": 70,
     "metadata": {},
     "output_type": "execute_result"
    }
   ],
   "source": [
    "D = {c: c * 4 for c in 'SPAM'} # Loop over any iterable\n",
    "D"
   ]
  },
  {
   "cell_type": "markdown",
   "metadata": {},
   "source": [
    "# 小结\n",
    "\n",
    "本章探讨了Python 程序中两种最常见、最具有灵活性、功能最强大的两种集合体类型——列表和字典。\n",
    "\n",
    "列表类型支持任意对象的以位置排序的集合体，而且可以任意嵌套，按需增长和缩短。\n",
    "\n",
    "字典类型也是如此，不过它是以键来存储元素而不是位置，并且不会保持元素之间的顺序关系。\n",
    "\n",
    "列表和字典都是可变的，所以它们支持各种不适用于字符串的原处修改操作。例如，列表可以通过 append() 方法来进行增长，自动通过赋值给新键来实现增长。"
   ]
  },
  {
   "cell_type": "markdown",
   "metadata": {},
   "source": [
    "# 练习\n",
    "\n",
    "1. 举出两种方式来创建内含五个整数零的列表\n",
    "\n",
    "\n",
    "2. 创建一个字典，有26个键从\"A\"到\"Z\"，每个键关联的值是从1到26"
   ]
  }
 ],
 "metadata": {
  "kernelspec": {
   "display_name": "Python 3",
   "language": "python",
   "name": "python3"
  },
  "language_info": {
   "codemirror_mode": {
    "name": "ipython",
    "version": 3
   },
   "file_extension": ".py",
   "mimetype": "text/x-python",
   "name": "python",
   "nbconvert_exporter": "python",
   "pygments_lexer": "ipython3",
   "version": "3.7.3"
  }
 },
 "nbformat": 4,
 "nbformat_minor": 2
}
