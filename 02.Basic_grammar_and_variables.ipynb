{
 "cells": [
  {
   "cell_type": "markdown",
   "metadata": {},
   "source": [
    "# 1. Python 基础语法"
   ]
  },
  {
   "cell_type": "markdown",
   "metadata": {},
   "source": [
    "## 1.1 Python 注释"
   ]
  },
  {
   "cell_type": "markdown",
   "metadata": {},
   "source": [
    "Python中单行注释以 # 开头"
   ]
  },
  {
   "cell_type": "code",
   "execution_count": 18,
   "metadata": {},
   "outputs": [
    {
     "name": "stdout",
     "output_type": "stream",
     "text": [
      "Hello, Python!\n"
     ]
    }
   ],
   "source": [
    "# 第一个注释\n",
    "print (\"Hello, Python!\") # 第二个注释"
   ]
  },
  {
   "cell_type": "markdown",
   "metadata": {},
   "source": [
    "多行注释可以用多个 # 号，或者使用三个单引号 ''' 或三个双引号 \"\"\""
   ]
  },
  {
   "cell_type": "code",
   "execution_count": 19,
   "metadata": {},
   "outputs": [
    {
     "name": "stdout",
     "output_type": "stream",
     "text": [
      "Hello, Python!\n"
     ]
    }
   ],
   "source": [
    "# 第一个注释\n",
    "# 第二个注释\n",
    " \n",
    "'''\n",
    "第三注释\n",
    "第四注释\n",
    "'''\n",
    " \n",
    "\"\"\"\n",
    "第五注释\n",
    "第六注释\n",
    "\"\"\"\n",
    "print (\"Hello, Python!\")"
   ]
  },
  {
   "cell_type": "markdown",
   "metadata": {},
   "source": [
    "## 1.2 行与缩进\n",
    "\n",
    "python最具特色的就是使用缩进来表示代码块，不需要使用大括号 {} 。\n",
    "\n",
    "缩进的空格数是可变的，但是同一个代码块的语句必须包含相同的缩进空格数。"
   ]
  },
  {
   "cell_type": "code",
   "execution_count": 28,
   "metadata": {},
   "outputs": [
    {
     "name": "stdout",
     "output_type": "stream",
     "text": [
      "True\n"
     ]
    }
   ],
   "source": [
    "if True:\n",
    "    print(\"True\")\n",
    "else:\n",
    "    print(\"False\")"
   ]
  },
  {
   "cell_type": "markdown",
   "metadata": {},
   "source": [
    "以下代码最后一行语句缩进数的空格数不一致，会导致运行错误："
   ]
  },
  {
   "cell_type": "code",
   "execution_count": 26,
   "metadata": {},
   "outputs": [
    {
     "ename": "IndentationError",
     "evalue": "unindent does not match any outer indentation level (<tokenize>, line 5)",
     "output_type": "error",
     "traceback": [
      "\u001b[1;36m  File \u001b[1;32m\"<tokenize>\"\u001b[1;36m, line \u001b[1;32m5\u001b[0m\n\u001b[1;33m    print (\"False\")    # 缩进不一致，会导致运行错误\u001b[0m\n\u001b[1;37m    ^\u001b[0m\n\u001b[1;31mIndentationError\u001b[0m\u001b[1;31m:\u001b[0m unindent does not match any outer indentation level\n"
     ]
    }
   ],
   "source": [
    "if False:\n",
    "    print (\"True\")\n",
    "else:\n",
    "    print (\"Something\")\n",
    "  print (\"False\")    # 缩进不一致，会导致运行错误"
   ]
  },
  {
   "cell_type": "markdown",
   "metadata": {},
   "source": [
    "## 1.3 Python 关键字\n",
    "\n",
    "这些保留字不能用作常数或变数，或任何其他标识符名称。\n",
    "\n",
    "|  |   |   |   |   |\n",
    "|--|---|---|---|---|\n",
    "| False | None | True | and | as |\n",
    "| assert | async | await | break | class |\n",
    "| continue | def | del | elif | else |\n",
    "| except | finally |for | from | global |\n",
    "| if | import | in | is | lambda |\n",
    "| nonlocal | not | or | pass | raise |\n",
    "| return | try | while| with | yield |"
   ]
  },
  {
   "cell_type": "code",
   "execution_count": 17,
   "metadata": {},
   "outputs": [
    {
     "name": "stdout",
     "output_type": "stream",
     "text": [
      "35 ['False', 'None', 'True', 'and', 'as', 'assert', 'async', 'await', 'break', 'class', 'continue', 'def', 'del', 'elif', 'else', 'except', 'finally', 'for', 'from', 'global', 'if', 'import', 'in', 'is', 'lambda', 'nonlocal', 'not', 'or', 'pass', 'raise', 'return', 'try', 'while', 'with', 'yield']\n"
     ]
    }
   ],
   "source": [
    "import keyword\n",
    "print(len(keyword.kwlist), keyword.kwlist)"
   ]
  },
  {
   "cell_type": "markdown",
   "metadata": {},
   "source": [
    "## 1.4 空行\n",
    "\n",
    "函数之间或类的方法之间用空行分隔，表示一段新的代码的开始。类和函数入口之间也用一行空行分隔，以突出函数入口的开始。\n",
    "\n",
    "空行与代码缩进不同，书写时不插入空行，Python解释器运行也不会出错。但是空行的作用在于分隔两段不同功能或含义的代码，便于日后代码的维护或重构。"
   ]
  },
  {
   "cell_type": "markdown",
   "metadata": {},
   "source": [
    "## 1.5 同一行显示多条语句\n",
    "\n",
    "Python可以在同一行中使用多条语句，语句之间使用分号(;)分割。"
   ]
  },
  {
   "cell_type": "code",
   "execution_count": 31,
   "metadata": {},
   "outputs": [
    {
     "name": "stdout",
     "output_type": "stream",
     "text": [
      "run\n"
     ]
    }
   ],
   "source": [
    "import sys; x = 'run'; print(x)"
   ]
  },
  {
   "cell_type": "markdown",
   "metadata": {},
   "source": [
    "## 1.6 import 与 from...import\n",
    "\n",
    "在 python 用 import 或者 from...import 来导入相应的模块。\n",
    "\n",
    "将整个模块(somemodule)导入，格式为： import somemodule\n",
    "\n",
    "从某个模块中导入某个函数,格式为： from somemodule import somefunction\n",
    "\n",
    "从某个模块中导入多个函数,格式为： from somemodule import firstfunc, secondfunc, thirdfunc\n",
    "\n",
    "将某个模块中的全部函数导入，格式为： from somemodule import *"
   ]
  },
  {
   "cell_type": "code",
   "execution_count": 35,
   "metadata": {},
   "outputs": [
    {
     "name": "stdout",
     "output_type": "stream",
     "text": [
      "Command line arguments: \n",
      "C:\\Users\\Devon\\Anaconda3\\lib\\site-packages\\ipykernel_launcher.py\n",
      "-f\n",
      "C:\\Users\\Devon\\AppData\\Roaming\\jupyter\\runtime\\kernel-e6f2b180-0ce7-4274-96d8-badc71904218.json\n",
      "System path:  ['D:\\\\Python\\\\python-deep-learning', 'C:\\\\Users\\\\Devon\\\\Anaconda3\\\\python37.zip', 'C:\\\\Users\\\\Devon\\\\Anaconda3\\\\DLLs', 'C:\\\\Users\\\\Devon\\\\Anaconda3\\\\lib', 'C:\\\\Users\\\\Devon\\\\Anaconda3', '', 'C:\\\\Users\\\\Devon\\\\AppData\\\\Roaming\\\\Python\\\\Python37\\\\site-packages', 'C:\\\\Users\\\\Devon\\\\Anaconda3\\\\lib\\\\site-packages', 'C:\\\\Users\\\\Devon\\\\Anaconda3\\\\lib\\\\site-packages\\\\win32', 'C:\\\\Users\\\\Devon\\\\Anaconda3\\\\lib\\\\site-packages\\\\win32\\\\lib', 'C:\\\\Users\\\\Devon\\\\Anaconda3\\\\lib\\\\site-packages\\\\Pythonwin', 'C:\\\\Users\\\\Devon\\\\Anaconda3\\\\lib\\\\site-packages\\\\IPython\\\\extensions', 'C:\\\\Users\\\\Devon\\\\.ipython']\n"
     ]
    }
   ],
   "source": [
    "import sys\n",
    "print('Command line arguments: ')\n",
    "for i in sys.argv:\n",
    "    print(i)\n",
    "print('System path: ', sys.path)"
   ]
  },
  {
   "cell_type": "markdown",
   "metadata": {},
   "source": [
    "## 1.7 标识符\n",
    "\n",
    "- 第一个字符必须是字母表中字母或下划线 _ 。\n",
    "\n",
    "- 标识符的其他的部分由字母、数字和下划线组成。\n",
    "\n",
    "- 标识符对大小写敏感。"
   ]
  },
  {
   "cell_type": "markdown",
   "metadata": {},
   "source": [
    "# 2. 基本变量类型\n",
    "\n",
    "Python 中的变量不需要声明。每个变量在使用前都必须赋值，变量赋值以后该变量才会被创建。\n",
    "\n",
    "在 Python 中，变量就是变量，它没有类型，我们所说的\"类型\"是变量所指的内存中对象的类型。\n",
    "\n",
    "等号（=）用来给变量赋值。\n",
    "\n",
    "等号（=）运算符左边是一个变量名，等号（=）运算符右边是存储在变量中的值。例如："
   ]
  },
  {
   "cell_type": "markdown",
   "metadata": {},
   "source": [
    "## 标准数据类型\n",
    "\n",
    "Python3 中有六个标准的数据类型：\n",
    "\n",
    "- Number（数字）\n",
    "- String（字符串）\n",
    "- Tuple（元组）\n",
    "- List（列表）\n",
    "- Set（集合）\n",
    "- Dictionary（字典）"
   ]
  },
  {
   "cell_type": "code",
   "execution_count": 6,
   "metadata": {},
   "outputs": [
    {
     "name": "stdout",
     "output_type": "stream",
     "text": [
      "<class 'int'>\n",
      "<class 'float'>\n",
      "<class 'str'>\n"
     ]
    }
   ],
   "source": [
    "counter = 100          # 整型变量\n",
    "miles   = 1000.0       # 浮点型变量\n",
    "name    = 'python'     # 字符串\n",
    " \n",
    "print(type(counter))\n",
    "print(type(miles))\n",
    "print(type(name))"
   ]
  },
  {
   "cell_type": "markdown",
   "metadata": {},
   "source": [
    "## 2.1 数字(Number)类型\n",
    "\n",
    "Python 中数字有四种类型：整数、布尔型、浮点数和复数。\n",
    "\n",
    "- int (整数), 如 1, 只有一种整数类型 int，表示为长整型，没有 python2 中的 Long。\n",
    "- bool (布尔), 如 True。\n",
    "- float (浮点数), 如 1.23、3E-2\n",
    "- complex (复数), 如 1 + 2j、 1.1 + 2.2j"
   ]
  },
  {
   "cell_type": "markdown",
   "metadata": {},
   "source": [
    "## 2.2 字符串(String)\n",
    "\n",
    "- Python 中单引号和双引号使用完全相同。\n",
    "- 使用三引号('''或\"\"\")可以指定一个多行字符串。\n",
    "- 转义符 '\\'\n",
    "- 反斜杠可以用来转义，使用r可以让反斜杠不发生转义。。 如 r\"this is a line with \\n\" 则\\n会显示，并不是换行。\n",
    "- 按字面意义级联字符串，如\"this \" \"is \" \"string\"会被自动转换为this is string。\n",
    "- 字符串可以用 + 运算符连接在一起，用 * 运算符重复。\n",
    "- Python 中的字符串有两种索引方式，从左往右以 0 开始，从右往左以 -1 开始。\n",
    "- Python 中的字符串不能改变。\n",
    "- Python 没有单独的 char 字符类型，一个字符就是长度为 1 的字符串。\n",
    "- 字符串的截取的语法格式如下：变量[头下标:尾下标:步长]"
   ]
  },
  {
   "cell_type": "code",
   "execution_count": 42,
   "metadata": {},
   "outputs": [
    {
     "name": "stdout",
     "output_type": "stream",
     "text": [
      "This is a paragraph,\n",
      "consist of multiple lines.\n"
     ]
    }
   ],
   "source": [
    "word = 'word'\n",
    "sentence = \"sentence\"\n",
    "paragraph = \"\"\"This is a paragraph,\n",
    "consist of multiple lines.\"\"\"\n",
    "print(paragraph)"
   ]
  },
  {
   "cell_type": "code",
   "execution_count": null,
   "metadata": {},
   "outputs": [],
   "source": []
  }
 ],
 "metadata": {
  "kernelspec": {
   "display_name": "Python 3",
   "language": "python",
   "name": "python3"
  },
  "language_info": {
   "codemirror_mode": {
    "name": "ipython",
    "version": 3
   },
   "file_extension": ".py",
   "mimetype": "text/x-python",
   "name": "python",
   "nbconvert_exporter": "python",
   "pygments_lexer": "ipython3",
   "version": "3.7.3"
  }
 },
 "nbformat": 4,
 "nbformat_minor": 2
}
